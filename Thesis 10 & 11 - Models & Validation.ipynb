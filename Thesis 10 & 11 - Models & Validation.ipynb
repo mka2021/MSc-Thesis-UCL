{
 "cells": [
  {
   "cell_type": "code",
   "execution_count": 1,
   "metadata": {},
   "outputs": [],
   "source": [
    "from IPython.core.interactiveshell import InteractiveShell\n",
    "InteractiveShell.ast_node_interactivity = \"all\""
   ]
  },
  {
   "cell_type": "code",
   "execution_count": 2,
   "metadata": {},
   "outputs": [],
   "source": [
    "#pd.set_option('display.max_rows', None)  # or 1000"
   ]
  },
  {
   "cell_type": "code",
   "execution_count": 3,
   "metadata": {},
   "outputs": [],
   "source": [
    "#Import Packages\n",
    "import pandas as pd\n",
    "import numpy as np\n",
    "import sqlite3\n",
    "import matplotlib.pyplot as plt\n",
    "import networkx as nx\n",
    "from urllib import parse\n",
    "from scipy import stats\n",
    "from functools import reduce\n",
    "from pandas_profiling import ProfileReport\n",
    "import numpy as np\n",
    "import scipy.sparse\n",
    "import scipy.sparse.csgraph"
   ]
  },
  {
   "cell_type": "markdown",
   "metadata": {},
   "source": [
    "# 9 Final Trainingset incl. WebText"
   ]
  },
  {
   "cell_type": "markdown",
   "metadata": {},
   "source": [
    "Now we will read in the website text of all companies and clean the website text. As the text is received relatively clean already and an initial lit review showed there is no absolute advantage of extensive cleaning such as stemming, the author will avoid such methods.\n",
    "\n",
    "All steps will be carried out four times to prepare the four distinct training sets. \n",
    "\n",
    "Now we can also vectorize the text. In order to do this, we will do the following steps:\n",
    "\n",
    "- all to lower case\n",
    "- minimum occuring frequency: 3\n",
    "- delete all non english characters\n",
    "- allow onegrams and bigrams\n",
    "- delete stopwords from the text\n",
    "- delete all words containing numbers"
   ]
  },
  {
   "cell_type": "markdown",
   "metadata": {},
   "source": [
    "# 10 MODELS"
   ]
  },
  {
   "cell_type": "code",
   "execution_count": 4,
   "metadata": {},
   "outputs": [],
   "source": [
    "#Import Packages\n",
    "import pandas as pd\n",
    "import numpy as np\n",
    "import sqlite3\n",
    "import matplotlib.pyplot as plt\n",
    "import networkx as nx\n",
    "from urllib import parse\n",
    "from scipy import stats\n",
    "from functools import reduce\n",
    "from pandas_profiling import ProfileReport\n",
    "import numpy as np\n",
    "import scipy.sparse\n",
    "import scipy.sparse.csgraph\n",
    "\n",
    "from sklearn.feature_extraction.text import TfidfVectorizer\n",
    "from sklearn.linear_model import LogisticRegression\n",
    "from sklearn.linear_model import LinearRegression\n",
    "\n",
    "from sklearn.metrics import classification_report, confusion_matrix, accuracy_score\n",
    "import matplotlib.pyplot as plt\n",
    "import seaborn as sns\n",
    "import pandas as pd\n",
    "from sklearn.metrics import roc_auc_score\n",
    "\n",
    "from sklearn.model_selection import train_test_split\n",
    "from sklearn.naive_bayes import GaussianNB\n",
    "from sklearn.metrics import accuracy_score\n",
    "from sklearn.feature_extraction.text import TfidfTransformer\n",
    "from sklearn.naive_bayes import MultinomialNB\n",
    "\n",
    "from sklearn.ensemble import RandomForestClassifier\n",
    "from sklearn.svm import LinearSVC\n",
    "from sklearn.model_selection import cross_val_score\n",
    "\n",
    "from sklearn.pipeline import Pipeline\n",
    "from sklearn.feature_extraction.text import HashingVectorizer\n",
    "from sklearn.feature_extraction.text import CountVectorizer\n",
    "from sklearn.feature_extraction.text import TfidfTransformer \n",
    "from sklearn.dummy import DummyClassifier\n"
   ]
  },
  {
   "cell_type": "markdown",
   "metadata": {},
   "source": [
    "## 10.1 Reading in and featurizing the data"
   ]
  },
  {
   "cell_type": "markdown",
   "metadata": {},
   "source": [
    "Now we can also vectorize the text. In order to do this, we will do the following steps:\n",
    "\n",
    "    - all to lower case\n",
    "    - minimum occuring frequency: 3\n",
    "    - delete all non english characters\n",
    "    - allow onegrams and bigrams\n",
    "    - delete stopwords from the text\n",
    "    - delete all words containing numbers\n"
   ]
  },
  {
   "cell_type": "markdown",
   "metadata": {},
   "source": [
    "#### TrainingSet 1"
   ]
  },
  {
   "cell_type": "code",
   "execution_count": 5,
   "metadata": {},
   "outputs": [],
   "source": [
    "final1 = pd.read_csv('/Users/Michael/Library/Mobile Documents/com~apple~CloudDocs/Universität/UCL/Programming/MasterThesis/Data/final1.csv')\n"
   ]
  },
  {
   "cell_type": "code",
   "execution_count": 6,
   "metadata": {},
   "outputs": [
    {
     "data": {
      "text/plain": [
       "(16448, 1467517)"
      ]
     },
     "execution_count": 6,
     "metadata": {},
     "output_type": "execute_result"
    }
   ],
   "source": [
    "#convert object dtype into string\n",
    "final1['CompanyWebText'] = final1['CompanyWebText'].astype('string') #transform the column to a string\n",
    "\n",
    "#Vectorizing the dict.\n",
    "tfidf1 = TfidfVectorizer(lowercase=True, min_df=3, norm='l2', strip_accents=ascii,\n",
    "                        ngram_range=(1, 2), stop_words='english', token_pattern=r'(?u)\\b[A-Za-z]+\\b')#initiate the above mentioned steps\n",
    "\n",
    "features1 = tfidf1.fit_transform(final1.CompanyWebText)#vectorize the text\n",
    "labels1 = final1.isInnovative#create a series with the labels.\n",
    "features1.shape"
   ]
  },
  {
   "cell_type": "markdown",
   "metadata": {},
   "source": [
    "#### Trainingset 2"
   ]
  },
  {
   "cell_type": "code",
   "execution_count": 7,
   "metadata": {},
   "outputs": [],
   "source": [
    "final2 = pd.read_csv('/Users/Michael/Library/Mobile Documents/com~apple~CloudDocs/Universität/UCL/Programming/MasterThesis/Data/final2.csv')\n"
   ]
  },
  {
   "cell_type": "code",
   "execution_count": 8,
   "metadata": {},
   "outputs": [
    {
     "data": {
      "text/plain": [
       "(4445, 383461)"
      ]
     },
     "execution_count": 8,
     "metadata": {},
     "output_type": "execute_result"
    }
   ],
   "source": [
    "#convert object dtype into string\n",
    "final2['CompanyWebText'] = final2['CompanyWebText'].astype('string') #transform the column to a string\n",
    "\n",
    "#Vectorizing the dict.\n",
    "tfidf2 = TfidfVectorizer(lowercase=True, min_df=3, norm='l2', strip_accents=ascii,\n",
    "                        ngram_range=(1, 2), stop_words='english', token_pattern=r'(?u)\\b[A-Za-z]+\\b')#initiate the above mentioned steps\n",
    "\n",
    "features2 = tfidf2.fit_transform(final2.CompanyWebText)#vectorize the text\n",
    "labels2 = final2.isInnovative#create a series with the labels.\n",
    "features2.shape"
   ]
  },
  {
   "cell_type": "markdown",
   "metadata": {},
   "source": [
    "#### Trainingset 3"
   ]
  },
  {
   "cell_type": "code",
   "execution_count": 9,
   "metadata": {},
   "outputs": [],
   "source": [
    "final3 = pd.read_csv('/Users/Michael/Library/Mobile Documents/com~apple~CloudDocs/Universität/UCL/Programming/MasterThesis/Data/final3.csv')\n"
   ]
  },
  {
   "cell_type": "code",
   "execution_count": 10,
   "metadata": {},
   "outputs": [
    {
     "data": {
      "text/plain": [
       "(16299, 1448123)"
      ]
     },
     "execution_count": 10,
     "metadata": {},
     "output_type": "execute_result"
    }
   ],
   "source": [
    "#convert object dtype into string\n",
    "final3['CompanyWebText'] = final3['CompanyWebText'].astype('string') #transform the column to a string\n",
    "\n",
    "#Vectorizing the dict.\n",
    "tfidf3 = TfidfVectorizer(lowercase=True, min_df=3, norm='l2', strip_accents=ascii,\n",
    "                        ngram_range=(1, 2), stop_words='english', token_pattern=r'(?u)\\b[A-Za-z]+\\b')#initiate the above mentioned steps\n",
    "\n",
    "features3 = tfidf3.fit_transform(final3.CompanyWebText)#vectorize the text\n",
    "labels3 = final3.isInnovative#create a series with the labels.\n",
    "features3.shape"
   ]
  },
  {
   "cell_type": "markdown",
   "metadata": {},
   "source": [
    "#### Trainingset 4"
   ]
  },
  {
   "cell_type": "code",
   "execution_count": 42,
   "metadata": {},
   "outputs": [],
   "source": [
    "final4 = pd.read_csv('/Users/Michael/Library/Mobile Documents/com~apple~CloudDocs/Universität/UCL/Programming/MasterThesis/Data/final4.csv')\n"
   ]
  },
  {
   "cell_type": "code",
   "execution_count": 43,
   "metadata": {},
   "outputs": [
    {
     "data": {
      "text/plain": [
       "(29860, 2403736)"
      ]
     },
     "execution_count": 43,
     "metadata": {},
     "output_type": "execute_result"
    }
   ],
   "source": [
    "#convert object dtype into string\n",
    "final4['CompanyWebText'] = final4['CompanyWebText'].astype('string') #transform the column to a string\n",
    "\n",
    "#Vectorizing the dict.\n",
    "tfidf4 = TfidfVectorizer(lowercase=True, min_df=3, norm='l2', strip_accents=ascii,\n",
    "                        ngram_range=(1, 2), stop_words='english', token_pattern=r'(?u)\\b[A-Za-z]+\\b')#initiate the above mentioned steps\n",
    "\n",
    "features4 = tfidf4.fit_transform(final4.CompanyWebText)#vectorize the text\n",
    "labels4 = final4.isInnovative#create a series with the labels.\n",
    "features4.shape"
   ]
  },
  {
   "cell_type": "markdown",
   "metadata": {},
   "source": [
    "## 10.2 Initial Model Selection\n",
    "\n",
    "I will only choose linear models and Random Forest. The reasoning behind is, that we have a trade-off between explainability to endusers, speed and accuracy. By choosing an approach which is explainable and quick to run, we will have to accept lower accuracy.\n",
    "\n",
    "To simplify the approach, I will use the TrainingSet1 to select the models and not run the initial comparison on all models."
   ]
  },
  {
   "cell_type": "code",
   "execution_count": 13,
   "metadata": {},
   "outputs": [
    {
     "data": {
      "text/plain": [
       "<matplotlib.axes._subplots.AxesSubplot at 0x7fc442b05610>"
      ]
     },
     "execution_count": 13,
     "metadata": {},
     "output_type": "execute_result"
    },
    {
     "data": {
      "text/plain": [
       "<matplotlib.axes._subplots.AxesSubplot at 0x7fc442b05610>"
      ]
     },
     "execution_count": 13,
     "metadata": {},
     "output_type": "execute_result"
    },
    {
     "data": {
      "image/png": "[encoded data removed]",
      "text/plain": [
       "<Figure size 432x288 with 1 Axes>"
      ]
     },
     "metadata": {
      "needs_background": "light"
     },
     "output_type": "display_data"
    }
   ],
   "source": [
    "#test various models and how they do on a simple basis\n",
    "models = [\n",
    "    RandomForestClassifier(n_estimators=5, max_depth=3, random_state=0),\n",
    "    LinearSVC(),\n",
    "    MultinomialNB(),\n",
    "    LogisticRegression(random_state=0),\n",
    "]\n",
    "\n",
    "CV = 5\n",
    "cv_df = pd.DataFrame(index=range(CV * len(models)))\n",
    "entries = []\n",
    "\n",
    "for model in models:#for loop to go through the models\n",
    "    model_name = model.__class__.__name__\n",
    "    accuracies = cross_val_score(model, features1, labels1, scoring='accuracy', cv=CV)\n",
    "    for fold_idx, accuracy in enumerate(accuracies):\n",
    "        entries.append((model_name, fold_idx, accuracy))\n",
    "\n",
    "cv_df = pd.DataFrame(entries, columns=['model_name', 'fold_idx', 'accuracy'])\n",
    "\n",
    "#visualize how high the accuracy of each model is\n",
    "sns.boxplot(x='model_name', y='accuracy', data=cv_df)\n",
    "sns.stripplot(x='model_name', y='accuracy', data=cv_df, \n",
    "              size=8, jitter=True, edgecolor=\"gray\", linewidth=2)\n",
    "plt.show()"
   ]
  },
  {
   "cell_type": "markdown",
   "metadata": {},
   "source": [
    "Thi simple text (without adapting the models) shows that Linear SVC and Logistic Regression seem the bost promising with an average accuracy of 82% and 81% respectively. We will look further into these and work on these.\n",
    "\n",
    "The baseline model will be the uniform random guessing from sklearn"
   ]
  },
  {
   "cell_type": "code",
   "execution_count": null,
   "metadata": {},
   "outputs": [],
   "source": []
  },
  {
   "cell_type": "markdown",
   "metadata": {},
   "source": [
    "## 10.3 Baseline model"
   ]
  },
  {
   "cell_type": "markdown",
   "metadata": {},
   "source": [
    "#### TrainingSet1 prep for baseline model"
   ]
  },
  {
   "cell_type": "code",
   "execution_count": 14,
   "metadata": {},
   "outputs": [],
   "source": [
    "X_train1, X_test1, y_train1, y_test1, indices_train1, indices_test1 = train_test_split(features1,\n",
    "                                                                                       labels1,\n",
    "                                                                                       final1.index,\n",
    "                                                                                       test_size=0.33,\n",
    "                                                                                       random_state=0)"
   ]
  },
  {
   "cell_type": "code",
   "execution_count": 15,
   "metadata": {},
   "outputs": [
    {
     "data": {
      "text/plain": [
       "DummyClassifier(random_state=0, strategy='most_frequent')"
      ]
     },
     "execution_count": 15,
     "metadata": {},
     "output_type": "execute_result"
    },
    {
     "data": {
      "text/plain": [
       "0.5571112748710391"
      ]
     },
     "execution_count": 15,
     "metadata": {},
     "output_type": "execute_result"
    }
   ],
   "source": [
    "dummy1 = DummyClassifier(strategy='most_frequent', random_state=0)\n",
    "dummy1.fit(X_train1, y_train1)\n",
    "dummy1.score(X_test1, y_test1)"
   ]
  },
  {
   "cell_type": "code",
   "execution_count": 16,
   "metadata": {},
   "outputs": [],
   "source": [
    "baseline1 = dummy1.score(X_test1, y_test1)"
   ]
  },
  {
   "cell_type": "markdown",
   "metadata": {},
   "source": [
    "#### TrainingSet 2"
   ]
  },
  {
   "cell_type": "code",
   "execution_count": 17,
   "metadata": {},
   "outputs": [],
   "source": [
    "X_train2, X_test2, y_train2, y_test2, indices_train2, indices_test2 = train_test_split(features2,\n",
    "                                                                                       labels2,\n",
    "                                                                                       final2.index,\n",
    "                                                                                       test_size=0.33,\n",
    "                                                                                       random_state=0)"
   ]
  },
  {
   "cell_type": "code",
   "execution_count": 18,
   "metadata": {},
   "outputs": [
    {
     "data": {
      "text/plain": [
       "DummyClassifier(random_state=0, strategy='most_frequent')"
      ]
     },
     "execution_count": 18,
     "metadata": {},
     "output_type": "execute_result"
    },
    {
     "data": {
      "text/plain": [
       "0.6823449216087253"
      ]
     },
     "execution_count": 18,
     "metadata": {},
     "output_type": "execute_result"
    }
   ],
   "source": [
    "dummy2 = DummyClassifier(strategy='most_frequent', random_state=0)\n",
    "dummy2.fit(X_train2, y_train2)\n",
    "dummy2.score(X_test2, y_test2)"
   ]
  },
  {
   "cell_type": "code",
   "execution_count": 19,
   "metadata": {},
   "outputs": [],
   "source": [
    "baseline2 = dummy2.score(X_test2, y_test2)"
   ]
  },
  {
   "cell_type": "markdown",
   "metadata": {},
   "source": [
    "#### TrainingSet 3"
   ]
  },
  {
   "cell_type": "code",
   "execution_count": 20,
   "metadata": {},
   "outputs": [],
   "source": [
    "X_train3, X_test3, y_train3, y_test3, indices_train3, indices_test3 = train_test_split(features3,\n",
    "                                                                                       labels3,\n",
    "                                                                                       final3.index,\n",
    "                                                                                       test_size=0.33,\n",
    "                                                                                       random_state=0)"
   ]
  },
  {
   "cell_type": "code",
   "execution_count": 21,
   "metadata": {},
   "outputs": [
    {
     "data": {
      "text/plain": [
       "DummyClassifier(random_state=0, strategy='most_frequent')"
      ]
     },
     "execution_count": 21,
     "metadata": {},
     "output_type": "execute_result"
    },
    {
     "data": {
      "text/plain": [
       "0.9081613682840677"
      ]
     },
     "execution_count": 21,
     "metadata": {},
     "output_type": "execute_result"
    }
   ],
   "source": [
    "dummy3 = DummyClassifier(strategy='most_frequent', random_state=0)\n",
    "dummy3.fit(X_train3, y_train3)\n",
    "dummy3.score(X_test3, y_test3)"
   ]
  },
  {
   "cell_type": "code",
   "execution_count": 22,
   "metadata": {},
   "outputs": [],
   "source": [
    "baseline3 = dummy3.score(X_test3, y_test3)"
   ]
  },
  {
   "cell_type": "markdown",
   "metadata": {},
   "source": [
    "#### TrainingSet 4"
   ]
  },
  {
   "cell_type": "code",
   "execution_count": 44,
   "metadata": {},
   "outputs": [],
   "source": [
    "X_train4, X_test4, y_train4, y_test4, indices_train4, indices_test4 = train_test_split(features4,\n",
    "                                                                                       labels4,\n",
    "                                                                                       final4.index,\n",
    "                                                                                       test_size=0.33,\n",
    "                                                                                       random_state=0)"
   ]
  },
  {
   "cell_type": "code",
   "execution_count": 45,
   "metadata": {},
   "outputs": [
    {
     "data": {
      "text/plain": [
       "DummyClassifier(random_state=0, strategy='most_frequent')"
      ]
     },
     "execution_count": 45,
     "metadata": {},
     "output_type": "execute_result"
    },
    {
     "data": {
      "text/plain": [
       "0.508727420336919"
      ]
     },
     "execution_count": 45,
     "metadata": {},
     "output_type": "execute_result"
    }
   ],
   "source": [
    "dummy4 = DummyClassifier(strategy='most_frequent', random_state=0)\n",
    "dummy4.fit(X_train4, y_train4)\n",
    "dummy4.score(X_test4, y_test4)"
   ]
  },
  {
   "cell_type": "code",
   "execution_count": 46,
   "metadata": {},
   "outputs": [],
   "source": [
    "baseline4 = dummy4.score(X_test4, y_test4)"
   ]
  },
  {
   "cell_type": "markdown",
   "metadata": {},
   "source": [
    "## 10.3 Linear Support Vector Classification Algorithm"
   ]
  },
  {
   "cell_type": "markdown",
   "metadata": {},
   "source": [
    "#### TrainingSet1"
   ]
  },
  {
   "cell_type": "code",
   "execution_count": 26,
   "metadata": {},
   "outputs": [
    {
     "data": {
      "text/plain": [
       "LinearSVC()"
      ]
     },
     "execution_count": 26,
     "metadata": {},
     "output_type": "execute_result"
    },
    {
     "data": {
      "text/plain": [
       "<matplotlib.axes._subplots.AxesSubplot at 0x7fc447e99250>"
      ]
     },
     "execution_count": 26,
     "metadata": {},
     "output_type": "execute_result"
    },
    {
     "data": {
      "text/plain": [
       "Text(69.0, 0.5, 'Actual')"
      ]
     },
     "execution_count": 26,
     "metadata": {},
     "output_type": "execute_result"
    },
    {
     "data": {
      "text/plain": [
       "Text(0.5, 69.0, 'Predicted')"
      ]
     },
     "execution_count": 26,
     "metadata": {},
     "output_type": "execute_result"
    },
    {
     "data": {
      "image/png": "[encoded data removed]",
      "text/plain": [
       "<Figure size 720x720 with 2 Axes>"
      ]
     },
     "metadata": {
      "needs_background": "light"
     },
     "output_type": "display_data"
    }
   ],
   "source": [
    "model1 = LinearSVC()#assign the model\n",
    "\n",
    "model1.fit(X_train1, y_train1)#fit the model\n",
    "\n",
    "y_pred1 = model1.predict(X_test1)#predict\n",
    "\n",
    "#Create a confusion matrics with TP/TN/FP/FN\n",
    "conf_mat1 = confusion_matrix(y_test1, y_pred1)\n",
    "\n",
    "fig, ax = plt.subplots(figsize=(10,10))\n",
    "sns.heatmap(conf_mat1, annot=True, fmt='d')\n",
    "plt.ylabel('Actual')\n",
    "plt.xlabel('Predicted')\n",
    "plt.show()"
   ]
  },
  {
   "cell_type": "code",
   "execution_count": 27,
   "metadata": {},
   "outputs": [
    {
     "name": "stdout",
     "output_type": "stream",
     "text": [
      "AUC: 0.801\n"
     ]
    }
   ],
   "source": [
    "auc1 = roc_auc_score(y_test1, y_pred1)\n",
    "print('AUC: %.3f' % auc1)\n",
    "\n",
    "#we got an AUC of 86.3%. Pretty sweet."
   ]
  },
  {
   "cell_type": "code",
   "execution_count": 28,
   "metadata": {},
   "outputs": [
    {
     "data": {
      "text/html": [
       "<div>\n",
       "<style scoped>\n",
       "    .dataframe tbody tr th:only-of-type {\n",
       "        vertical-align: middle;\n",
       "    }\n",
       "\n",
       "    .dataframe tbody tr th {\n",
       "        vertical-align: top;\n",
       "    }\n",
       "\n",
       "    .dataframe thead th {\n",
       "        text-align: right;\n",
       "    }\n",
       "</style>\n",
       "<table border=\"1\" class=\"dataframe\">\n",
       "  <thead>\n",
       "    <tr style=\"text-align: right;\">\n",
       "      <th></th>\n",
       "      <th>words_linearSVC_1</th>\n",
       "    </tr>\n",
       "  </thead>\n",
       "  <tbody>\n",
       "    <tr>\n",
       "      <th>contact</th>\n",
       "      <td>1.184037</td>\n",
       "    </tr>\n",
       "    <tr>\n",
       "      <th>new</th>\n",
       "      <td>1.241333</td>\n",
       "    </tr>\n",
       "    <tr>\n",
       "      <th>home</th>\n",
       "      <td>1.285718</td>\n",
       "    </tr>\n",
       "    <tr>\n",
       "      <th>uk</th>\n",
       "      <td>1.313027</td>\n",
       "    </tr>\n",
       "    <tr>\n",
       "      <th>s</th>\n",
       "      <td>1.333946</td>\n",
       "    </tr>\n",
       "    <tr>\n",
       "      <th>...</th>\n",
       "      <td>...</td>\n",
       "    </tr>\n",
       "    <tr>\n",
       "      <th>portfolio breadth</th>\n",
       "      <td>9.321726</td>\n",
       "    </tr>\n",
       "    <tr>\n",
       "      <th>portfolio bring</th>\n",
       "      <td>9.321726</td>\n",
       "    </tr>\n",
       "    <tr>\n",
       "      <th>born died</th>\n",
       "      <td>9.321726</td>\n",
       "    </tr>\n",
       "    <tr>\n",
       "      <th>portfolio apply</th>\n",
       "      <td>9.321726</td>\n",
       "    </tr>\n",
       "    <tr>\n",
       "      <th>buildings oxford</th>\n",
       "      <td>9.321726</td>\n",
       "    </tr>\n",
       "  </tbody>\n",
       "</table>\n",
       "<p>1467517 rows × 1 columns</p>\n",
       "</div>"
      ],
      "text/plain": [
       "                   words_linearSVC_1\n",
       "contact                     1.184037\n",
       "new                         1.241333\n",
       "home                        1.285718\n",
       "uk                          1.313027\n",
       "s                           1.333946\n",
       "...                              ...\n",
       "portfolio breadth           9.321726\n",
       "portfolio bring             9.321726\n",
       "born died                   9.321726\n",
       "portfolio apply             9.321726\n",
       "buildings oxford            9.321726\n",
       "\n",
       "[1467517 rows x 1 columns]"
      ]
     },
     "execution_count": 28,
     "metadata": {},
     "output_type": "execute_result"
    }
   ],
   "source": [
    "# print values and their importance\n",
    "words_linearSVC1 = pd.DataFrame(tfidf1.idf_, index=tfidf1.get_feature_names(),columns=[\"words_linearSVC_1\"]) \n",
    " \n",
    "# sort ascending \n",
    "words_linearSVC1.sort_values(by=['words_linearSVC_1'])"
   ]
  },
  {
   "cell_type": "code",
   "execution_count": 29,
   "metadata": {},
   "outputs": [],
   "source": [
    "words_linearSVC_1 = words_linearSVC1.sort_values(by=['words_linearSVC_1'], ascending=False).head(20)"
   ]
  },
  {
   "cell_type": "code",
   "execution_count": null,
   "metadata": {},
   "outputs": [],
   "source": []
  },
  {
   "cell_type": "markdown",
   "metadata": {},
   "source": [
    "from sklearn.svm import LinearSVC\n",
    "from sklearn.calibration import CalibratedClassifierCV\n",
    "\n",
    "model = CalibratedClassifierCV(LinearSVC())\n",
    "model.fit(X_train, y_train)#fit the model\n",
    "y_pred = model.predict(X_test)#predict\n",
    "\n",
    "#Create a confusion matrics with TP/TN/FP/FN\n",
    "conf_mat = confusion_matrix(y_test, y_pred)\n",
    "\n",
    "fig, ax = plt.subplots(figsize=(10,10))\n",
    "sns.heatmap(conf_mat, annot=True, fmt='d')\n",
    "plt.ylabel('Actual')\n",
    "plt.xlabel('Predicted')\n",
    "plt.show()"
   ]
  },
  {
   "cell_type": "markdown",
   "metadata": {},
   "source": [
    "model = LinearSVC()#assign the model\n",
    "\n",
    "model.fit(X_train, y_train)#fit the model\n",
    "\n",
    "y_pred = model.predict_proba(X_test)#predict"
   ]
  },
  {
   "cell_type": "code",
   "execution_count": null,
   "metadata": {},
   "outputs": [],
   "source": []
  },
  {
   "cell_type": "code",
   "execution_count": null,
   "metadata": {},
   "outputs": [],
   "source": []
  },
  {
   "cell_type": "markdown",
   "metadata": {},
   "source": [
    "#### TrainingSet2"
   ]
  },
  {
   "cell_type": "code",
   "execution_count": 31,
   "metadata": {},
   "outputs": [
    {
     "data": {
      "text/plain": [
       "LinearSVC()"
      ]
     },
     "execution_count": 31,
     "metadata": {},
     "output_type": "execute_result"
    },
    {
     "data": {
      "text/plain": [
       "<matplotlib.axes._subplots.AxesSubplot at 0x7fc60e58c700>"
      ]
     },
     "execution_count": 31,
     "metadata": {},
     "output_type": "execute_result"
    },
    {
     "data": {
      "text/plain": [
       "Text(69.0, 0.5, 'Actual')"
      ]
     },
     "execution_count": 31,
     "metadata": {},
     "output_type": "execute_result"
    },
    {
     "data": {
      "text/plain": [
       "Text(0.5, 69.0, 'Predicted')"
      ]
     },
     "execution_count": 31,
     "metadata": {},
     "output_type": "execute_result"
    },
    {
     "data": {
      "image/png": "[encoded data removed]",
      "text/plain": [
       "<Figure size 720x720 with 2 Axes>"
      ]
     },
     "metadata": {
      "needs_background": "light"
     },
     "output_type": "display_data"
    }
   ],
   "source": [
    "model2 = LinearSVC()#assign the model\n",
    "\n",
    "model2.fit(X_train2, y_train2)#fit the model\n",
    "\n",
    "y_pred2 = model2.predict(X_test2)#predict\n",
    "\n",
    "#Create a confusion matrics with TP/TN/FP/FN\n",
    "conf_mat2 = confusion_matrix(y_test2, y_pred2)\n",
    "\n",
    "fig, ax = plt.subplots(figsize=(10,10))\n",
    "sns.heatmap(conf_mat2, annot=True, fmt='d')\n",
    "plt.ylabel('Actual')\n",
    "plt.xlabel('Predicted')\n",
    "plt.show()"
   ]
  },
  {
   "cell_type": "code",
   "execution_count": 32,
   "metadata": {},
   "outputs": [
    {
     "name": "stdout",
     "output_type": "stream",
     "text": [
      "AUC: 0.821\n"
     ]
    }
   ],
   "source": [
    "auc2 = roc_auc_score(y_test2, y_pred2)\n",
    "print('AUC: %.3f' % auc2)\n",
    "\n",
    "#we got an AUC of 82.1%. Pretty sweet."
   ]
  },
  {
   "cell_type": "code",
   "execution_count": 33,
   "metadata": {},
   "outputs": [
    {
     "data": {
      "text/html": [
       "<div>\n",
       "<style scoped>\n",
       "    .dataframe tbody tr th:only-of-type {\n",
       "        vertical-align: middle;\n",
       "    }\n",
       "\n",
       "    .dataframe tbody tr th {\n",
       "        vertical-align: top;\n",
       "    }\n",
       "\n",
       "    .dataframe thead th {\n",
       "        text-align: right;\n",
       "    }\n",
       "</style>\n",
       "<table border=\"1\" class=\"dataframe\">\n",
       "  <thead>\n",
       "    <tr style=\"text-align: right;\">\n",
       "      <th></th>\n",
       "      <th>words_linearSVC_2</th>\n",
       "    </tr>\n",
       "  </thead>\n",
       "  <tbody>\n",
       "    <tr>\n",
       "      <th>contact</th>\n",
       "      <td>1.219439</td>\n",
       "    </tr>\n",
       "    <tr>\n",
       "      <th>new</th>\n",
       "      <td>1.269112</td>\n",
       "    </tr>\n",
       "    <tr>\n",
       "      <th>uk</th>\n",
       "      <td>1.335124</td>\n",
       "    </tr>\n",
       "    <tr>\n",
       "      <th>home</th>\n",
       "      <td>1.337012</td>\n",
       "    </tr>\n",
       "    <tr>\n",
       "      <th>use</th>\n",
       "      <td>1.351291</td>\n",
       "    </tr>\n",
       "    <tr>\n",
       "      <th>...</th>\n",
       "      <td>...</td>\n",
       "    </tr>\n",
       "    <tr>\n",
       "      <th>requirements prices</th>\n",
       "      <td>8.013466</td>\n",
       "    </tr>\n",
       "    <tr>\n",
       "      <th>home bristol</th>\n",
       "      <td>8.013466</td>\n",
       "    </tr>\n",
       "    <tr>\n",
       "      <th>requirements problem</th>\n",
       "      <td>8.013466</td>\n",
       "    </tr>\n",
       "    <tr>\n",
       "      <th>requirements plant</th>\n",
       "      <td>8.013466</td>\n",
       "    </tr>\n",
       "    <tr>\n",
       "      <th>campaigns press</th>\n",
       "      <td>8.013466</td>\n",
       "    </tr>\n",
       "  </tbody>\n",
       "</table>\n",
       "<p>383461 rows × 1 columns</p>\n",
       "</div>"
      ],
      "text/plain": [
       "                      words_linearSVC_2\n",
       "contact                        1.219439\n",
       "new                            1.269112\n",
       "uk                             1.335124\n",
       "home                           1.337012\n",
       "use                            1.351291\n",
       "...                                 ...\n",
       "requirements prices            8.013466\n",
       "home bristol                   8.013466\n",
       "requirements problem           8.013466\n",
       "requirements plant             8.013466\n",
       "campaigns press                8.013466\n",
       "\n",
       "[383461 rows x 1 columns]"
      ]
     },
     "execution_count": 33,
     "metadata": {},
     "output_type": "execute_result"
    }
   ],
   "source": [
    "# print values and their importance\n",
    "words_linearSVC2 = pd.DataFrame(tfidf2.idf_, index=tfidf2.get_feature_names(),columns=[\"words_linearSVC_2\"]) \n",
    " \n",
    "# sort ascending \n",
    "words_linearSVC2.sort_values(by=['words_linearSVC_2'])"
   ]
  },
  {
   "cell_type": "code",
   "execution_count": 34,
   "metadata": {},
   "outputs": [],
   "source": [
    "words_linearSVC_2 = words_linearSVC2.sort_values(by=['words_linearSVC_2'], ascending=False).head(20)"
   ]
  },
  {
   "cell_type": "markdown",
   "metadata": {},
   "source": [
    "#### TrainingSet3"
   ]
  },
  {
   "cell_type": "code",
   "execution_count": 35,
   "metadata": {},
   "outputs": [
    {
     "data": {
      "text/plain": [
       "LinearSVC()"
      ]
     },
     "execution_count": 35,
     "metadata": {},
     "output_type": "execute_result"
    },
    {
     "data": {
      "text/plain": [
       "<matplotlib.axes._subplots.AxesSubplot at 0x7fc421027d90>"
      ]
     },
     "execution_count": 35,
     "metadata": {},
     "output_type": "execute_result"
    },
    {
     "data": {
      "text/plain": [
       "Text(69.0, 0.5, 'Actual')"
      ]
     },
     "execution_count": 35,
     "metadata": {},
     "output_type": "execute_result"
    },
    {
     "data": {
      "text/plain": [
       "Text(0.5, 69.0, 'Predicted')"
      ]
     },
     "execution_count": 35,
     "metadata": {},
     "output_type": "execute_result"
    },
    {
     "data": {
      "image/png": "[encoded data removed]",
      "text/plain": [
       "<Figure size 720x720 with 2 Axes>"
      ]
     },
     "metadata": {
      "needs_background": "light"
     },
     "output_type": "display_data"
    }
   ],
   "source": [
    "model3 = LinearSVC()#assign the model\n",
    "\n",
    "model3.fit(X_train3, y_train3)#fit the model\n",
    "\n",
    "y_pred3 = model3.predict(X_test3)#predict\n",
    "\n",
    "#Create a confusion matrics with TP/TN/FP/FN\n",
    "conf_mat3 = confusion_matrix(y_test3, y_pred3)\n",
    "\n",
    "fig, ax = plt.subplots(figsize=(10,10))\n",
    "sns.heatmap(conf_mat3, annot=True, fmt='d')\n",
    "plt.ylabel('Actual')\n",
    "plt.xlabel('Predicted')\n",
    "plt.show()"
   ]
  },
  {
   "cell_type": "code",
   "execution_count": 36,
   "metadata": {},
   "outputs": [
    {
     "name": "stdout",
     "output_type": "stream",
     "text": [
      "AUC: 0.610\n"
     ]
    }
   ],
   "source": [
    "auc3 = roc_auc_score(y_test3, y_pred3)\n",
    "print('AUC: %.3f' % auc3)\n",
    "\n",
    "#we got an AUC of 86.3%. Pretty sweet."
   ]
  },
  {
   "cell_type": "code",
   "execution_count": 37,
   "metadata": {},
   "outputs": [
    {
     "data": {
      "text/html": [
       "<div>\n",
       "<style scoped>\n",
       "    .dataframe tbody tr th:only-of-type {\n",
       "        vertical-align: middle;\n",
       "    }\n",
       "\n",
       "    .dataframe tbody tr th {\n",
       "        vertical-align: top;\n",
       "    }\n",
       "\n",
       "    .dataframe thead th {\n",
       "        text-align: right;\n",
       "    }\n",
       "</style>\n",
       "<table border=\"1\" class=\"dataframe\">\n",
       "  <thead>\n",
       "    <tr style=\"text-align: right;\">\n",
       "      <th></th>\n",
       "      <th>words_linearSVC_3</th>\n",
       "    </tr>\n",
       "  </thead>\n",
       "  <tbody>\n",
       "    <tr>\n",
       "      <th>contact</th>\n",
       "      <td>1.211176</td>\n",
       "    </tr>\n",
       "    <tr>\n",
       "      <th>new</th>\n",
       "      <td>1.269605</td>\n",
       "    </tr>\n",
       "    <tr>\n",
       "      <th>home</th>\n",
       "      <td>1.302515</td>\n",
       "    </tr>\n",
       "    <tr>\n",
       "      <th>time</th>\n",
       "      <td>1.346473</td>\n",
       "    </tr>\n",
       "    <tr>\n",
       "      <th>uk</th>\n",
       "      <td>1.350385</td>\n",
       "    </tr>\n",
       "    <tr>\n",
       "      <th>...</th>\n",
       "      <td>...</td>\n",
       "    </tr>\n",
       "    <tr>\n",
       "      <th>representation marketing</th>\n",
       "      <td>9.312626</td>\n",
       "    </tr>\n",
       "    <tr>\n",
       "      <th>representation major</th>\n",
       "      <td>9.312626</td>\n",
       "    </tr>\n",
       "    <tr>\n",
       "      <th>representation information</th>\n",
       "      <td>9.312626</td>\n",
       "    </tr>\n",
       "    <tr>\n",
       "      <th>representation help</th>\n",
       "      <td>9.312626</td>\n",
       "    </tr>\n",
       "    <tr>\n",
       "      <th>senior payroll</th>\n",
       "      <td>9.312626</td>\n",
       "    </tr>\n",
       "  </tbody>\n",
       "</table>\n",
       "<p>1448123 rows × 1 columns</p>\n",
       "</div>"
      ],
      "text/plain": [
       "                            words_linearSVC_3\n",
       "contact                              1.211176\n",
       "new                                  1.269605\n",
       "home                                 1.302515\n",
       "time                                 1.346473\n",
       "uk                                   1.350385\n",
       "...                                       ...\n",
       "representation marketing             9.312626\n",
       "representation major                 9.312626\n",
       "representation information           9.312626\n",
       "representation help                  9.312626\n",
       "senior payroll                       9.312626\n",
       "\n",
       "[1448123 rows x 1 columns]"
      ]
     },
     "execution_count": 37,
     "metadata": {},
     "output_type": "execute_result"
    }
   ],
   "source": [
    "# print values and their importance\n",
    "words_linearSVC3 = pd.DataFrame(tfidf3.idf_, index=tfidf3.get_feature_names(),columns=[\"words_linearSVC_3\"]) \n",
    " \n",
    "# sort ascending \n",
    "words_linearSVC3.sort_values(by=['words_linearSVC_3'])"
   ]
  },
  {
   "cell_type": "code",
   "execution_count": 38,
   "metadata": {},
   "outputs": [],
   "source": [
    "words_linearSVC_3 = words_linearSVC3.sort_values(by=['words_linearSVC_3'], ascending=False).head(20)"
   ]
  },
  {
   "cell_type": "markdown",
   "metadata": {},
   "source": [
    "#### TrainingSet4"
   ]
  },
  {
   "cell_type": "code",
   "execution_count": 47,
   "metadata": {},
   "outputs": [
    {
     "data": {
      "text/plain": [
       "LinearSVC()"
      ]
     },
     "execution_count": 47,
     "metadata": {},
     "output_type": "execute_result"
    },
    {
     "data": {
      "text/plain": [
       "<matplotlib.axes._subplots.AxesSubplot at 0x7fc461d54250>"
      ]
     },
     "execution_count": 47,
     "metadata": {},
     "output_type": "execute_result"
    },
    {
     "data": {
      "text/plain": [
       "Text(69.0, 0.5, 'Actual')"
      ]
     },
     "execution_count": 47,
     "metadata": {},
     "output_type": "execute_result"
    },
    {
     "data": {
      "text/plain": [
       "Text(0.5, 69.0, 'Predicted')"
      ]
     },
     "execution_count": 47,
     "metadata": {},
     "output_type": "execute_result"
    },
    {
     "data": {
      "image/png": "[encoded data removed]",
      "text/plain": [
       "<Figure size 720x720 with 2 Axes>"
      ]
     },
     "metadata": {
      "needs_background": "light"
     },
     "output_type": "display_data"
    }
   ],
   "source": [
    "model4 = LinearSVC()#assign the model\n",
    "\n",
    "model4.fit(X_train4, y_train4)#fit the model\n",
    "\n",
    "y_pred4 = model4.predict(X_test4)#predict\n",
    "\n",
    "#Create a confusion matrics with TP/TN/FP/FN\n",
    "conf_mat4 = confusion_matrix(y_test4, y_pred4)\n",
    "\n",
    "fig, ax = plt.subplots(figsize=(10,10))\n",
    "sns.heatmap(conf_mat4, annot=True, fmt='d')\n",
    "plt.ylabel('Actual')\n",
    "plt.xlabel('Predicted')\n",
    "plt.show()"
   ]
  },
  {
   "cell_type": "code",
   "execution_count": 48,
   "metadata": {},
   "outputs": [
    {
     "name": "stdout",
     "output_type": "stream",
     "text": [
      "AUC: 0.781\n"
     ]
    }
   ],
   "source": [
    "auc4 = roc_auc_score(y_test4, y_pred4)\n",
    "print('AUC: %.3f' % auc4)\n",
    "\n",
    "#we got an AUC of 86.3%. Pretty sweet."
   ]
  },
  {
   "cell_type": "code",
   "execution_count": 49,
   "metadata": {},
   "outputs": [
    {
     "data": {
      "text/html": [
       "<div>\n",
       "<style scoped>\n",
       "    .dataframe tbody tr th:only-of-type {\n",
       "        vertical-align: middle;\n",
       "    }\n",
       "\n",
       "    .dataframe tbody tr th {\n",
       "        vertical-align: top;\n",
       "    }\n",
       "\n",
       "    .dataframe thead th {\n",
       "        text-align: right;\n",
       "    }\n",
       "</style>\n",
       "<table border=\"1\" class=\"dataframe\">\n",
       "  <thead>\n",
       "    <tr style=\"text-align: right;\">\n",
       "      <th></th>\n",
       "      <th>words_linearSVC_4</th>\n",
       "    </tr>\n",
       "  </thead>\n",
       "  <tbody>\n",
       "    <tr>\n",
       "      <th>contact</th>\n",
       "      <td>1.163932</td>\n",
       "    </tr>\n",
       "    <tr>\n",
       "      <th>home</th>\n",
       "      <td>1.256331</td>\n",
       "    </tr>\n",
       "    <tr>\n",
       "      <th>new</th>\n",
       "      <td>1.262495</td>\n",
       "    </tr>\n",
       "    <tr>\n",
       "      <th>uk</th>\n",
       "      <td>1.314919</td>\n",
       "    </tr>\n",
       "    <tr>\n",
       "      <th>email</th>\n",
       "      <td>1.338175</td>\n",
       "    </tr>\n",
       "    <tr>\n",
       "      <th>...</th>\n",
       "      <td>...</td>\n",
       "    </tr>\n",
       "    <tr>\n",
       "      <th>arrangements field</th>\n",
       "      <td>9.918014</td>\n",
       "    </tr>\n",
       "    <tr>\n",
       "      <th>arrangements feedback</th>\n",
       "      <td>9.918014</td>\n",
       "    </tr>\n",
       "    <tr>\n",
       "      <th>fileshare</th>\n",
       "      <td>9.918014</td>\n",
       "    </tr>\n",
       "    <tr>\n",
       "      <th>files xml</th>\n",
       "      <td>9.918014</td>\n",
       "    </tr>\n",
       "    <tr>\n",
       "      <th>building incorporated</th>\n",
       "      <td>9.918014</td>\n",
       "    </tr>\n",
       "  </tbody>\n",
       "</table>\n",
       "<p>2403736 rows × 1 columns</p>\n",
       "</div>"
      ],
      "text/plain": [
       "                       words_linearSVC_4\n",
       "contact                         1.163932\n",
       "home                            1.256331\n",
       "new                             1.262495\n",
       "uk                              1.314919\n",
       "email                           1.338175\n",
       "...                                  ...\n",
       "arrangements field              9.918014\n",
       "arrangements feedback           9.918014\n",
       "fileshare                       9.918014\n",
       "files xml                       9.918014\n",
       "building incorporated           9.918014\n",
       "\n",
       "[2403736 rows x 1 columns]"
      ]
     },
     "execution_count": 49,
     "metadata": {},
     "output_type": "execute_result"
    }
   ],
   "source": [
    "# print values and their importance\n",
    "words_linearSVC4 = pd.DataFrame(tfidf4.idf_, index=tfidf4.get_feature_names(),columns=[\"words_linearSVC_4\"]) \n",
    " \n",
    "# sort ascending \n",
    "words_linearSVC4.sort_values(by=['words_linearSVC_4'])"
   ]
  },
  {
   "cell_type": "code",
   "execution_count": 50,
   "metadata": {},
   "outputs": [],
   "source": [
    "words_linearSVC_4 = words_linearSVC4.sort_values(by=['words_linearSVC_4'], ascending=False).head(20)"
   ]
  },
  {
   "cell_type": "markdown",
   "metadata": {},
   "source": [
    "## 10.3 Logistic Regression Model"
   ]
  },
  {
   "cell_type": "markdown",
   "metadata": {},
   "source": [
    "#### TrainingSet1"
   ]
  },
  {
   "cell_type": "code",
   "execution_count": 51,
   "metadata": {},
   "outputs": [
    {
     "data": {
      "text/plain": [
       "LogisticRegression()"
      ]
     },
     "execution_count": 51,
     "metadata": {},
     "output_type": "execute_result"
    },
    {
     "data": {
      "text/plain": [
       "<matplotlib.axes._subplots.AxesSubplot at 0x7fc5502eaf70>"
      ]
     },
     "execution_count": 51,
     "metadata": {},
     "output_type": "execute_result"
    },
    {
     "data": {
      "text/plain": [
       "Text(69.0, 0.5, 'Actual')"
      ]
     },
     "execution_count": 51,
     "metadata": {},
     "output_type": "execute_result"
    },
    {
     "data": {
      "text/plain": [
       "Text(0.5, 69.0, 'Predicted')"
      ]
     },
     "execution_count": 51,
     "metadata": {},
     "output_type": "execute_result"
    },
    {
     "data": {
      "image/png": "[encoded data removed]",
      "text/plain": [
       "<Figure size 720x720 with 2 Axes>"
      ]
     },
     "metadata": {
      "needs_background": "light"
     },
     "output_type": "display_data"
    }
   ],
   "source": [
    "model5 = LogisticRegression()#assign the model\n",
    "\n",
    "model5.fit(X_train1, y_train1)#fit the model\n",
    "\n",
    "y_pred5 = model5.predict(X_test1)#predict\n",
    "\n",
    "#Create a confusion matrics with TP/TN/FP/FN\n",
    "conf_mat5 = confusion_matrix(y_test1, y_pred5)\n",
    "\n",
    "fig, ax = plt.subplots(figsize=(10,10))\n",
    "sns.heatmap(conf_mat5, annot=True, fmt='d')\n",
    "plt.ylabel('Actual')\n",
    "plt.xlabel('Predicted')\n",
    "plt.show()"
   ]
  },
  {
   "cell_type": "code",
   "execution_count": 52,
   "metadata": {},
   "outputs": [
    {
     "name": "stdout",
     "output_type": "stream",
     "text": [
      "AUC: 0.781\n"
     ]
    }
   ],
   "source": [
    "auc5 = roc_auc_score(y_test1, y_pred5)\n",
    "print('AUC: %.3f' % auc5)\n",
    "\n",
    "#we got an AUC of 86.3%. Pretty sweet."
   ]
  },
  {
   "cell_type": "code",
   "execution_count": 53,
   "metadata": {},
   "outputs": [
    {
     "data": {
      "text/html": [
       "<div>\n",
       "<style scoped>\n",
       "    .dataframe tbody tr th:only-of-type {\n",
       "        vertical-align: middle;\n",
       "    }\n",
       "\n",
       "    .dataframe tbody tr th {\n",
       "        vertical-align: top;\n",
       "    }\n",
       "\n",
       "    .dataframe thead th {\n",
       "        text-align: right;\n",
       "    }\n",
       "</style>\n",
       "<table border=\"1\" class=\"dataframe\">\n",
       "  <thead>\n",
       "    <tr style=\"text-align: right;\">\n",
       "      <th></th>\n",
       "      <th>word_logreg_1</th>\n",
       "    </tr>\n",
       "  </thead>\n",
       "  <tbody>\n",
       "    <tr>\n",
       "      <th>contact</th>\n",
       "      <td>1.184037</td>\n",
       "    </tr>\n",
       "    <tr>\n",
       "      <th>new</th>\n",
       "      <td>1.241333</td>\n",
       "    </tr>\n",
       "    <tr>\n",
       "      <th>home</th>\n",
       "      <td>1.285718</td>\n",
       "    </tr>\n",
       "    <tr>\n",
       "      <th>uk</th>\n",
       "      <td>1.313027</td>\n",
       "    </tr>\n",
       "    <tr>\n",
       "      <th>s</th>\n",
       "      <td>1.333946</td>\n",
       "    </tr>\n",
       "    <tr>\n",
       "      <th>...</th>\n",
       "      <td>...</td>\n",
       "    </tr>\n",
       "    <tr>\n",
       "      <th>portfolio breadth</th>\n",
       "      <td>9.321726</td>\n",
       "    </tr>\n",
       "    <tr>\n",
       "      <th>portfolio bring</th>\n",
       "      <td>9.321726</td>\n",
       "    </tr>\n",
       "    <tr>\n",
       "      <th>born died</th>\n",
       "      <td>9.321726</td>\n",
       "    </tr>\n",
       "    <tr>\n",
       "      <th>portfolio apply</th>\n",
       "      <td>9.321726</td>\n",
       "    </tr>\n",
       "    <tr>\n",
       "      <th>buildings oxford</th>\n",
       "      <td>9.321726</td>\n",
       "    </tr>\n",
       "  </tbody>\n",
       "</table>\n",
       "<p>1467517 rows × 1 columns</p>\n",
       "</div>"
      ],
      "text/plain": [
       "                   word_logreg_1\n",
       "contact                 1.184037\n",
       "new                     1.241333\n",
       "home                    1.285718\n",
       "uk                      1.313027\n",
       "s                       1.333946\n",
       "...                          ...\n",
       "portfolio breadth       9.321726\n",
       "portfolio bring         9.321726\n",
       "born died               9.321726\n",
       "portfolio apply         9.321726\n",
       "buildings oxford        9.321726\n",
       "\n",
       "[1467517 rows x 1 columns]"
      ]
     },
     "execution_count": 53,
     "metadata": {},
     "output_type": "execute_result"
    }
   ],
   "source": [
    "# print values and their importance\n",
    "words_logisticRegression1 = pd.DataFrame(tfidf1.idf_, index=tfidf1.get_feature_names(),columns=[\"word_logreg_1\"]) \n",
    " \n",
    "# sort ascending \n",
    "words_logisticRegression1.sort_values(by=['word_logreg_1'])"
   ]
  },
  {
   "cell_type": "code",
   "execution_count": 54,
   "metadata": {},
   "outputs": [],
   "source": [
    "word_logreg_1 = words_logisticRegression1.sort_values(by=['word_logreg_1'], ascending=False).head(20)"
   ]
  },
  {
   "cell_type": "markdown",
   "metadata": {},
   "source": [
    "#### TrainingSet2"
   ]
  },
  {
   "cell_type": "code",
   "execution_count": 55,
   "metadata": {},
   "outputs": [
    {
     "data": {
      "text/plain": [
       "LogisticRegression()"
      ]
     },
     "execution_count": 55,
     "metadata": {},
     "output_type": "execute_result"
    },
    {
     "data": {
      "text/plain": [
       "<matplotlib.axes._subplots.AxesSubplot at 0x7fc407a68b20>"
      ]
     },
     "execution_count": 55,
     "metadata": {},
     "output_type": "execute_result"
    },
    {
     "data": {
      "text/plain": [
       "Text(69.0, 0.5, 'Actual')"
      ]
     },
     "execution_count": 55,
     "metadata": {},
     "output_type": "execute_result"
    },
    {
     "data": {
      "text/plain": [
       "Text(0.5, 69.0, 'Predicted')"
      ]
     },
     "execution_count": 55,
     "metadata": {},
     "output_type": "execute_result"
    },
    {
     "data": {
      "image/png": "[encoded data removed]",
      "text/plain": [
       "<Figure size 720x720 with 2 Axes>"
      ]
     },
     "metadata": {
      "needs_background": "light"
     },
     "output_type": "display_data"
    }
   ],
   "source": [
    "model6 = LogisticRegression()#assign the model\n",
    "\n",
    "model6.fit(X_train2, y_train2)#fit the model\n",
    "\n",
    "y_pred6 = model6.predict(X_test2)#predict\n",
    "\n",
    "#Create a confusion matrics with TP/TN/FP/FN\n",
    "conf_mat6 = confusion_matrix(y_test2, y_pred6)\n",
    "\n",
    "fig, ax = plt.subplots(figsize=(10,10))\n",
    "sns.heatmap(conf_mat6, annot=True, fmt='d')\n",
    "plt.ylabel('Actual')\n",
    "plt.xlabel('Predicted')\n",
    "plt.show()"
   ]
  },
  {
   "cell_type": "code",
   "execution_count": 56,
   "metadata": {},
   "outputs": [
    {
     "name": "stdout",
     "output_type": "stream",
     "text": [
      "AUC: 0.746\n"
     ]
    }
   ],
   "source": [
    "auc6 = roc_auc_score(y_test2, y_pred6)\n",
    "print('AUC: %.3f' % auc6)\n",
    "\n",
    "#we got an AUC of 86.3%. Pretty sweet."
   ]
  },
  {
   "cell_type": "code",
   "execution_count": 57,
   "metadata": {},
   "outputs": [
    {
     "data": {
      "text/html": [
       "<div>\n",
       "<style scoped>\n",
       "    .dataframe tbody tr th:only-of-type {\n",
       "        vertical-align: middle;\n",
       "    }\n",
       "\n",
       "    .dataframe tbody tr th {\n",
       "        vertical-align: top;\n",
       "    }\n",
       "\n",
       "    .dataframe thead th {\n",
       "        text-align: right;\n",
       "    }\n",
       "</style>\n",
       "<table border=\"1\" class=\"dataframe\">\n",
       "  <thead>\n",
       "    <tr style=\"text-align: right;\">\n",
       "      <th></th>\n",
       "      <th>word_logreg_2</th>\n",
       "    </tr>\n",
       "  </thead>\n",
       "  <tbody>\n",
       "    <tr>\n",
       "      <th>contact</th>\n",
       "      <td>1.219439</td>\n",
       "    </tr>\n",
       "    <tr>\n",
       "      <th>new</th>\n",
       "      <td>1.269112</td>\n",
       "    </tr>\n",
       "    <tr>\n",
       "      <th>uk</th>\n",
       "      <td>1.335124</td>\n",
       "    </tr>\n",
       "    <tr>\n",
       "      <th>home</th>\n",
       "      <td>1.337012</td>\n",
       "    </tr>\n",
       "    <tr>\n",
       "      <th>use</th>\n",
       "      <td>1.351291</td>\n",
       "    </tr>\n",
       "    <tr>\n",
       "      <th>...</th>\n",
       "      <td>...</td>\n",
       "    </tr>\n",
       "    <tr>\n",
       "      <th>requirements prices</th>\n",
       "      <td>8.013466</td>\n",
       "    </tr>\n",
       "    <tr>\n",
       "      <th>home bristol</th>\n",
       "      <td>8.013466</td>\n",
       "    </tr>\n",
       "    <tr>\n",
       "      <th>requirements problem</th>\n",
       "      <td>8.013466</td>\n",
       "    </tr>\n",
       "    <tr>\n",
       "      <th>requirements plant</th>\n",
       "      <td>8.013466</td>\n",
       "    </tr>\n",
       "    <tr>\n",
       "      <th>campaigns press</th>\n",
       "      <td>8.013466</td>\n",
       "    </tr>\n",
       "  </tbody>\n",
       "</table>\n",
       "<p>383461 rows × 1 columns</p>\n",
       "</div>"
      ],
      "text/plain": [
       "                      word_logreg_2\n",
       "contact                    1.219439\n",
       "new                        1.269112\n",
       "uk                         1.335124\n",
       "home                       1.337012\n",
       "use                        1.351291\n",
       "...                             ...\n",
       "requirements prices        8.013466\n",
       "home bristol               8.013466\n",
       "requirements problem       8.013466\n",
       "requirements plant         8.013466\n",
       "campaigns press            8.013466\n",
       "\n",
       "[383461 rows x 1 columns]"
      ]
     },
     "execution_count": 57,
     "metadata": {},
     "output_type": "execute_result"
    }
   ],
   "source": [
    "# print values and their importance\n",
    "words_logisticRegression2 = pd.DataFrame(tfidf2.idf_, index=tfidf2.get_feature_names(),columns=[\"word_logreg_2\"]) \n",
    " \n",
    "# sort ascending \n",
    "words_logisticRegression2.sort_values(by=['word_logreg_2'])"
   ]
  },
  {
   "cell_type": "code",
   "execution_count": 58,
   "metadata": {},
   "outputs": [],
   "source": [
    "word_logreg_2 = words_logisticRegression2.sort_values(by=['word_logreg_2'], ascending=False).head(20)"
   ]
  },
  {
   "cell_type": "markdown",
   "metadata": {},
   "source": [
    "#### TrainingSet3"
   ]
  },
  {
   "cell_type": "code",
   "execution_count": 59,
   "metadata": {},
   "outputs": [
    {
     "data": {
      "text/plain": [
       "LogisticRegression()"
      ]
     },
     "execution_count": 59,
     "metadata": {},
     "output_type": "execute_result"
    },
    {
     "data": {
      "text/plain": [
       "<matplotlib.axes._subplots.AxesSubplot at 0x7fc45d21ffd0>"
      ]
     },
     "execution_count": 59,
     "metadata": {},
     "output_type": "execute_result"
    },
    {
     "data": {
      "text/plain": [
       "Text(69.0, 0.5, 'Actual')"
      ]
     },
     "execution_count": 59,
     "metadata": {},
     "output_type": "execute_result"
    },
    {
     "data": {
      "text/plain": [
       "Text(0.5, 69.0, 'Predicted')"
      ]
     },
     "execution_count": 59,
     "metadata": {},
     "output_type": "execute_result"
    },
    {
     "data": {
      "image/png": "[encoded data removed]",
      "text/plain": [
       "<Figure size 720x720 with 2 Axes>"
      ]
     },
     "metadata": {
      "needs_background": "light"
     },
     "output_type": "display_data"
    }
   ],
   "source": [
    "model7 = LogisticRegression()#assign the model\n",
    "\n",
    "model7.fit(X_train3, y_train3)#fit the model\n",
    "\n",
    "y_pred7 = model7.predict(X_test3)#predict\n",
    "\n",
    "#Create a confusion matrics with TP/TN/FP/FN\n",
    "conf_mat7 = confusion_matrix(y_test3, y_pred7)\n",
    "\n",
    "fig, ax = plt.subplots(figsize=(10,10))\n",
    "sns.heatmap(conf_mat7, annot=True, fmt='d')\n",
    "plt.ylabel('Actual')\n",
    "plt.xlabel('Predicted')\n",
    "plt.show()"
   ]
  },
  {
   "cell_type": "code",
   "execution_count": 60,
   "metadata": {},
   "outputs": [
    {
     "name": "stdout",
     "output_type": "stream",
     "text": [
      "AUC: 0.520\n"
     ]
    }
   ],
   "source": [
    "auc7 = roc_auc_score(y_test3, y_pred7)\n",
    "print('AUC: %.3f' % auc7)\n",
    "\n",
    "#we got an AUC of 86.3%. Pretty sweet."
   ]
  },
  {
   "cell_type": "code",
   "execution_count": 61,
   "metadata": {},
   "outputs": [
    {
     "data": {
      "text/html": [
       "<div>\n",
       "<style scoped>\n",
       "    .dataframe tbody tr th:only-of-type {\n",
       "        vertical-align: middle;\n",
       "    }\n",
       "\n",
       "    .dataframe tbody tr th {\n",
       "        vertical-align: top;\n",
       "    }\n",
       "\n",
       "    .dataframe thead th {\n",
       "        text-align: right;\n",
       "    }\n",
       "</style>\n",
       "<table border=\"1\" class=\"dataframe\">\n",
       "  <thead>\n",
       "    <tr style=\"text-align: right;\">\n",
       "      <th></th>\n",
       "      <th>word_logreg_3</th>\n",
       "    </tr>\n",
       "  </thead>\n",
       "  <tbody>\n",
       "    <tr>\n",
       "      <th>contact</th>\n",
       "      <td>1.211176</td>\n",
       "    </tr>\n",
       "    <tr>\n",
       "      <th>new</th>\n",
       "      <td>1.269605</td>\n",
       "    </tr>\n",
       "    <tr>\n",
       "      <th>home</th>\n",
       "      <td>1.302515</td>\n",
       "    </tr>\n",
       "    <tr>\n",
       "      <th>time</th>\n",
       "      <td>1.346473</td>\n",
       "    </tr>\n",
       "    <tr>\n",
       "      <th>uk</th>\n",
       "      <td>1.350385</td>\n",
       "    </tr>\n",
       "    <tr>\n",
       "      <th>...</th>\n",
       "      <td>...</td>\n",
       "    </tr>\n",
       "    <tr>\n",
       "      <th>representation marketing</th>\n",
       "      <td>9.312626</td>\n",
       "    </tr>\n",
       "    <tr>\n",
       "      <th>representation major</th>\n",
       "      <td>9.312626</td>\n",
       "    </tr>\n",
       "    <tr>\n",
       "      <th>representation information</th>\n",
       "      <td>9.312626</td>\n",
       "    </tr>\n",
       "    <tr>\n",
       "      <th>representation help</th>\n",
       "      <td>9.312626</td>\n",
       "    </tr>\n",
       "    <tr>\n",
       "      <th>senior payroll</th>\n",
       "      <td>9.312626</td>\n",
       "    </tr>\n",
       "  </tbody>\n",
       "</table>\n",
       "<p>1448123 rows × 1 columns</p>\n",
       "</div>"
      ],
      "text/plain": [
       "                            word_logreg_3\n",
       "contact                          1.211176\n",
       "new                              1.269605\n",
       "home                             1.302515\n",
       "time                             1.346473\n",
       "uk                               1.350385\n",
       "...                                   ...\n",
       "representation marketing         9.312626\n",
       "representation major             9.312626\n",
       "representation information       9.312626\n",
       "representation help              9.312626\n",
       "senior payroll                   9.312626\n",
       "\n",
       "[1448123 rows x 1 columns]"
      ]
     },
     "execution_count": 61,
     "metadata": {},
     "output_type": "execute_result"
    }
   ],
   "source": [
    "# print values and their importance\n",
    "words_logisticRegression3 = pd.DataFrame(tfidf3.idf_, index=tfidf3.get_feature_names(),columns=[\"word_logreg_3\"]) \n",
    " \n",
    "# sort ascending \n",
    "words_logisticRegression3.sort_values(by=['word_logreg_3'])"
   ]
  },
  {
   "cell_type": "code",
   "execution_count": 62,
   "metadata": {},
   "outputs": [],
   "source": [
    "word_logreg_3 = words_logisticRegression3.sort_values(by=['word_logreg_3'], ascending=False).head(20)"
   ]
  },
  {
   "cell_type": "markdown",
   "metadata": {},
   "source": [
    "#### TrainingSet4"
   ]
  },
  {
   "cell_type": "code",
   "execution_count": 63,
   "metadata": {},
   "outputs": [
    {
     "data": {
      "text/plain": [
       "LogisticRegression()"
      ]
     },
     "execution_count": 63,
     "metadata": {},
     "output_type": "execute_result"
    },
    {
     "data": {
      "text/plain": [
       "<matplotlib.axes._subplots.AxesSubplot at 0x7fc420d33580>"
      ]
     },
     "execution_count": 63,
     "metadata": {},
     "output_type": "execute_result"
    },
    {
     "data": {
      "text/plain": [
       "Text(69.0, 0.5, 'Actual')"
      ]
     },
     "execution_count": 63,
     "metadata": {},
     "output_type": "execute_result"
    },
    {
     "data": {
      "text/plain": [
       "Text(0.5, 69.0, 'Predicted')"
      ]
     },
     "execution_count": 63,
     "metadata": {},
     "output_type": "execute_result"
    },
    {
     "data": {
      "image/png": "[encoded data removed]",
      "text/plain": [
       "<Figure size 720x720 with 2 Axes>"
      ]
     },
     "metadata": {
      "needs_background": "light"
     },
     "output_type": "display_data"
    }
   ],
   "source": [
    "model8 = LogisticRegression()#assign the model\n",
    "\n",
    "model8.fit(X_train4, y_train4)#fit the model\n",
    "\n",
    "y_pred8 = model8.predict(X_test4)#predict\n",
    "\n",
    "#Create a confusion matrics with TP/TN/FP/FN\n",
    "conf_mat8 = confusion_matrix(y_test4, y_pred8)\n",
    "\n",
    "fig, ax = plt.subplots(figsize=(10,10))\n",
    "sns.heatmap(conf_mat8, annot=True, fmt='d')\n",
    "plt.ylabel('Actual')\n",
    "plt.xlabel('Predicted')\n",
    "plt.show()"
   ]
  },
  {
   "cell_type": "code",
   "execution_count": 64,
   "metadata": {},
   "outputs": [
    {
     "name": "stdout",
     "output_type": "stream",
     "text": [
      "AUC: 0.773\n"
     ]
    }
   ],
   "source": [
    "auc8 = roc_auc_score(y_test4, y_pred8)\n",
    "print('AUC: %.3f' % auc8)\n",
    "\n",
    "#we got an AUC of 86.3%. Pretty sweet."
   ]
  },
  {
   "cell_type": "code",
   "execution_count": 65,
   "metadata": {},
   "outputs": [
    {
     "data": {
      "text/html": [
       "<div>\n",
       "<style scoped>\n",
       "    .dataframe tbody tr th:only-of-type {\n",
       "        vertical-align: middle;\n",
       "    }\n",
       "\n",
       "    .dataframe tbody tr th {\n",
       "        vertical-align: top;\n",
       "    }\n",
       "\n",
       "    .dataframe thead th {\n",
       "        text-align: right;\n",
       "    }\n",
       "</style>\n",
       "<table border=\"1\" class=\"dataframe\">\n",
       "  <thead>\n",
       "    <tr style=\"text-align: right;\">\n",
       "      <th></th>\n",
       "      <th>word_logreg_4</th>\n",
       "    </tr>\n",
       "  </thead>\n",
       "  <tbody>\n",
       "    <tr>\n",
       "      <th>contact</th>\n",
       "      <td>1.163932</td>\n",
       "    </tr>\n",
       "    <tr>\n",
       "      <th>home</th>\n",
       "      <td>1.256331</td>\n",
       "    </tr>\n",
       "    <tr>\n",
       "      <th>new</th>\n",
       "      <td>1.262495</td>\n",
       "    </tr>\n",
       "    <tr>\n",
       "      <th>uk</th>\n",
       "      <td>1.314919</td>\n",
       "    </tr>\n",
       "    <tr>\n",
       "      <th>email</th>\n",
       "      <td>1.338175</td>\n",
       "    </tr>\n",
       "    <tr>\n",
       "      <th>...</th>\n",
       "      <td>...</td>\n",
       "    </tr>\n",
       "    <tr>\n",
       "      <th>arrangements field</th>\n",
       "      <td>9.918014</td>\n",
       "    </tr>\n",
       "    <tr>\n",
       "      <th>arrangements feedback</th>\n",
       "      <td>9.918014</td>\n",
       "    </tr>\n",
       "    <tr>\n",
       "      <th>fileshare</th>\n",
       "      <td>9.918014</td>\n",
       "    </tr>\n",
       "    <tr>\n",
       "      <th>files xml</th>\n",
       "      <td>9.918014</td>\n",
       "    </tr>\n",
       "    <tr>\n",
       "      <th>building incorporated</th>\n",
       "      <td>9.918014</td>\n",
       "    </tr>\n",
       "  </tbody>\n",
       "</table>\n",
       "<p>2403736 rows × 1 columns</p>\n",
       "</div>"
      ],
      "text/plain": [
       "                       word_logreg_4\n",
       "contact                     1.163932\n",
       "home                        1.256331\n",
       "new                         1.262495\n",
       "uk                          1.314919\n",
       "email                       1.338175\n",
       "...                              ...\n",
       "arrangements field          9.918014\n",
       "arrangements feedback       9.918014\n",
       "fileshare                   9.918014\n",
       "files xml                   9.918014\n",
       "building incorporated       9.918014\n",
       "\n",
       "[2403736 rows x 1 columns]"
      ]
     },
     "execution_count": 65,
     "metadata": {},
     "output_type": "execute_result"
    }
   ],
   "source": [
    "# print values and their importance\n",
    "words_logisticRegression4 = pd.DataFrame(tfidf4.idf_, index=tfidf4.get_feature_names(),columns=[\"word_logreg_4\"]) \n",
    " \n",
    "# sort ascending \n",
    "words_logisticRegression4.sort_values(by=['word_logreg_4'])"
   ]
  },
  {
   "cell_type": "code",
   "execution_count": 66,
   "metadata": {},
   "outputs": [],
   "source": [
    "word_logreg_4 = words_logisticRegression4.sort_values(by=['word_logreg_4'], ascending=False).head(20)"
   ]
  },
  {
   "cell_type": "code",
   "execution_count": null,
   "metadata": {},
   "outputs": [],
   "source": []
  },
  {
   "cell_type": "markdown",
   "metadata": {},
   "source": [
    "# 11. Validate the results\n",
    "\n",
    "Validating the results is difficult and, due to the lack of the missingness of coherent innovation metrices arbitrary. The approach I have chosen is to manually generate a sample of \"innovative companies\" based on public rankings of well-known media outlets such as Forbes etc.\n",
    "\n",
    "While I will not have a probability of being innovative for a company in this validation set, it nevertheless appears to be valid insofar as the final model will be used to rank companies and present these to the users. Users perceive the innovativeness - which do the media outlets chosen as well. Therefore, while not entirely scientific, it will give an rough indication.\n",
    "\n",
    "Further, this also allows to compare the different models with each other on these validation companies. "
   ]
  },
  {
   "cell_type": "code",
   "execution_count": 67,
   "metadata": {},
   "outputs": [],
   "source": [
    "validate = pd.read_csv('/Users/Michael/Library/Mobile Documents/com~apple~CloudDocs/Universität/UCL/Programming/MasterThesis/Data/Validation.csv')"
   ]
  },
  {
   "cell_type": "code",
   "execution_count": 68,
   "metadata": {},
   "outputs": [],
   "source": [
    "#create a list with all company numbers\n",
    "company_nums = validate['CompanyNumber']\n",
    "\n",
    "#create an empty list for the dtaframes\n",
    "dataframes = []\n",
    "\n",
    "#open the connection to the database\n",
    "con = sqlite3.connect(\"/Users/Michael/Desktop/OrganisationMLLite_Mar2021.db\")\n",
    "\n",
    "#loop over each row in the database to avoid loading everything into memory and the kernel from dying\n",
    "for company_num in company_nums:\n",
    "    webtext = pd.read_sql_query(f'SELECT CompanyNumber, CompanyWebText FROM OrganisationML WHERE CompanyNumber == \"{company_num}\"', con)\n",
    "    dataframes.append(webtext)#add the row to the list of dataframes\n",
    "    \n",
    "val_text = pd.concat(dataframes)#concat all dataframes together\n",
    "\n",
    "#close the database connection\n",
    "con.close()"
   ]
  },
  {
   "cell_type": "code",
   "execution_count": 69,
   "metadata": {},
   "outputs": [],
   "source": [
    "val_final = val_text.merge(validate, on=\"CompanyNumber\", how='inner')#add all_data and website text\n",
    "val_final['CompanyWebText'] = val_final['CompanyWebText'].astype('string') #transform the column to a string"
   ]
  },
  {
   "cell_type": "markdown",
   "metadata": {},
   "source": [
    "### Linear SVC 1"
   ]
  },
  {
   "cell_type": "code",
   "execution_count": 70,
   "metadata": {},
   "outputs": [],
   "source": [
    "features_val_final1 = tfidf1.transform(val_final.CompanyWebText)#transform the unseen data\n",
    "\n",
    "unseen_pred1 = model1.predict(features_val_final1)#predict their innovativeness\n",
    "\n",
    "val_final['pred_LinSVC1'] = unseen_pred1.tolist() #add the prediction to the df for comparison"
   ]
  },
  {
   "cell_type": "markdown",
   "metadata": {},
   "source": [
    "### Linear SVC 2"
   ]
  },
  {
   "cell_type": "code",
   "execution_count": 71,
   "metadata": {},
   "outputs": [],
   "source": [
    "features_val_final2 = tfidf2.transform(val_final.CompanyWebText)#transform the unseen data\n",
    "\n",
    "unseen_pred2 = model2.predict(features_val_final2)#predict their innovativeness\n",
    "\n",
    "val_final['pred_LinSVC2'] = unseen_pred2.tolist() #add the prediction to the df for comparison"
   ]
  },
  {
   "cell_type": "markdown",
   "metadata": {},
   "source": [
    "### Linear SVC 3"
   ]
  },
  {
   "cell_type": "code",
   "execution_count": 72,
   "metadata": {},
   "outputs": [],
   "source": [
    "features_val_final3 = tfidf3.transform(val_final.CompanyWebText)#transform the unseen data\n",
    "\n",
    "unseen_pred3 = model3.predict(features_val_final3)#predict their innovativeness\n",
    "\n",
    "val_final['pred_LinSVC3'] = unseen_pred3.tolist() #add the prediction to the df for comparison"
   ]
  },
  {
   "cell_type": "markdown",
   "metadata": {},
   "source": [
    "### Linear SVC 4"
   ]
  },
  {
   "cell_type": "code",
   "execution_count": 73,
   "metadata": {},
   "outputs": [],
   "source": [
    "features_val_final4 = tfidf4.transform(val_final.CompanyWebText)#transform the unseen data\n",
    "\n",
    "unseen_pred4 = model4.predict(features_val_final4)#predict their innovativeness\n",
    "\n",
    "val_final['pred_LinSVC4'] = unseen_pred4.tolist() #add the prediction to the df for comparison"
   ]
  },
  {
   "cell_type": "markdown",
   "metadata": {},
   "source": [
    "### LinReg 1"
   ]
  },
  {
   "cell_type": "code",
   "execution_count": 74,
   "metadata": {},
   "outputs": [],
   "source": [
    "features_val_final5 = tfidf1.transform(val_final.CompanyWebText)#transform the unseen data\n",
    "\n",
    "unseen_pred5 = model5.predict(features_val_final5)#predict their innovativeness\n",
    "\n",
    "val_final['pred_LinReg1'] = unseen_pred5.tolist() #add the prediction to the df for comparison"
   ]
  },
  {
   "cell_type": "markdown",
   "metadata": {},
   "source": [
    "### LinReg 2"
   ]
  },
  {
   "cell_type": "code",
   "execution_count": 75,
   "metadata": {},
   "outputs": [],
   "source": [
    "features_val_final6 = tfidf2.transform(val_final.CompanyWebText)#transform the unseen data\n",
    "\n",
    "unseen_pred6 = model6.predict(features_val_final2)#predict their innovativeness\n",
    "\n",
    "val_final['pred_LinReg2'] = unseen_pred6.tolist() #add the prediction to the df for comparison"
   ]
  },
  {
   "cell_type": "markdown",
   "metadata": {},
   "source": [
    "### LinReg 3"
   ]
  },
  {
   "cell_type": "code",
   "execution_count": 76,
   "metadata": {},
   "outputs": [],
   "source": [
    "features_val_final7 = tfidf3.transform(val_final.CompanyWebText)#transform the unseen data\n",
    "\n",
    "unseen_pred7 = model7.predict(features_val_final7)#predict their innovativeness\n",
    "\n",
    "val_final['pred_LinReg3'] = unseen_pred7.tolist() #add the prediction to the df for comparison"
   ]
  },
  {
   "cell_type": "markdown",
   "metadata": {},
   "source": [
    "### LinReg 4"
   ]
  },
  {
   "cell_type": "code",
   "execution_count": 77,
   "metadata": {},
   "outputs": [],
   "source": [
    "features_val_final8 = tfidf4.transform(val_final.CompanyWebText)#transform the unseen data\n",
    "\n",
    "unseen_pred8 = model8.predict(features_val_final8)#predict their innovativeness\n",
    "\n",
    "val_final['pred_LinReg4'] = unseen_pred8.tolist() #add the prediction to the df for comparison"
   ]
  },
  {
   "cell_type": "code",
   "execution_count": 78,
   "metadata": {},
   "outputs": [
    {
     "data": {
      "text/html": [
       "<div>\n",
       "<style scoped>\n",
       "    .dataframe tbody tr th:only-of-type {\n",
       "        vertical-align: middle;\n",
       "    }\n",
       "\n",
       "    .dataframe tbody tr th {\n",
       "        vertical-align: top;\n",
       "    }\n",
       "\n",
       "    .dataframe thead th {\n",
       "        text-align: right;\n",
       "    }\n",
       "</style>\n",
       "<table border=\"1\" class=\"dataframe\">\n",
       "  <thead>\n",
       "    <tr style=\"text-align: right;\">\n",
       "      <th></th>\n",
       "      <th>CompanyNumber</th>\n",
       "      <th>CompanyWebText</th>\n",
       "      <th>CompanyName</th>\n",
       "      <th>Rank</th>\n",
       "      <th>Source</th>\n",
       "      <th>expected_prediction</th>\n",
       "      <th>pred_LinSVC1</th>\n",
       "      <th>pred_LinSVC2</th>\n",
       "      <th>pred_LinSVC3</th>\n",
       "      <th>pred_LinSVC4</th>\n",
       "      <th>pred_LinReg1</th>\n",
       "      <th>pred_LinReg2</th>\n",
       "      <th>pred_LinReg3</th>\n",
       "      <th>pred_LinReg4</th>\n",
       "    </tr>\n",
       "  </thead>\n",
       "  <tbody>\n",
       "    <tr>\n",
       "      <th>0</th>\n",
       "      <td>06240773</td>\n",
       "      <td>IHS Markit | Leading Source of Critical Inform...</td>\n",
       "      <td>ihs markit</td>\n",
       "      <td>33.0</td>\n",
       "      <td>Forbes</td>\n",
       "      <td>1</td>\n",
       "      <td>1</td>\n",
       "      <td>1</td>\n",
       "      <td>0</td>\n",
       "      <td>1</td>\n",
       "      <td>1</td>\n",
       "      <td>1</td>\n",
       "      <td>0</td>\n",
       "      <td>1</td>\n",
       "    </tr>\n",
       "    <tr>\n",
       "      <th>1</th>\n",
       "      <td>06270876</td>\n",
       "      <td>RB | Protect, heal and nurture | rb.com  Skip ...</td>\n",
       "      <td>Reckitt Benckiser Group</td>\n",
       "      <td>56.0</td>\n",
       "      <td>Forbes</td>\n",
       "      <td>1</td>\n",
       "      <td>1</td>\n",
       "      <td>1</td>\n",
       "      <td>0</td>\n",
       "      <td>1</td>\n",
       "      <td>1</td>\n",
       "      <td>1</td>\n",
       "      <td>0</td>\n",
       "      <td>1</td>\n",
       "    </tr>\n",
       "    <tr>\n",
       "      <th>2</th>\n",
       "      <td>03165891</td>\n",
       "      <td>Compass Group  This website uses cookies. To a...</td>\n",
       "      <td>Compass Group</td>\n",
       "      <td>63.0</td>\n",
       "      <td>Forbes</td>\n",
       "      <td>1</td>\n",
       "      <td>1</td>\n",
       "      <td>1</td>\n",
       "      <td>0</td>\n",
       "      <td>1</td>\n",
       "      <td>1</td>\n",
       "      <td>1</td>\n",
       "      <td>0</td>\n",
       "      <td>1</td>\n",
       "    </tr>\n",
       "    <tr>\n",
       "      <th>3</th>\n",
       "      <td>02746616</td>\n",
       "      <td>RELX  skip to main content Our Business Our bu...</td>\n",
       "      <td>Relx Group</td>\n",
       "      <td>85.0</td>\n",
       "      <td>Forbes</td>\n",
       "      <td>1</td>\n",
       "      <td>1</td>\n",
       "      <td>1</td>\n",
       "      <td>0</td>\n",
       "      <td>1</td>\n",
       "      <td>1</td>\n",
       "      <td>1</td>\n",
       "      <td>0</td>\n",
       "      <td>1</td>\n",
       "    </tr>\n",
       "    <tr>\n",
       "      <th>4</th>\n",
       "      <td>04222753</td>\n",
       "      <td>Discover Diageo | Producer Of Beer And Spirits...</td>\n",
       "      <td>Diageo</td>\n",
       "      <td>98.0</td>\n",
       "      <td>Forbes</td>\n",
       "      <td>1</td>\n",
       "      <td>1</td>\n",
       "      <td>1</td>\n",
       "      <td>0</td>\n",
       "      <td>1</td>\n",
       "      <td>1</td>\n",
       "      <td>1</td>\n",
       "      <td>0</td>\n",
       "      <td>1</td>\n",
       "    </tr>\n",
       "    <tr>\n",
       "      <th>5</th>\n",
       "      <td>09203334</td>\n",
       "      <td>Entocycle | The Insect Farming Company  Produc...</td>\n",
       "      <td>Entocycle</td>\n",
       "      <td>1.0</td>\n",
       "      <td>Beauhorst</td>\n",
       "      <td>1</td>\n",
       "      <td>1</td>\n",
       "      <td>1</td>\n",
       "      <td>0</td>\n",
       "      <td>0</td>\n",
       "      <td>1</td>\n",
       "      <td>1</td>\n",
       "      <td>0</td>\n",
       "      <td>1</td>\n",
       "    </tr>\n",
       "    <tr>\n",
       "      <th>6</th>\n",
       "      <td>07330525</td>\n",
       "      <td>CBILS funding | Invoice finance | Business loa...</td>\n",
       "      <td>MarketFinance</td>\n",
       "      <td>2.0</td>\n",
       "      <td>Beauhorst</td>\n",
       "      <td>1</td>\n",
       "      <td>1</td>\n",
       "      <td>1</td>\n",
       "      <td>0</td>\n",
       "      <td>1</td>\n",
       "      <td>1</td>\n",
       "      <td>1</td>\n",
       "      <td>0</td>\n",
       "      <td>1</td>\n",
       "    </tr>\n",
       "    <tr>\n",
       "      <th>7</th>\n",
       "      <td>07054929</td>\n",
       "      <td>Tokamak Energy  Twitter Instagram LinkedIn You...</td>\n",
       "      <td>Tokamak Energy</td>\n",
       "      <td>3.0</td>\n",
       "      <td>Beauhorst</td>\n",
       "      <td>1</td>\n",
       "      <td>1</td>\n",
       "      <td>1</td>\n",
       "      <td>0</td>\n",
       "      <td>0</td>\n",
       "      <td>1</td>\n",
       "      <td>1</td>\n",
       "      <td>0</td>\n",
       "      <td>0</td>\n",
       "    </tr>\n",
       "    <tr>\n",
       "      <th>8</th>\n",
       "      <td>01391256</td>\n",
       "      <td>Home page | Veolia UK  Resourcing the world Se...</td>\n",
       "      <td>Veolia</td>\n",
       "      <td>4.0</td>\n",
       "      <td>Beauhorst</td>\n",
       "      <td>1</td>\n",
       "      <td>1</td>\n",
       "      <td>1</td>\n",
       "      <td>0</td>\n",
       "      <td>1</td>\n",
       "      <td>1</td>\n",
       "      <td>1</td>\n",
       "      <td>0</td>\n",
       "      <td>1</td>\n",
       "    </tr>\n",
       "    <tr>\n",
       "      <th>9</th>\n",
       "      <td>05513242</td>\n",
       "      <td>Magtec - Home  Home Home News Articles Fact Sh...</td>\n",
       "      <td>Magtec</td>\n",
       "      <td>5.0</td>\n",
       "      <td>Beauhorst</td>\n",
       "      <td>1</td>\n",
       "      <td>1</td>\n",
       "      <td>1</td>\n",
       "      <td>1</td>\n",
       "      <td>1</td>\n",
       "      <td>1</td>\n",
       "      <td>1</td>\n",
       "      <td>1</td>\n",
       "      <td>1</td>\n",
       "    </tr>\n",
       "    <tr>\n",
       "      <th>10</th>\n",
       "      <td>07479524</td>\n",
       "      <td>Onfido | Document ID &amp; Facial Biometrics Verif...</td>\n",
       "      <td>Onfido</td>\n",
       "      <td>7.0</td>\n",
       "      <td>Beauhorst</td>\n",
       "      <td>1</td>\n",
       "      <td>1</td>\n",
       "      <td>1</td>\n",
       "      <td>0</td>\n",
       "      <td>1</td>\n",
       "      <td>1</td>\n",
       "      <td>1</td>\n",
       "      <td>0</td>\n",
       "      <td>1</td>\n",
       "    </tr>\n",
       "    <tr>\n",
       "      <th>11</th>\n",
       "      <td>09990238</td>\n",
       "      <td>Infex Therapeutics – Vital new drugs for pande...</td>\n",
       "      <td>Infex Therapeutics</td>\n",
       "      <td>8.0</td>\n",
       "      <td>Beauhorst</td>\n",
       "      <td>1</td>\n",
       "      <td>1</td>\n",
       "      <td>1</td>\n",
       "      <td>1</td>\n",
       "      <td>0</td>\n",
       "      <td>1</td>\n",
       "      <td>1</td>\n",
       "      <td>1</td>\n",
       "      <td>0</td>\n",
       "    </tr>\n",
       "    <tr>\n",
       "      <th>12</th>\n",
       "      <td>10202950</td>\n",
       "      <td>Exvastat  Search for: Home Company About Us Ex...</td>\n",
       "      <td>Exvastat</td>\n",
       "      <td>10.0</td>\n",
       "      <td>Beauhorst</td>\n",
       "      <td>1</td>\n",
       "      <td>1</td>\n",
       "      <td>1</td>\n",
       "      <td>1</td>\n",
       "      <td>0</td>\n",
       "      <td>1</td>\n",
       "      <td>1</td>\n",
       "      <td>1</td>\n",
       "      <td>0</td>\n",
       "    </tr>\n",
       "    <tr>\n",
       "      <th>13</th>\n",
       "      <td>FC027914</td>\n",
       "      <td>Account Suspended  Account Suspended This Acco...</td>\n",
       "      <td>Recycling Technologies</td>\n",
       "      <td>11.0</td>\n",
       "      <td>Beauhorst</td>\n",
       "      <td>1</td>\n",
       "      <td>0</td>\n",
       "      <td>0</td>\n",
       "      <td>0</td>\n",
       "      <td>0</td>\n",
       "      <td>0</td>\n",
       "      <td>0</td>\n",
       "      <td>0</td>\n",
       "      <td>0</td>\n",
       "    </tr>\n",
       "    <tr>\n",
       "      <th>14</th>\n",
       "      <td>SC428761</td>\n",
       "      <td>Exscientia | AI Drug Discovery | Pharmatech  A...</td>\n",
       "      <td>Exscientia</td>\n",
       "      <td>12.0</td>\n",
       "      <td>Beauhorst</td>\n",
       "      <td>1</td>\n",
       "      <td>1</td>\n",
       "      <td>1</td>\n",
       "      <td>1</td>\n",
       "      <td>0</td>\n",
       "      <td>1</td>\n",
       "      <td>1</td>\n",
       "      <td>1</td>\n",
       "      <td>0</td>\n",
       "    </tr>\n",
       "    <tr>\n",
       "      <th>15</th>\n",
       "      <td>04106751</td>\n",
       "      <td>Exemplas - advisory services for public, priva...</td>\n",
       "      <td>Exemplas</td>\n",
       "      <td>13.0</td>\n",
       "      <td>Beauhorst</td>\n",
       "      <td>1</td>\n",
       "      <td>1</td>\n",
       "      <td>1</td>\n",
       "      <td>1</td>\n",
       "      <td>1</td>\n",
       "      <td>1</td>\n",
       "      <td>1</td>\n",
       "      <td>0</td>\n",
       "      <td>1</td>\n",
       "    </tr>\n",
       "    <tr>\n",
       "      <th>16</th>\n",
       "      <td>09718234</td>\n",
       "      <td>Octopus Energy: Switch to affordable renewable...</td>\n",
       "      <td>Octopu.energy</td>\n",
       "      <td>NaN</td>\n",
       "      <td>Own</td>\n",
       "      <td>1</td>\n",
       "      <td>1</td>\n",
       "      <td>1</td>\n",
       "      <td>0</td>\n",
       "      <td>1</td>\n",
       "      <td>1</td>\n",
       "      <td>1</td>\n",
       "      <td>0</td>\n",
       "      <td>1</td>\n",
       "    </tr>\n",
       "    <tr>\n",
       "      <th>17</th>\n",
       "      <td>10958787</td>\n",
       "      <td>Home - The Data City  Skip to content LOG IN M...</td>\n",
       "      <td>The Data City</td>\n",
       "      <td>NaN</td>\n",
       "      <td>Own</td>\n",
       "      <td>1</td>\n",
       "      <td>1</td>\n",
       "      <td>1</td>\n",
       "      <td>1</td>\n",
       "      <td>1</td>\n",
       "      <td>1</td>\n",
       "      <td>1</td>\n",
       "      <td>0</td>\n",
       "      <td>1</td>\n",
       "    </tr>\n",
       "    <tr>\n",
       "      <th>18</th>\n",
       "      <td>SC457129</td>\n",
       "      <td>Dundee Carpet Cleaning – Dundee's Best Carpet ...</td>\n",
       "      <td>1 Click Cleaning</td>\n",
       "      <td>NaN</td>\n",
       "      <td>Own</td>\n",
       "      <td>0</td>\n",
       "      <td>0</td>\n",
       "      <td>1</td>\n",
       "      <td>0</td>\n",
       "      <td>0</td>\n",
       "      <td>0</td>\n",
       "      <td>1</td>\n",
       "      <td>0</td>\n",
       "      <td>0</td>\n",
       "    </tr>\n",
       "    <tr>\n",
       "      <th>19</th>\n",
       "      <td>05552840</td>\n",
       "      <td>Loading...</td>\n",
       "      <td>A &amp; J Kitchens &amp; Bathroom</td>\n",
       "      <td>NaN</td>\n",
       "      <td>Own</td>\n",
       "      <td>0</td>\n",
       "      <td>0</td>\n",
       "      <td>0</td>\n",
       "      <td>0</td>\n",
       "      <td>0</td>\n",
       "      <td>0</td>\n",
       "      <td>0</td>\n",
       "      <td>0</td>\n",
       "      <td>0</td>\n",
       "    </tr>\n",
       "    <tr>\n",
       "      <th>20</th>\n",
       "      <td>04719319</td>\n",
       "      <td>Gardening | Aspect Maintenance | Essex  Commer...</td>\n",
       "      <td>Aspect Maintenance</td>\n",
       "      <td>NaN</td>\n",
       "      <td>Own</td>\n",
       "      <td>0</td>\n",
       "      <td>1</td>\n",
       "      <td>1</td>\n",
       "      <td>0</td>\n",
       "      <td>1</td>\n",
       "      <td>0</td>\n",
       "      <td>1</td>\n",
       "      <td>0</td>\n",
       "      <td>1</td>\n",
       "    </tr>\n",
       "    <tr>\n",
       "      <th>21</th>\n",
       "      <td>05322479</td>\n",
       "      <td>Auto Mirage Ltd  Skip to the content Auto Mira...</td>\n",
       "      <td>4Delivery</td>\n",
       "      <td>NaN</td>\n",
       "      <td>Own</td>\n",
       "      <td>0</td>\n",
       "      <td>0</td>\n",
       "      <td>0</td>\n",
       "      <td>0</td>\n",
       "      <td>1</td>\n",
       "      <td>0</td>\n",
       "      <td>1</td>\n",
       "      <td>0</td>\n",
       "      <td>0</td>\n",
       "    </tr>\n",
       "    <tr>\n",
       "      <th>22</th>\n",
       "      <td>05710421</td>\n",
       "      <td>1st 4 Plumbing Ltd, Stevenage, Herts ~ Homepag...</td>\n",
       "      <td>1st 4 Plumbings</td>\n",
       "      <td>NaN</td>\n",
       "      <td>Own</td>\n",
       "      <td>0</td>\n",
       "      <td>0</td>\n",
       "      <td>1</td>\n",
       "      <td>0</td>\n",
       "      <td>1</td>\n",
       "      <td>0</td>\n",
       "      <td>1</td>\n",
       "      <td>0</td>\n",
       "      <td>0</td>\n",
       "    </tr>\n",
       "  </tbody>\n",
       "</table>\n",
       "</div>"
      ],
      "text/plain": [
       "   CompanyNumber                                     CompanyWebText  \\\n",
       "0       06240773  IHS Markit | Leading Source of Critical Inform...   \n",
       "1       06270876  RB | Protect, heal and nurture | rb.com  Skip ...   \n",
       "2       03165891  Compass Group  This website uses cookies. To a...   \n",
       "3       02746616  RELX  skip to main content Our Business Our bu...   \n",
       "4       04222753  Discover Diageo | Producer Of Beer And Spirits...   \n",
       "5       09203334  Entocycle | The Insect Farming Company  Produc...   \n",
       "6       07330525  CBILS funding | Invoice finance | Business loa...   \n",
       "7       07054929  Tokamak Energy  Twitter Instagram LinkedIn You...   \n",
       "8       01391256  Home page | Veolia UK  Resourcing the world Se...   \n",
       "9       05513242  Magtec - Home  Home Home News Articles Fact Sh...   \n",
       "10      07479524  Onfido | Document ID & Facial Biometrics Verif...   \n",
       "11      09990238  Infex Therapeutics – Vital new drugs for pande...   \n",
       "12      10202950  Exvastat  Search for: Home Company About Us Ex...   \n",
       "13      FC027914  Account Suspended  Account Suspended This Acco...   \n",
       "14      SC428761  Exscientia | AI Drug Discovery | Pharmatech  A...   \n",
       "15      04106751  Exemplas - advisory services for public, priva...   \n",
       "16      09718234  Octopus Energy: Switch to affordable renewable...   \n",
       "17      10958787  Home - The Data City  Skip to content LOG IN M...   \n",
       "18      SC457129  Dundee Carpet Cleaning – Dundee's Best Carpet ...   \n",
       "19      05552840                                         Loading...   \n",
       "20      04719319  Gardening | Aspect Maintenance | Essex  Commer...   \n",
       "21      05322479  Auto Mirage Ltd  Skip to the content Auto Mira...   \n",
       "22      05710421  1st 4 Plumbing Ltd, Stevenage, Herts ~ Homepag...   \n",
       "\n",
       "                  CompanyName  Rank     Source  expected_prediction  \\\n",
       "0                  ihs markit  33.0     Forbes                    1   \n",
       "1     Reckitt Benckiser Group  56.0     Forbes                    1   \n",
       "2               Compass Group  63.0     Forbes                    1   \n",
       "3                  Relx Group  85.0     Forbes                    1   \n",
       "4                      Diageo  98.0     Forbes                    1   \n",
       "5                   Entocycle   1.0  Beauhorst                    1   \n",
       "6               MarketFinance   2.0  Beauhorst                    1   \n",
       "7              Tokamak Energy   3.0  Beauhorst                    1   \n",
       "8                      Veolia   4.0  Beauhorst                    1   \n",
       "9                      Magtec   5.0  Beauhorst                    1   \n",
       "10                     Onfido   7.0  Beauhorst                    1   \n",
       "11         Infex Therapeutics   8.0  Beauhorst                    1   \n",
       "12                   Exvastat  10.0  Beauhorst                    1   \n",
       "13     Recycling Technologies  11.0  Beauhorst                    1   \n",
       "14                 Exscientia  12.0  Beauhorst                    1   \n",
       "15                   Exemplas  13.0  Beauhorst                    1   \n",
       "16              Octopu.energy   NaN        Own                    1   \n",
       "17              The Data City   NaN        Own                    1   \n",
       "18           1 Click Cleaning   NaN        Own                    0   \n",
       "19  A & J Kitchens & Bathroom   NaN        Own                    0   \n",
       "20         Aspect Maintenance   NaN        Own                    0   \n",
       "21                  4Delivery   NaN        Own                    0   \n",
       "22            1st 4 Plumbings   NaN        Own                    0   \n",
       "\n",
       "    pred_LinSVC1  pred_LinSVC2  pred_LinSVC3  pred_LinSVC4  pred_LinReg1  \\\n",
       "0              1             1             0             1             1   \n",
       "1              1             1             0             1             1   \n",
       "2              1             1             0             1             1   \n",
       "3              1             1             0             1             1   \n",
       "4              1             1             0             1             1   \n",
       "5              1             1             0             0             1   \n",
       "6              1             1             0             1             1   \n",
       "7              1             1             0             0             1   \n",
       "8              1             1             0             1             1   \n",
       "9              1             1             1             1             1   \n",
       "10             1             1             0             1             1   \n",
       "11             1             1             1             0             1   \n",
       "12             1             1             1             0             1   \n",
       "13             0             0             0             0             0   \n",
       "14             1             1             1             0             1   \n",
       "15             1             1             1             1             1   \n",
       "16             1             1             0             1             1   \n",
       "17             1             1             1             1             1   \n",
       "18             0             1             0             0             0   \n",
       "19             0             0             0             0             0   \n",
       "20             1             1             0             1             0   \n",
       "21             0             0             0             1             0   \n",
       "22             0             1             0             1             0   \n",
       "\n",
       "    pred_LinReg2  pred_LinReg3  pred_LinReg4  \n",
       "0              1             0             1  \n",
       "1              1             0             1  \n",
       "2              1             0             1  \n",
       "3              1             0             1  \n",
       "4              1             0             1  \n",
       "5              1             0             1  \n",
       "6              1             0             1  \n",
       "7              1             0             0  \n",
       "8              1             0             1  \n",
       "9              1             1             1  \n",
       "10             1             0             1  \n",
       "11             1             1             0  \n",
       "12             1             1             0  \n",
       "13             0             0             0  \n",
       "14             1             1             0  \n",
       "15             1             0             1  \n",
       "16             1             0             1  \n",
       "17             1             0             1  \n",
       "18             1             0             0  \n",
       "19             0             0             0  \n",
       "20             1             0             1  \n",
       "21             1             0             0  \n",
       "22             1             0             0  "
      ]
     },
     "execution_count": 78,
     "metadata": {},
     "output_type": "execute_result"
    }
   ],
   "source": [
    "val_final"
   ]
  },
  {
   "cell_type": "code",
   "execution_count": null,
   "metadata": {},
   "outputs": [],
   "source": []
  },
  {
   "cell_type": "markdown",
   "metadata": {},
   "source": [
    "## Comparing words"
   ]
  },
  {
   "cell_type": "code",
   "execution_count": 79,
   "metadata": {},
   "outputs": [
    {
     "data": {
      "text/html": [
       "<div>\n",
       "<style scoped>\n",
       "    .dataframe tbody tr th:only-of-type {\n",
       "        vertical-align: middle;\n",
       "    }\n",
       "\n",
       "    .dataframe tbody tr th {\n",
       "        vertical-align: top;\n",
       "    }\n",
       "\n",
       "    .dataframe thead th {\n",
       "        text-align: right;\n",
       "    }\n",
       "</style>\n",
       "<table border=\"1\" class=\"dataframe\">\n",
       "  <thead>\n",
       "    <tr style=\"text-align: right;\">\n",
       "      <th></th>\n",
       "      <th>baseline1</th>\n",
       "      <th>linearSVC1</th>\n",
       "      <th>logReg1</th>\n",
       "      <th>baseline2</th>\n",
       "      <th>linearSVC2</th>\n",
       "      <th>logReg2</th>\n",
       "      <th>baseline3</th>\n",
       "      <th>linearSVC3</th>\n",
       "      <th>logReg3</th>\n",
       "      <th>baseline4</th>\n",
       "      <th>linearSVC4</th>\n",
       "      <th>logReg4</th>\n",
       "    </tr>\n",
       "  </thead>\n",
       "  <tbody>\n",
       "    <tr>\n",
       "      <th>0</th>\n",
       "      <td>0.557111</td>\n",
       "      <td>0.800915</td>\n",
       "      <td>0.780597</td>\n",
       "      <td>0.682345</td>\n",
       "      <td>0.82074</td>\n",
       "      <td>0.746096</td>\n",
       "      <td>0.908161</td>\n",
       "      <td>0.609767</td>\n",
       "      <td>0.519731</td>\n",
       "      <td>0.508727</td>\n",
       "      <td>0.780733</td>\n",
       "      <td>0.772599</td>\n",
       "    </tr>\n",
       "  </tbody>\n",
       "</table>\n",
       "</div>"
      ],
      "text/plain": [
       "   baseline1  linearSVC1   logReg1  baseline2  linearSVC2   logReg2  \\\n",
       "0   0.557111    0.800915  0.780597   0.682345     0.82074  0.746096   \n",
       "\n",
       "   baseline3  linearSVC3   logReg3  baseline4  linearSVC4   logReg4  \n",
       "0   0.908161    0.609767  0.519731   0.508727    0.780733  0.772599  "
      ]
     },
     "execution_count": 79,
     "metadata": {},
     "output_type": "execute_result"
    }
   ],
   "source": [
    "aucs = [baseline1, auc1, auc5, baseline2, auc2, auc6, baseline3, auc3, auc7, baseline4, auc4, auc8]\n",
    "auc_comparison = pd.DataFrame(aucs)\n",
    "auc_comparison = auc_comparison.T\n",
    "auc_comparison=auc_comparison.rename(columns={0:'baseline1',1:'linearSVC1',2:'logReg1',3:'baseline2', 4:'linearSVC2',5:'logReg2',6:'baseline3',7:'linearSVC3',8:'logReg3',9:'baseline4',10:'linearSVC4',11:'logReg4'})\n",
    "auc_comparison\n"
   ]
  },
  {
   "cell_type": "code",
   "execution_count": null,
   "metadata": {},
   "outputs": [],
   "source": []
  },
  {
   "cell_type": "code",
   "execution_count": null,
   "metadata": {},
   "outputs": [],
   "source": []
  },
  {
   "cell_type": "code",
   "execution_count": null,
   "metadata": {},
   "outputs": [],
   "source": []
  },
  {
   "cell_type": "code",
   "execution_count": null,
   "metadata": {},
   "outputs": [],
   "source": []
  },
  {
   "cell_type": "code",
   "execution_count": null,
   "metadata": {},
   "outputs": [],
   "source": []
  },
  {
   "cell_type": "code",
   "execution_count": null,
   "metadata": {},
   "outputs": [],
   "source": []
  },
  {
   "cell_type": "code",
   "execution_count": null,
   "metadata": {},
   "outputs": [],
   "source": []
  },
  {
   "cell_type": "code",
   "execution_count": null,
   "metadata": {},
   "outputs": [],
   "source": []
  },
  {
   "cell_type": "code",
   "execution_count": null,
   "metadata": {},
   "outputs": [],
   "source": []
  },
  {
   "cell_type": "code",
   "execution_count": null,
   "metadata": {},
   "outputs": [],
   "source": []
  },
  {
   "cell_type": "code",
   "execution_count": null,
   "metadata": {},
   "outputs": [],
   "source": []
  }
 ],
 "metadata": {
  "kernelspec": {
   "display_name": "Python 3",
   "language": "python",
   "name": "python3"
  },
  "language_info": {
   "codemirror_mode": {
    "name": "ipython",
    "version": 3
   },
   "file_extension": ".py",
   "mimetype": "text/x-python",
   "name": "python",
   "nbconvert_exporter": "python",
   "pygments_lexer": "ipython3",
   "version": "3.8.3"
  }
 },
 "nbformat": 4,
 "nbformat_minor": 4
}
