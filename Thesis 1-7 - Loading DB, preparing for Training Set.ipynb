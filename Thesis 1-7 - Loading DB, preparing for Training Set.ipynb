{
 "cells": [
  {
   "cell_type": "code",
   "execution_count": 1,
   "metadata": {},
   "outputs": [],
   "source": [
    "#pip install pandas-profiling"
   ]
  },
  {
   "cell_type": "code",
   "execution_count": 2,
   "metadata": {},
   "outputs": [],
   "source": [
    "from IPython.core.interactiveshell import InteractiveShell\n",
    "InteractiveShell.ast_node_interactivity = \"all\""
   ]
  },
  {
   "cell_type": "code",
   "execution_count": 3,
   "metadata": {},
   "outputs": [],
   "source": [
    "#pd.set_option('display.max_rows', None)  # or 1000"
   ]
  },
  {
   "cell_type": "code",
   "execution_count": 4,
   "metadata": {},
   "outputs": [],
   "source": [
    "#Import Packages\n",
    "import pandas as pd\n",
    "import numpy as np\n",
    "import sqlite3\n",
    "import matplotlib.pyplot as plt\n",
    "import networkx as nx\n",
    "from urllib import parse\n",
    "from scipy import stats\n",
    "from functools import reduce\n",
    "from pandas_profiling import ProfileReport\n",
    "import numpy as np\n",
    "import scipy.sparse\n",
    "import scipy.sparse.csgraph"
   ]
  },
  {
   "cell_type": "markdown",
   "metadata": {},
   "source": [
    "# 1 DB connection and getting the data"
   ]
  },
  {
   "cell_type": "code",
   "execution_count": 5,
   "metadata": {},
   "outputs": [
    {
     "name": "stdout",
     "output_type": "stream",
     "text": [
      "  CompanyNumber          Homepage_domain RegisteredPostcode\n",
      "0      00000086          kentstone.co.uk           TN25 6SX\n",
      "1      00000118        hobbsparker.co.uk           TN23 1DA\n",
      "2      00000121                                    EC4A 2EA\n",
      "3      00000133         theshipslist.com           SW1E 5JQ\n",
      "4      00000140  nctilesandbathrooms.com            RM8 1SP\n"
     ]
    }
   ],
   "source": [
    "### Get the general information from database into a df\n",
    "\n",
    "# Read sqlite query results into a pandas DataFrame\n",
    "con = sqlite3.connect(\"/Users/Michael/The Data City/The Data City - Documents/Product/Backups/ClassifiedCompaniesRelational_May2021_LEPfix.db\")\n",
    "df_tdc_general = pd.read_sql_query(\"SELECT CompanyNumber, Homepage_domain, RegisteredPostcode from ClassifiedCompaniesRelational\", con)\n",
    "\n",
    "# Verify that result of SQL query is stored in the dataframe\n",
    "print(df_tdc_general.head())\n",
    "\n",
    "con.close()"
   ]
  },
  {
   "cell_type": "code",
   "execution_count": 57,
   "metadata": {},
   "outputs": [],
   "source": [
    "df_tdc_general['CompanyNumber'].to_csv('companynumbers.csv', index=False)"
   ]
  },
  {
   "cell_type": "code",
   "execution_count": 6,
   "metadata": {},
   "outputs": [
    {
     "name": "stdout",
     "output_type": "stream",
     "text": [
      "  CompanyNumber    SIC\n",
      "0      00000086  68209\n",
      "1      00000118  46110\n",
      "2      00000121  70100\n",
      "3      00000133  50200\n",
      "4      00000140  46730\n"
     ]
    }
   ],
   "source": [
    "### Get the SIC information from database into a df\n",
    "\n",
    "# Read sqlite query results into a pandas DataFrame\n",
    "con = sqlite3.connect(\"/Users/Michael/The Data City/The Data City - Documents/Product/Backups/ClassifiedCompaniesRelational_May2021_LEPfix.db\")\n",
    "df_tdc_sic = pd.read_sql_query(\"SELECT CompanyNumber, SIC from CompanySIC\", con)\n",
    "\n",
    "# Verify that result of SQL query is stored in the dataframe\n",
    "print(df_tdc_sic.head())\n",
    "\n",
    "con.close()"
   ]
  },
  {
   "cell_type": "code",
   "execution_count": 7,
   "metadata": {},
   "outputs": [
    {
     "name": "stdout",
     "output_type": "stream",
     "text": [
      "  CompanyNumber SICHLU\n",
      "0      00000086      L\n",
      "1      00000118      G\n",
      "2      00000121      M\n",
      "3      00000133      H\n",
      "4      00000140      G\n"
     ]
    }
   ],
   "source": [
    "### Get the SICHLU information from database into a df\n",
    "\n",
    "# Read sqlite query results into a pandas DataFrame\n",
    "con = sqlite3.connect(\"/Users/Michael/The Data City/The Data City - Documents/Product/Backups/ClassifiedCompaniesRelational_May2021_LEPfix.db\")\n",
    "df_tdc_sichlu = pd.read_sql_query(\"SELECT CompanyNumber, SICHLU from CompanySICHLU\", con)\n",
    "\n",
    "# Verify that result of SQL query is stored in the dataframe\n",
    "print(df_tdc_sichlu.head())\n",
    "\n",
    "con.close()"
   ]
  },
  {
   "cell_type": "markdown",
   "metadata": {},
   "source": [
    "# 2 Prepare all dataframes to be use"
   ]
  },
  {
   "cell_type": "code",
   "execution_count": 8,
   "metadata": {
    "scrolled": true
   },
   "outputs": [
    {
     "data": {
      "text/html": [
       "<div>\n",
       "<style scoped>\n",
       "    .dataframe tbody tr th:only-of-type {\n",
       "        vertical-align: middle;\n",
       "    }\n",
       "\n",
       "    .dataframe tbody tr th {\n",
       "        vertical-align: top;\n",
       "    }\n",
       "\n",
       "    .dataframe thead th {\n",
       "        text-align: right;\n",
       "    }\n",
       "</style>\n",
       "<table border=\"1\" class=\"dataframe\">\n",
       "  <thead>\n",
       "    <tr style=\"text-align: right;\">\n",
       "      <th></th>\n",
       "      <th>CompanyNumber</th>\n",
       "      <th>Homepage_domain</th>\n",
       "      <th>RegisteredPostcode</th>\n",
       "      <th>SIC</th>\n",
       "      <th>SICHLU</th>\n",
       "    </tr>\n",
       "  </thead>\n",
       "  <tbody>\n",
       "    <tr>\n",
       "      <th>0</th>\n",
       "      <td>00000086</td>\n",
       "      <td>kentstone.co.uk</td>\n",
       "      <td>TN25 6SX</td>\n",
       "      <td>68209</td>\n",
       "      <td>L</td>\n",
       "    </tr>\n",
       "    <tr>\n",
       "      <th>1</th>\n",
       "      <td>00000118</td>\n",
       "      <td>hobbsparker.co.uk</td>\n",
       "      <td>TN23 1DA</td>\n",
       "      <td>46110</td>\n",
       "      <td>G</td>\n",
       "    </tr>\n",
       "    <tr>\n",
       "      <th>2</th>\n",
       "      <td>00000121</td>\n",
       "      <td></td>\n",
       "      <td>EC4A 2EA</td>\n",
       "      <td>70100</td>\n",
       "      <td>M</td>\n",
       "    </tr>\n",
       "    <tr>\n",
       "      <th>3</th>\n",
       "      <td>00000133</td>\n",
       "      <td>theshipslist.com</td>\n",
       "      <td>SW1E 5JQ</td>\n",
       "      <td>50200</td>\n",
       "      <td>H</td>\n",
       "    </tr>\n",
       "    <tr>\n",
       "      <th>4</th>\n",
       "      <td>00000140</td>\n",
       "      <td>nctilesandbathrooms.com</td>\n",
       "      <td>RM8 1SP</td>\n",
       "      <td>46730</td>\n",
       "      <td>G</td>\n",
       "    </tr>\n",
       "  </tbody>\n",
       "</table>\n",
       "</div>"
      ],
      "text/plain": [
       "  CompanyNumber          Homepage_domain RegisteredPostcode    SIC SICHLU\n",
       "0      00000086          kentstone.co.uk           TN25 6SX  68209      L\n",
       "1      00000118        hobbsparker.co.uk           TN23 1DA  46110      G\n",
       "2      00000121                                    EC4A 2EA  70100      M\n",
       "3      00000133         theshipslist.com           SW1E 5JQ  50200      H\n",
       "4      00000140  nctilesandbathrooms.com            RM8 1SP  46730      G"
      ]
     },
     "execution_count": 8,
     "metadata": {},
     "output_type": "execute_result"
    }
   ],
   "source": [
    "# Combine the three df's from step one\n",
    "df_tdc_gen_sic = df_tdc_general.merge(df_tdc_sic, on='CompanyNumber', how='inner')\n",
    "df_tdc_combined = df_tdc_gen_sic.merge(df_tdc_sichlu, on='CompanyNumber', how='inner')\n",
    "df_tdc_combined.head()"
   ]
  },
  {
   "cell_type": "code",
   "execution_count": 9,
   "metadata": {},
   "outputs": [
    {
     "data": {
      "text/plain": [
       "6422483"
      ]
     },
     "execution_count": 9,
     "metadata": {},
     "output_type": "execute_result"
    }
   ],
   "source": [
    "len(df_tdc_combined)"
   ]
  },
  {
   "cell_type": "code",
   "execution_count": 10,
   "metadata": {},
   "outputs": [
    {
     "data": {
      "text/html": [
       "<div>\n",
       "<style scoped>\n",
       "    .dataframe tbody tr th:only-of-type {\n",
       "        vertical-align: middle;\n",
       "    }\n",
       "\n",
       "    .dataframe tbody tr th {\n",
       "        vertical-align: top;\n",
       "    }\n",
       "\n",
       "    .dataframe thead th {\n",
       "        text-align: right;\n",
       "    }\n",
       "</style>\n",
       "<table border=\"1\" class=\"dataframe\">\n",
       "  <thead>\n",
       "    <tr style=\"text-align: right;\">\n",
       "      <th></th>\n",
       "      <th>Source</th>\n",
       "      <th>Target</th>\n",
       "    </tr>\n",
       "  </thead>\n",
       "  <tbody>\n",
       "    <tr>\n",
       "      <th>0</th>\n",
       "      <td>salonspy.co.uk</td>\n",
       "      <td>zenoti.com</td>\n",
       "    </tr>\n",
       "    <tr>\n",
       "      <th>1</th>\n",
       "      <td>salonspy.co.uk</td>\n",
       "      <td>phorest.com</td>\n",
       "    </tr>\n",
       "    <tr>\n",
       "      <th>2</th>\n",
       "      <td>salonspy.co.uk</td>\n",
       "      <td>b2bscheduleit.com</td>\n",
       "    </tr>\n",
       "    <tr>\n",
       "      <th>3</th>\n",
       "      <td>salonspy.co.uk</td>\n",
       "      <td>salonadvantage.net</td>\n",
       "    </tr>\n",
       "    <tr>\n",
       "      <th>4</th>\n",
       "      <td>salonspy.co.uk</td>\n",
       "      <td>saloniris.co.uk</td>\n",
       "    </tr>\n",
       "    <tr>\n",
       "      <th>5</th>\n",
       "      <td>salonspy.co.uk</td>\n",
       "      <td>premiersoftware.uk</td>\n",
       "    </tr>\n",
       "    <tr>\n",
       "      <th>6</th>\n",
       "      <td>salonspy.co.uk</td>\n",
       "      <td>saloniq.com</td>\n",
       "    </tr>\n",
       "    <tr>\n",
       "      <th>7</th>\n",
       "      <td>salonspy.co.uk</td>\n",
       "      <td>shortcuts.co.uk</td>\n",
       "    </tr>\n",
       "    <tr>\n",
       "      <th>8</th>\n",
       "      <td>salonspy.co.uk</td>\n",
       "      <td>isalonsoftware.co.uk</td>\n",
       "    </tr>\n",
       "    <tr>\n",
       "      <th>9</th>\n",
       "      <td>salonspy.co.uk</td>\n",
       "      <td>wella.com</td>\n",
       "    </tr>\n",
       "    <tr>\n",
       "      <th>10</th>\n",
       "      <td>thinkific.com</td>\n",
       "      <td>youtu.be</td>\n",
       "    </tr>\n",
       "    <tr>\n",
       "      <th>11</th>\n",
       "      <td>diamondship.co.za</td>\n",
       "      <td>eukor.com</td>\n",
       "    </tr>\n",
       "    <tr>\n",
       "      <th>12</th>\n",
       "      <td>engendieselsltd.com</td>\n",
       "      <td>engendieselsltd.com</td>\n",
       "    </tr>\n",
       "    <tr>\n",
       "      <th>13</th>\n",
       "      <td>engendieselsltd.com</td>\n",
       "      <td>twitter.com</td>\n",
       "    </tr>\n",
       "    <tr>\n",
       "      <th>14</th>\n",
       "      <td>engendieselsltd.com</td>\n",
       "      <td>facebook.com</td>\n",
       "    </tr>\n",
       "    <tr>\n",
       "      <th>15</th>\n",
       "      <td>itlab.com</td>\n",
       "      <td>freshintranet.com</td>\n",
       "    </tr>\n",
       "    <tr>\n",
       "      <th>16</th>\n",
       "      <td>itlab.com</td>\n",
       "      <td>hbr.org</td>\n",
       "    </tr>\n",
       "    <tr>\n",
       "      <th>17</th>\n",
       "      <td>salonspy.co.uk</td>\n",
       "      <td>hobsalons.com</td>\n",
       "    </tr>\n",
       "    <tr>\n",
       "      <th>18</th>\n",
       "      <td>salonspy.co.uk</td>\n",
       "      <td>hobsalons.mylocalsalon.com</td>\n",
       "    </tr>\n",
       "    <tr>\n",
       "      <th>19</th>\n",
       "      <td>salonspy.co.uk</td>\n",
       "      <td>en-gb.facebook.com</td>\n",
       "    </tr>\n",
       "  </tbody>\n",
       "</table>\n",
       "</div>"
      ],
      "text/plain": [
       "                 Source                      Target\n",
       "0        salonspy.co.uk                  zenoti.com\n",
       "1        salonspy.co.uk                 phorest.com\n",
       "2        salonspy.co.uk           b2bscheduleit.com\n",
       "3        salonspy.co.uk          salonadvantage.net\n",
       "4        salonspy.co.uk             saloniris.co.uk\n",
       "5        salonspy.co.uk          premiersoftware.uk\n",
       "6        salonspy.co.uk                 saloniq.com\n",
       "7        salonspy.co.uk             shortcuts.co.uk\n",
       "8        salonspy.co.uk        isalonsoftware.co.uk\n",
       "9        salonspy.co.uk                   wella.com\n",
       "10        thinkific.com                    youtu.be\n",
       "11    diamondship.co.za                   eukor.com\n",
       "12  engendieselsltd.com         engendieselsltd.com\n",
       "13  engendieselsltd.com                 twitter.com\n",
       "14  engendieselsltd.com                facebook.com\n",
       "15            itlab.com           freshintranet.com\n",
       "16            itlab.com                     hbr.org\n",
       "17       salonspy.co.uk               hobsalons.com\n",
       "18       salonspy.co.uk  hobsalons.mylocalsalon.com\n",
       "19       salonspy.co.uk          en-gb.facebook.com"
      ]
     },
     "execution_count": 10,
     "metadata": {},
     "output_type": "execute_result"
    }
   ],
   "source": [
    "#read in the file with all in- and out-degree links\n",
    "df_tdc_links = pd.read_csv('/Users/Michael/Library/Mobile Documents/com~apple~CloudDocs/Universität/UCL/Programming/MasterThesis/Data/domainlink.csv', low_memory=False)#read in the csv file\n",
    "df_tdc_links.rename(columns={\"OriginDomain\": \"Source\", \"DestinationDomain\": \"Target\"}, \n",
    "          inplace=True)#rename columns\n",
    "df_tdc_links.head(20)"
   ]
  },
  {
   "cell_type": "markdown",
   "metadata": {},
   "source": [
    "As we see in the first twenty rows, some of the domains in \"Target\" will be social media channels and other not desired results. Therefore, We will delete such \"Targets\" after calculating all metrices.\n",
    "\n",
    "Why not now? We are interested in the overall network of the UK economy. If many companies link to Facebook or NHS - that is fine and important to integrate in any calculation."
   ]
  },
  {
   "cell_type": "code",
   "execution_count": 56,
   "metadata": {},
   "outputs": [
    {
     "data": {
      "text/plain": [
       "2582467"
      ]
     },
     "execution_count": 56,
     "metadata": {},
     "output_type": "execute_result"
    }
   ],
   "source": [
    "df_tdc_links['Target'].nunique()"
   ]
  },
  {
   "cell_type": "markdown",
   "metadata": {},
   "source": [
    "# 3 Quick EDA of the combined dataframe. Do we have to clean something in advance?"
   ]
  },
  {
   "cell_type": "code",
   "execution_count": 11,
   "metadata": {
    "scrolled": true
   },
   "outputs": [],
   "source": [
    "#prof = ProfileReport(df_tdc_combined)\n",
    "#prof"
   ]
  },
  {
   "cell_type": "markdown",
   "metadata": {},
   "source": [
    "# 4 Calculate centrality measures on Link DF"
   ]
  },
  {
   "cell_type": "code",
   "execution_count": 17,
   "metadata": {},
   "outputs": [
    {
     "name": "stdout",
     "output_type": "stream",
     "text": [
      "Name: \n",
      "Type: DiGraph\n",
      "Number of nodes: 2608225\n",
      "Number of edges: 7849234\n",
      "Average in degree:   3.0094\n",
      "Average out degree:   3.0094\n",
      "CPU times: user 53.1 s, sys: 44.3 s, total: 1min 37s\n",
      "Wall time: 2min 3s\n"
     ]
    }
   ],
   "source": [
    "%%time\n",
    "#create a networkx graph to calculate the number of nodes and edges.\n",
    "G=nx.from_pandas_edgelist(df_tdc_links, 'Source', 'Target', create_using=nx.DiGraph)\n",
    "print(nx.info(G))"
   ]
  },
  {
   "cell_type": "code",
   "execution_count": 18,
   "metadata": {},
   "outputs": [
    {
     "name": "stdout",
     "output_type": "stream",
     "text": [
      "CPU times: user 2.37 s, sys: 751 ms, total: 3.12 s\n",
      "Wall time: 3.58 s\n"
     ]
    }
   ],
   "source": [
    "%%time\n",
    "indegree_centrality = nx.in_degree_centrality(G)"
   ]
  },
  {
   "cell_type": "code",
   "execution_count": 19,
   "metadata": {},
   "outputs": [
    {
     "name": "stdout",
     "output_type": "stream",
     "text": [
      "CPU times: user 2.89 s, sys: 2.41 s, total: 5.3 s\n",
      "Wall time: 6.08 s\n"
     ]
    }
   ],
   "source": [
    "%%time\n",
    "outdegree_centrality = nx.out_degree_centrality(G)"
   ]
  },
  {
   "cell_type": "code",
   "execution_count": 20,
   "metadata": {},
   "outputs": [
    {
     "name": "stdout",
     "output_type": "stream",
     "text": [
      "CPU times: user 5 µs, sys: 1e+03 ns, total: 6 µs\n",
      "Wall time: 10 µs\n"
     ]
    }
   ],
   "source": [
    "%time\n",
    "eigenvector_centrality = nx.eigenvector_centrality(G)"
   ]
  },
  {
   "cell_type": "code",
   "execution_count": 21,
   "metadata": {},
   "outputs": [
    {
     "name": "stdout",
     "output_type": "stream",
     "text": [
      "CPU times: user 6 µs, sys: 8 µs, total: 14 µs\n",
      "Wall time: 32.9 µs\n"
     ]
    }
   ],
   "source": [
    "%time\n",
    "pagerank = nx.pagerank(G, alpha=0.85) #calculating pagerank"
   ]
  },
  {
   "cell_type": "code",
   "execution_count": 22,
   "metadata": {},
   "outputs": [
    {
     "name": "stdout",
     "output_type": "stream",
     "text": [
      "CPU times: user 3min 23s, sys: 3min 45s, total: 7min 9s\n",
      "Wall time: 9min 17s\n"
     ]
    },
    {
     "data": {
      "text/html": [
       "<div>\n",
       "<style scoped>\n",
       "    .dataframe tbody tr th:only-of-type {\n",
       "        vertical-align: middle;\n",
       "    }\n",
       "\n",
       "    .dataframe tbody tr th {\n",
       "        vertical-align: top;\n",
       "    }\n",
       "\n",
       "    .dataframe thead th {\n",
       "        text-align: right;\n",
       "    }\n",
       "</style>\n",
       "<table border=\"1\" class=\"dataframe\">\n",
       "  <thead>\n",
       "    <tr style=\"text-align: right;\">\n",
       "      <th></th>\n",
       "      <th>Target</th>\n",
       "      <th>pagerank</th>\n",
       "      <th>indegree_centrality</th>\n",
       "      <th>outdegree_centrality</th>\n",
       "      <th>eigenvector_centrality</th>\n",
       "    </tr>\n",
       "  </thead>\n",
       "  <tbody>\n",
       "    <tr>\n",
       "      <th>0</th>\n",
       "      <td>salonspy.co.uk</td>\n",
       "      <td>1.582891e-06</td>\n",
       "      <td>1.341909e-05</td>\n",
       "      <td>0.000018</td>\n",
       "      <td>7.891143e-07</td>\n",
       "    </tr>\n",
       "    <tr>\n",
       "      <th>1</th>\n",
       "      <td>zenoti.com</td>\n",
       "      <td>3.356687e-07</td>\n",
       "      <td>7.668053e-07</td>\n",
       "      <td>0.000000</td>\n",
       "      <td>1.928796e-07</td>\n",
       "    </tr>\n",
       "    <tr>\n",
       "      <th>2</th>\n",
       "      <td>phorest.com</td>\n",
       "      <td>1.273950e-05</td>\n",
       "      <td>1.115702e-04</td>\n",
       "      <td>0.000012</td>\n",
       "      <td>1.123007e-05</td>\n",
       "    </tr>\n",
       "    <tr>\n",
       "      <th>3</th>\n",
       "      <td>b2bscheduleit.com</td>\n",
       "      <td>3.281481e-07</td>\n",
       "      <td>7.668053e-07</td>\n",
       "      <td>0.000005</td>\n",
       "      <td>1.606330e-07</td>\n",
       "    </tr>\n",
       "    <tr>\n",
       "      <th>4</th>\n",
       "      <td>salonadvantage.net</td>\n",
       "      <td>3.030795e-07</td>\n",
       "      <td>3.834027e-07</td>\n",
       "      <td>0.000000</td>\n",
       "      <td>1.262813e-07</td>\n",
       "    </tr>\n",
       "  </tbody>\n",
       "</table>\n",
       "</div>"
      ],
      "text/plain": [
       "               Target      pagerank  indegree_centrality  \\\n",
       "0      salonspy.co.uk  1.582891e-06         1.341909e-05   \n",
       "1          zenoti.com  3.356687e-07         7.668053e-07   \n",
       "2         phorest.com  1.273950e-05         1.115702e-04   \n",
       "3   b2bscheduleit.com  3.281481e-07         7.668053e-07   \n",
       "4  salonadvantage.net  3.030795e-07         3.834027e-07   \n",
       "\n",
       "   outdegree_centrality  eigenvector_centrality  \n",
       "0              0.000018            7.891143e-07  \n",
       "1              0.000000            1.928796e-07  \n",
       "2              0.000012            1.123007e-05  \n",
       "3              0.000005            1.606330e-07  \n",
       "4              0.000000            1.262813e-07  "
      ]
     },
     "execution_count": 22,
     "metadata": {},
     "output_type": "execute_result"
    }
   ],
   "source": [
    "%%time\n",
    "#create a dataframe out of the pagerank list\n",
    "df_metrices = pd.DataFrame([pagerank, indegree_centrality, outdegree_centrality, eigenvector_centrality])\n",
    "df_metrices = df_metrices.T #transpose the dataframe\n",
    "df_metrices.reset_index(inplace=True) #reset the index\n",
    "df_metrices.columns = ['Target', 'pagerank', 'indegree_centrality',\n",
    "                       'outdegree_centrality', 'eigenvector_centrality'] #rename the columns\n",
    "df_metrices.sort_values(by=['pagerank'], ascending=False) #sort the df on pagerank\n",
    "df_metrices.head(5)"
   ]
  },
  {
   "cell_type": "code",
   "execution_count": 23,
   "metadata": {},
   "outputs": [
    {
     "data": {
      "text/plain": [
       "2608225"
      ]
     },
     "execution_count": 23,
     "metadata": {},
     "output_type": "execute_result"
    }
   ],
   "source": [
    "len(df_metrices)"
   ]
  },
  {
   "cell_type": "markdown",
   "metadata": {},
   "source": [
    "Let's check if pagerank and indegree centrality are actually different"
   ]
  },
  {
   "cell_type": "code",
   "execution_count": 24,
   "metadata": {},
   "outputs": [
    {
     "name": "stdout",
     "output_type": "stream",
     "text": [
      "Pearsons correlation: 0.992\n"
     ]
    }
   ],
   "source": [
    "from scipy.stats import spearmanr\n",
    "from scipy.stats import pearsonr\n",
    "\n",
    "#prepare the data\n",
    "x = df_metrices['pagerank']\n",
    "y = df_metrices['indegree_centrality']\n",
    "\n",
    "\n",
    "# calculate Pearson's correlation\n",
    "corr, _ = pearsonr(x, y)\n",
    "print('Pearsons correlation: %.3f' % corr)"
   ]
  },
  {
   "cell_type": "code",
   "execution_count": 25,
   "metadata": {},
   "outputs": [
    {
     "name": "stdout",
     "output_type": "stream",
     "text": [
      "stat=0.992, p=0.000\n",
      "Probably dependent\n"
     ]
    }
   ],
   "source": [
    "\n",
    "# Example of the Pearson's Correlation test\n",
    "from scipy.stats import pearsonr\n",
    "x = df_metrices['pagerank']\n",
    "y = df_metrices['indegree_centrality']\n",
    "stat, p = pearsonr(x, y)\n",
    "print('stat=%.3f, p=%.3f' % (stat, p))\n",
    "if p > 0.05:\n",
    "    print('Probably independent')\n",
    "else:\n",
    "    print('Probably dependent')"
   ]
  },
  {
   "cell_type": "code",
   "execution_count": null,
   "metadata": {},
   "outputs": [],
   "source": []
  },
  {
   "cell_type": "code",
   "execution_count": 31,
   "metadata": {},
   "outputs": [
    {
     "data": {
      "text/plain": [
       "{'whiskers': [<matplotlib.lines.Line2D at 0x7ff7ec9dc8b0>,\n",
       "  <matplotlib.lines.Line2D at 0x7ff7ec9dcc10>],\n",
       " 'caps': [<matplotlib.lines.Line2D at 0x7ff7ec9dcf70>,\n",
       "  <matplotlib.lines.Line2D at 0x7ff7ec9db310>],\n",
       " 'boxes': [<matplotlib.lines.Line2D at 0x7ff7ec9dc550>],\n",
       " 'medians': [<matplotlib.lines.Line2D at 0x7ff7ec9db670>],\n",
       " 'fliers': [<matplotlib.lines.Line2D at 0x7ff7ec9db970>],\n",
       " 'means': []}"
      ]
     },
     "execution_count": 31,
     "metadata": {},
     "output_type": "execute_result"
    },
    {
     "data": {
      "image/png": "[encoded data removed]",
      "text/plain": [
       "<Figure size 432x288 with 1 Axes>"
      ]
     },
     "metadata": {
      "needs_background": "light"
     },
     "output_type": "display_data"
    }
   ],
   "source": [
    "plt.boxplot(df_metrices['pagerank'])#visualize indegree distribution"
   ]
  },
  {
   "cell_type": "code",
   "execution_count": 32,
   "metadata": {},
   "outputs": [
    {
     "data": {
      "text/plain": [
       "{'whiskers': [<matplotlib.lines.Line2D at 0x7ff7c3e2ddf0>,\n",
       "  <matplotlib.lines.Line2D at 0x7ff7c3e0b190>],\n",
       " 'caps': [<matplotlib.lines.Line2D at 0x7ff7c3e0b4f0>,\n",
       "  <matplotlib.lines.Line2D at 0x7ff7c3e0b880>],\n",
       " 'boxes': [<matplotlib.lines.Line2D at 0x7ff7c3e2da90>],\n",
       " 'medians': [<matplotlib.lines.Line2D at 0x7ff7c3e0bbe0>],\n",
       " 'fliers': [<matplotlib.lines.Line2D at 0x7ff7c3e0bee0>],\n",
       " 'means': []}"
      ]
     },
     "execution_count": 32,
     "metadata": {},
     "output_type": "execute_result"
    },
    {
     "data": {
      "image/png": "[encoded data removed]",
      "text/plain": [
       "<Figure size 432x288 with 1 Axes>"
      ]
     },
     "metadata": {
      "needs_background": "light"
     },
     "output_type": "display_data"
    }
   ],
   "source": [
    "plt.boxplot(df_metrices['indegree_centrality'])#visualize indegree distribution"
   ]
  },
  {
   "cell_type": "code",
   "execution_count": 34,
   "metadata": {},
   "outputs": [
    {
     "data": {
      "text/plain": [
       "922"
      ]
     },
     "execution_count": 34,
     "metadata": {},
     "output_type": "execute_result"
    }
   ],
   "source": [
    "df_metrices['indegree_centrality'].nunique()"
   ]
  },
  {
   "cell_type": "code",
   "execution_count": 35,
   "metadata": {},
   "outputs": [
    {
     "data": {
      "text/plain": [
       "274787"
      ]
     },
     "execution_count": 35,
     "metadata": {},
     "output_type": "execute_result"
    }
   ],
   "source": [
    "df_metrices['pagerank'].nunique()"
   ]
  },
  {
   "cell_type": "code",
   "execution_count": 36,
   "metadata": {},
   "outputs": [
    {
     "data": {
      "text/plain": [
       "2608225"
      ]
     },
     "execution_count": 36,
     "metadata": {},
     "output_type": "execute_result"
    }
   ],
   "source": [
    "len(df_metrices)\n",
    "2 608 225\n",
    "274 787"
   ]
  },
  {
   "cell_type": "markdown",
   "metadata": {},
   "source": [
    "# 5 Merge the df with centrality measures and the TDC data set"
   ]
  },
  {
   "cell_type": "code",
   "execution_count": 37,
   "metadata": {},
   "outputs": [],
   "source": [
    "df_tdc_links['Target'] = df_tdc_links['Target'].astype('string')\n",
    "df_tdc_links['Source'] = df_tdc_links['Source'].astype('string')\n",
    "\n",
    "df_tdc_combined['Homepage_domain'] = df_tdc_combined['Homepage_domain'].astype('string')\n",
    "df_tdc_combined['CompanyNumber'] = df_tdc_combined['CompanyNumber'].astype('string')\n",
    "df_tdc_combined['RegisteredPostcode'] = df_tdc_combined['RegisteredPostcode'].astype('string')\n",
    "df_tdc_combined['SIC'] = df_tdc_combined['SIC'].astype('category')\n",
    "df_tdc_combined['SICHLU'] = df_tdc_combined['SICHLU'].astype('category')\n",
    "\n",
    "df_metrices['Target'] = df_metrices['Target'].astype('string')"
   ]
  },
  {
   "cell_type": "code",
   "execution_count": 38,
   "metadata": {},
   "outputs": [
    {
     "data": {
      "text/plain": [
       "23980840"
      ]
     },
     "execution_count": 38,
     "metadata": {},
     "output_type": "execute_result"
    }
   ],
   "source": [
    "###merge links with the other one\n",
    "df_links_tdc_comb = df_tdc_combined.merge(df_tdc_links, left_on='Homepage_domain', right_on='Target', how='inner')\n",
    "\n",
    "#merge with metrices\n",
    "df_links_tdc_comb = df_links_tdc_comb.merge(df_metrices, on='Target', how='right')\n",
    "\n",
    "len(df_links_tdc_comb)"
   ]
  },
  {
   "cell_type": "code",
   "execution_count": 39,
   "metadata": {},
   "outputs": [
    {
     "data": {
      "text/plain": [
       "902781"
      ]
     },
     "execution_count": 39,
     "metadata": {},
     "output_type": "execute_result"
    }
   ],
   "source": [
    "df_links_tdc_comb['CompanyNumber'].nunique()"
   ]
  },
  {
   "cell_type": "markdown",
   "metadata": {},
   "source": [
    "As we can see, the df has a total length of 23.9mln rows, whereas the unique Company Numbers equate only to a length of 902'781 rows. If looking into an example of a company number appearing several times, one will see that the same company number may have various SIC and SICHLU codes. As we cannot evaluate and judge which single SIC(HLU) they should be counted in, I have to consider whether deleting all companies with multiple occurences is an option."
   ]
  },
  {
   "cell_type": "code",
   "execution_count": null,
   "metadata": {},
   "outputs": [],
   "source": [
    "counts=df_links_tdc_comb['CompanyNumber'].value_counts()"
   ]
  },
  {
   "cell_type": "code",
   "execution_count": null,
   "metadata": {},
   "outputs": [],
   "source": [
    "counts.head()"
   ]
  },
  {
   "cell_type": "markdown",
   "metadata": {},
   "source": [
    "There are 411532 values which occure only once. Let's see how many companies we can get per SICHLU"
   ]
  },
  {
   "cell_type": "code",
   "execution_count": null,
   "metadata": {},
   "outputs": [],
   "source": [
    "df_links_tdc_comb['SICHLU'].value_counts()"
   ]
  },
  {
   "cell_type": "markdown",
   "metadata": {},
   "source": [
    "Only six categories have below 10'000 unique companies. As the training set generation will ultimately have to focus on the distribution across all categories with a respective weighting, this appears to be not an important problem and we can go ahead."
   ]
  },
  {
   "cell_type": "markdown",
   "metadata": {},
   "source": [
    "Before, we go ahead with the training set, we have to delete duplicate domains. It might be that a company has several company numbers and several  businesses but the same domain."
   ]
  },
  {
   "cell_type": "code",
   "execution_count": 51,
   "metadata": {},
   "outputs": [],
   "source": [
    "df_links_tdc_comb = df_links_tdc_comb.drop_duplicates(subset=['Homepage_domain'])"
   ]
  },
  {
   "cell_type": "code",
   "execution_count": null,
   "metadata": {},
   "outputs": [],
   "source": []
  },
  {
   "cell_type": "code",
   "execution_count": 53,
   "metadata": {},
   "outputs": [
    {
     "data": {
      "text/html": [
       "<div>\n",
       "<style scoped>\n",
       "    .dataframe tbody tr th:only-of-type {\n",
       "        vertical-align: middle;\n",
       "    }\n",
       "\n",
       "    .dataframe tbody tr th {\n",
       "        vertical-align: top;\n",
       "    }\n",
       "\n",
       "    .dataframe thead th {\n",
       "        text-align: right;\n",
       "    }\n",
       "</style>\n",
       "<table border=\"1\" class=\"dataframe\">\n",
       "  <thead>\n",
       "    <tr style=\"text-align: right;\">\n",
       "      <th></th>\n",
       "      <th>CompanyNumber</th>\n",
       "      <th>Homepage_domain</th>\n",
       "      <th>RegisteredPostcode</th>\n",
       "      <th>SIC</th>\n",
       "      <th>SICHLU</th>\n",
       "      <th>Source</th>\n",
       "      <th>Target</th>\n",
       "      <th>pagerank</th>\n",
       "      <th>indegree_centrality</th>\n",
       "      <th>outdegree_centrality</th>\n",
       "      <th>eigenvector_centrality</th>\n",
       "    </tr>\n",
       "  </thead>\n",
       "  <tbody>\n",
       "    <tr>\n",
       "      <th>22015003</th>\n",
       "      <td>&lt;NA&gt;</td>\n",
       "      <td>&lt;NA&gt;</td>\n",
       "      <td>&lt;NA&gt;</td>\n",
       "      <td>NaN</td>\n",
       "      <td>NaN</td>\n",
       "      <td>&lt;NA&gt;</td>\n",
       "      <td>facebook.com</td>\n",
       "      <td>0.015433</td>\n",
       "      <td>0.136689</td>\n",
       "      <td>0.000007</td>\n",
       "      <td>0.444616</td>\n",
       "    </tr>\n",
       "    <tr>\n",
       "      <th>21309524</th>\n",
       "      <td>09356191</td>\n",
       "      <td>twitter.com</td>\n",
       "      <td>W1B 5AN</td>\n",
       "      <td>62012</td>\n",
       "      <td>J</td>\n",
       "      <td>globalvanlines.com</td>\n",
       "      <td>twitter.com</td>\n",
       "      <td>0.012366</td>\n",
       "      <td>0.122649</td>\n",
       "      <td>0.000009</td>\n",
       "      <td>0.483314</td>\n",
       "    </tr>\n",
       "    <tr>\n",
       "      <th>15268017</th>\n",
       "      <td>10195014</td>\n",
       "      <td>google.com</td>\n",
       "      <td>E16 1AH</td>\n",
       "      <td>99999</td>\n",
       "      <td>U</td>\n",
       "      <td>tmsa.scot</td>\n",
       "      <td>google.com</td>\n",
       "      <td>0.002264</td>\n",
       "      <td>0.026671</td>\n",
       "      <td>0.000084</td>\n",
       "      <td>0.183759</td>\n",
       "    </tr>\n",
       "    <tr>\n",
       "      <th>17559702</th>\n",
       "      <td>11210970</td>\n",
       "      <td>ico.org.uk</td>\n",
       "      <td>B16 0EF</td>\n",
       "      <td>80100</td>\n",
       "      <td>N</td>\n",
       "      <td>mentalhealth-uk.org</td>\n",
       "      <td>ico.org.uk</td>\n",
       "      <td>0.001467</td>\n",
       "      <td>0.018033</td>\n",
       "      <td>0.000014</td>\n",
       "      <td>0.112136</td>\n",
       "    </tr>\n",
       "    <tr>\n",
       "      <th>10353761</th>\n",
       "      <td>SC266408</td>\n",
       "      <td>google.co.uk</td>\n",
       "      <td>EH3 8BL</td>\n",
       "      <td>86220</td>\n",
       "      <td>Q</td>\n",
       "      <td>03interiors.co.uk</td>\n",
       "      <td>google.co.uk</td>\n",
       "      <td>0.001027</td>\n",
       "      <td>0.010767</td>\n",
       "      <td>0.000013</td>\n",
       "      <td>0.079179</td>\n",
       "    </tr>\n",
       "    <tr>\n",
       "      <th>20881082</th>\n",
       "      <td>08778322</td>\n",
       "      <td>cloudflare.com</td>\n",
       "      <td>SE1 7PB</td>\n",
       "      <td>62012</td>\n",
       "      <td>J</td>\n",
       "      <td>israuk.org</td>\n",
       "      <td>cloudflare.com</td>\n",
       "      <td>0.000515</td>\n",
       "      <td>0.004996</td>\n",
       "      <td>0.000036</td>\n",
       "      <td>0.010998</td>\n",
       "    </tr>\n",
       "    <tr>\n",
       "      <th>19486617</th>\n",
       "      <td>07460045</td>\n",
       "      <td>godaddy.com</td>\n",
       "      <td>IP11 2LN</td>\n",
       "      <td>82990</td>\n",
       "      <td>N</td>\n",
       "      <td>flyexair.com</td>\n",
       "      <td>godaddy.com</td>\n",
       "      <td>0.000354</td>\n",
       "      <td>0.001287</td>\n",
       "      <td>0.000049</td>\n",
       "      <td>0.000045</td>\n",
       "    </tr>\n",
       "    <tr>\n",
       "      <th>18213105</th>\n",
       "      <td>07479536</td>\n",
       "      <td>ionos.co.uk</td>\n",
       "      <td>DL6 2XQ</td>\n",
       "      <td>01110</td>\n",
       "      <td>A</td>\n",
       "      <td>specialcareservices.co.uk</td>\n",
       "      <td>ionos.co.uk</td>\n",
       "      <td>0.000338</td>\n",
       "      <td>0.002176</td>\n",
       "      <td>0.000026</td>\n",
       "      <td>0.000103</td>\n",
       "    </tr>\n",
       "    <tr>\n",
       "      <th>20491141</th>\n",
       "      <td>07600360</td>\n",
       "      <td>pinterest.co.uk</td>\n",
       "      <td>IP2 0AJ</td>\n",
       "      <td>41202</td>\n",
       "      <td>F</td>\n",
       "      <td>williamhunt.co.uk</td>\n",
       "      <td>pinterest.co.uk</td>\n",
       "      <td>0.000329</td>\n",
       "      <td>0.003977</td>\n",
       "      <td>0.000001</td>\n",
       "      <td>0.006892</td>\n",
       "    </tr>\n",
       "    <tr>\n",
       "      <th>11659115</th>\n",
       "      <td>11049023</td>\n",
       "      <td>adobe.com</td>\n",
       "      <td>PE13 4LF</td>\n",
       "      <td>99999</td>\n",
       "      <td>U</td>\n",
       "      <td>gillenterpriseslondon.com</td>\n",
       "      <td>adobe.com</td>\n",
       "      <td>0.000277</td>\n",
       "      <td>0.002496</td>\n",
       "      <td>0.000026</td>\n",
       "      <td>0.017818</td>\n",
       "    </tr>\n",
       "  </tbody>\n",
       "</table>\n",
       "</div>"
      ],
      "text/plain": [
       "         CompanyNumber  Homepage_domain RegisteredPostcode    SIC SICHLU  \\\n",
       "22015003          <NA>             <NA>               <NA>    NaN    NaN   \n",
       "21309524      09356191      twitter.com            W1B 5AN  62012      J   \n",
       "15268017      10195014       google.com            E16 1AH  99999      U   \n",
       "17559702      11210970       ico.org.uk            B16 0EF  80100      N   \n",
       "10353761      SC266408     google.co.uk            EH3 8BL  86220      Q   \n",
       "20881082      08778322   cloudflare.com            SE1 7PB  62012      J   \n",
       "19486617      07460045      godaddy.com           IP11 2LN  82990      N   \n",
       "18213105      07479536      ionos.co.uk            DL6 2XQ  01110      A   \n",
       "20491141      07600360  pinterest.co.uk            IP2 0AJ  41202      F   \n",
       "11659115      11049023        adobe.com           PE13 4LF  99999      U   \n",
       "\n",
       "                             Source           Target  pagerank  \\\n",
       "22015003                       <NA>     facebook.com  0.015433   \n",
       "21309524         globalvanlines.com      twitter.com  0.012366   \n",
       "15268017                  tmsa.scot       google.com  0.002264   \n",
       "17559702        mentalhealth-uk.org       ico.org.uk  0.001467   \n",
       "10353761          03interiors.co.uk     google.co.uk  0.001027   \n",
       "20881082                 israuk.org   cloudflare.com  0.000515   \n",
       "19486617               flyexair.com      godaddy.com  0.000354   \n",
       "18213105  specialcareservices.co.uk      ionos.co.uk  0.000338   \n",
       "20491141          williamhunt.co.uk  pinterest.co.uk  0.000329   \n",
       "11659115  gillenterpriseslondon.com        adobe.com  0.000277   \n",
       "\n",
       "          indegree_centrality  outdegree_centrality  eigenvector_centrality  \n",
       "22015003             0.136689              0.000007                0.444616  \n",
       "21309524             0.122649              0.000009                0.483314  \n",
       "15268017             0.026671              0.000084                0.183759  \n",
       "17559702             0.018033              0.000014                0.112136  \n",
       "10353761             0.010767              0.000013                0.079179  \n",
       "20881082             0.004996              0.000036                0.010998  \n",
       "19486617             0.001287              0.000049                0.000045  \n",
       "18213105             0.002176              0.000026                0.000103  \n",
       "20491141             0.003977              0.000001                0.006892  \n",
       "11659115             0.002496              0.000026                0.017818  "
      ]
     },
     "execution_count": 53,
     "metadata": {},
     "output_type": "execute_result"
    }
   ],
   "source": [
    "#toplist=df_links_tdc_comb.sort_values(by='pagerank', ascending=False)\n",
    "toplist.head(10)"
   ]
  },
  {
   "cell_type": "code",
   "execution_count": 49,
   "metadata": {},
   "outputs": [],
   "source": [
    "toplist['Homepage_domain']=toplist['Homepage_domain'].astype(str)"
   ]
  },
  {
   "cell_type": "code",
   "execution_count": 50,
   "metadata": {},
   "outputs": [],
   "source": [
    "toplist=toplist.drop_duplicates(subset=['Homepage_domain'])"
   ]
  },
  {
   "cell_type": "markdown",
   "metadata": {},
   "source": [
    "# 6 Delete the \"Target\" rows containing domains not interesting for our analysis."
   ]
  },
  {
   "cell_type": "code",
   "execution_count": null,
   "metadata": {},
   "outputs": [],
   "source": [
    "#Therefore, let's get rid of companies which should not be considered.\n",
    "delete = ['.org', 'gov.uk', 'ac.uk', 'twitter', 'facebook', 'instagram',\n",
    "          'youtu.be', 'pinterest', 'amazon', 'google', 'cloudflare', 'godaddy',\n",
    "         'tumbler', 'reddit', 'wix', 'soundcloud', 'flickr', ] #dict what to delete\n",
    "\n",
    "#delete the rows we do not consider necessary\n",
    "df_links_tdc_comb = df_links_tdc_comb[~df_links_tdc_comb.Target.str.contains('|'.join(delete), na=False)]\n",
    "\n",
    "len(df_links_tdc_comb) #the number of rows post changes. We saved some 60'000 nodes!"
   ]
  },
  {
   "cell_type": "markdown",
   "metadata": {},
   "source": [
    "# 7 Exploration of the final df"
   ]
  },
  {
   "cell_type": "code",
   "execution_count": null,
   "metadata": {},
   "outputs": [],
   "source": [
    "#let's count how frequent some values reappear\n",
    "eda=df_links_tdc_comb['pagerank'].value_counts()\n",
    "eda.head(100) #Can we set a cut off rate?"
   ]
  },
  {
   "cell_type": "code",
   "execution_count": null,
   "metadata": {},
   "outputs": [],
   "source": [
    "len(eda)"
   ]
  },
  {
   "cell_type": "code",
   "execution_count": null,
   "metadata": {},
   "outputs": [],
   "source": [
    "#plt.figure(figsize=(8, 6))\n",
    "#plt.hist(df_links_tdc_comb['SIC'])"
   ]
  },
  {
   "cell_type": "code",
   "execution_count": null,
   "metadata": {},
   "outputs": [],
   "source": [
    "df_links_tdc_comb['SIC'].value_counts()"
   ]
  },
  {
   "cell_type": "code",
   "execution_count": null,
   "metadata": {},
   "outputs": [],
   "source": [
    "#plt.hist(df_links_tdc_comb['SICHLU'])"
   ]
  },
  {
   "cell_type": "markdown",
   "metadata": {},
   "source": [
    "While most SICHLU groups have more than 40,000 companies, TEP have significantly less. Besides these three groups, I do not expect any troubles in generating a training set."
   ]
  },
  {
   "cell_type": "code",
   "execution_count": null,
   "metadata": {},
   "outputs": [],
   "source": [
    "df_links_tdc_comb['SICHLU'].value_counts()"
   ]
  },
  {
   "cell_type": "markdown",
   "metadata": {},
   "source": [
    "This showed us that SIC are not feasible as too many codes have too little for any proper training set. Therefore, SICHLU will be used. "
   ]
  },
  {
   "cell_type": "code",
   "execution_count": null,
   "metadata": {},
   "outputs": [],
   "source": [
    "df_links_tdc_comb.head()"
   ]
  },
  {
   "cell_type": "code",
   "execution_count": null,
   "metadata": {},
   "outputs": [],
   "source": []
  },
  {
   "cell_type": "code",
   "execution_count": null,
   "metadata": {},
   "outputs": [],
   "source": [
    "#save the final dataframe as csv\n",
    "df_links_tdc_comb.to_csv('/Users/Michael/Library/Mobile Documents/com~apple~CloudDocs/Universität/UCL/Programming/MasterThesis/Data/df_links_tdc_comb.csv', index=False)\n",
    "\n"
   ]
  },
  {
   "cell_type": "code",
   "execution_count": null,
   "metadata": {},
   "outputs": [],
   "source": []
  }
 ],
 "metadata": {
  "kernelspec": {
   "display_name": "Python 3",
   "language": "python",
   "name": "python3"
  },
  "language_info": {
   "codemirror_mode": {
    "name": "ipython",
    "version": 3
   },
   "file_extension": ".py",
   "mimetype": "text/x-python",
   "name": "python",
   "nbconvert_exporter": "python",
   "pygments_lexer": "ipython3",
   "version": "3.8.3"
  }
 },
 "nbformat": 4,
 "nbformat_minor": 4
}
