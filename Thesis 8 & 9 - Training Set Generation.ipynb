{
 "cells": [
  {
   "cell_type": "code",
   "execution_count": 1,
   "metadata": {},
   "outputs": [],
   "source": [
    "from IPython.core.interactiveshell import InteractiveShell\n",
    "InteractiveShell.ast_node_interactivity = \"all\""
   ]
  },
  {
   "cell_type": "code",
   "execution_count": 2,
   "metadata": {},
   "outputs": [],
   "source": [
    "#pd.set_option('display.max_rows', None)  # or 1000"
   ]
  },
  {
   "cell_type": "code",
   "execution_count": 3,
   "metadata": {},
   "outputs": [],
   "source": [
    "#Import Packages\n",
    "import pandas as pd\n",
    "import numpy as np\n",
    "import sqlite3\n",
    "import matplotlib.pyplot as plt\n",
    "#import networkx as nx\n",
    "#from urllib import parse\n",
    "#from scipy import stats\n",
    "#from functools import reduce\n",
    "#from pandas_profiling import ProfileReport\n",
    "import numpy as np\n",
    "#import scipy.sparse\n",
    "#import scipy.sparse.csgraph"
   ]
  },
  {
   "cell_type": "markdown",
   "metadata": {},
   "source": [
    "# 0 Load the necessary data"
   ]
  },
  {
   "cell_type": "code",
   "execution_count": 4,
   "metadata": {},
   "outputs": [],
   "source": [
    "df_links_tdc_comb = pd.read_csv('/Users/Michael/Library/Mobile Documents/com~apple~CloudDocs/Universität/UCL/Programming/MasterThesis/Data/df_links_tdc_comb.csv', low_memory=False)\n",
    "#read in the df_links_tdc_comb dataframe"
   ]
  },
  {
   "cell_type": "code",
   "execution_count": 5,
   "metadata": {},
   "outputs": [],
   "source": [
    "innovateUK = pd.read_csv('/Users/Michael/Library/Mobile Documents/com~apple~CloudDocs/Universität/UCL/Programming/MasterThesis/Data/innovateUK.csv', low_memory=False)\n",
    "#read in the innovateUK data"
   ]
  },
  {
   "cell_type": "markdown",
   "metadata": {},
   "source": [
    "# 8 Training Set Generation"
   ]
  },
  {
   "cell_type": "markdown",
   "metadata": {},
   "source": [
    "The training set will be generated in two stages. First, we will use the linking data. Second we will use the InnovateUK data.\n",
    "\n",
    "We will have four different variations of training sets: \n",
    "  - First Approach of 1.25% from top & bottom and innovateUK\n",
    "      - TrainingSet 1\n",
    "  - 0.5% and innovateUK\n",
    "      - Trainingset 2\n",
    "  - only innovateUK + negatives from Link Building\n",
    "      - Trainingset 3\n",
    "  - only first Approach\n",
    "      - Trainingset 4\n",
    "      \n",
    "      \n",
    "It is important to mention here that the model results of the respective training sets are NOT comparable. It will be comparable if we take a look on actual probabilities later on."
   ]
  },
  {
   "cell_type": "markdown",
   "metadata": {},
   "source": [
    "## 8.1 Linking Data"
   ]
  },
  {
   "cell_type": "markdown",
   "metadata": {},
   "source": [
    "#### Initial Steps - Analysis"
   ]
  },
  {
   "cell_type": "code",
   "execution_count": 6,
   "metadata": {},
   "outputs": [],
   "source": [
    "percentages=df_links_tdc_comb['SICHLU'].value_counts().reset_index()#calculate the relative importance of each\n",
    "#SICHLU code to know how to set up the training set. Reason: To not over or underrepresent a category"
   ]
  },
  {
   "cell_type": "code",
   "execution_count": 7,
   "metadata": {},
   "outputs": [
    {
     "data": {
      "text/html": [
       "<div>\n",
       "<style scoped>\n",
       "    .dataframe tbody tr th:only-of-type {\n",
       "        vertical-align: middle;\n",
       "    }\n",
       "\n",
       "    .dataframe tbody tr th {\n",
       "        vertical-align: top;\n",
       "    }\n",
       "\n",
       "    .dataframe thead th {\n",
       "        text-align: right;\n",
       "    }\n",
       "</style>\n",
       "<table border=\"1\" class=\"dataframe\">\n",
       "  <thead>\n",
       "    <tr style=\"text-align: right;\">\n",
       "      <th></th>\n",
       "      <th>index</th>\n",
       "      <th>SICHLU</th>\n",
       "      <th>perc_total</th>\n",
       "    </tr>\n",
       "  </thead>\n",
       "  <tbody>\n",
       "    <tr>\n",
       "      <th>0</th>\n",
       "      <td>M</td>\n",
       "      <td>92908</td>\n",
       "      <td>0.152794</td>\n",
       "    </tr>\n",
       "    <tr>\n",
       "      <th>1</th>\n",
       "      <td>G</td>\n",
       "      <td>86954</td>\n",
       "      <td>0.143002</td>\n",
       "    </tr>\n",
       "    <tr>\n",
       "      <th>2</th>\n",
       "      <td>N</td>\n",
       "      <td>65396</td>\n",
       "      <td>0.107548</td>\n",
       "    </tr>\n",
       "    <tr>\n",
       "      <th>3</th>\n",
       "      <td>J</td>\n",
       "      <td>65081</td>\n",
       "      <td>0.107030</td>\n",
       "    </tr>\n",
       "    <tr>\n",
       "      <th>4</th>\n",
       "      <td>F</td>\n",
       "      <td>60774</td>\n",
       "      <td>0.099947</td>\n",
       "    </tr>\n",
       "    <tr>\n",
       "      <th>5</th>\n",
       "      <td>C</td>\n",
       "      <td>59370</td>\n",
       "      <td>0.097638</td>\n",
       "    </tr>\n",
       "    <tr>\n",
       "      <th>6</th>\n",
       "      <td>S</td>\n",
       "      <td>28002</td>\n",
       "      <td>0.046051</td>\n",
       "    </tr>\n",
       "    <tr>\n",
       "      <th>7</th>\n",
       "      <td>R</td>\n",
       "      <td>20568</td>\n",
       "      <td>0.033825</td>\n",
       "    </tr>\n",
       "    <tr>\n",
       "      <th>8</th>\n",
       "      <td>L</td>\n",
       "      <td>20170</td>\n",
       "      <td>0.033171</td>\n",
       "    </tr>\n",
       "    <tr>\n",
       "      <th>9</th>\n",
       "      <td>Q</td>\n",
       "      <td>19477</td>\n",
       "      <td>0.032031</td>\n",
       "    </tr>\n",
       "    <tr>\n",
       "      <th>10</th>\n",
       "      <td>I</td>\n",
       "      <td>18158</td>\n",
       "      <td>0.029862</td>\n",
       "    </tr>\n",
       "    <tr>\n",
       "      <th>11</th>\n",
       "      <td>K</td>\n",
       "      <td>17755</td>\n",
       "      <td>0.029199</td>\n",
       "    </tr>\n",
       "    <tr>\n",
       "      <th>12</th>\n",
       "      <td>P</td>\n",
       "      <td>15246</td>\n",
       "      <td>0.025073</td>\n",
       "    </tr>\n",
       "    <tr>\n",
       "      <th>13</th>\n",
       "      <td>H</td>\n",
       "      <td>13119</td>\n",
       "      <td>0.021575</td>\n",
       "    </tr>\n",
       "    <tr>\n",
       "      <th>14</th>\n",
       "      <td>U</td>\n",
       "      <td>11664</td>\n",
       "      <td>0.019182</td>\n",
       "    </tr>\n",
       "    <tr>\n",
       "      <th>15</th>\n",
       "      <td>A</td>\n",
       "      <td>5007</td>\n",
       "      <td>0.008234</td>\n",
       "    </tr>\n",
       "    <tr>\n",
       "      <th>16</th>\n",
       "      <td>E</td>\n",
       "      <td>3276</td>\n",
       "      <td>0.005388</td>\n",
       "    </tr>\n",
       "    <tr>\n",
       "      <th>17</th>\n",
       "      <td>T</td>\n",
       "      <td>1877</td>\n",
       "      <td>0.003087</td>\n",
       "    </tr>\n",
       "    <tr>\n",
       "      <th>18</th>\n",
       "      <td>D</td>\n",
       "      <td>1330</td>\n",
       "      <td>0.002187</td>\n",
       "    </tr>\n",
       "    <tr>\n",
       "      <th>19</th>\n",
       "      <td>B</td>\n",
       "      <td>1292</td>\n",
       "      <td>0.002125</td>\n",
       "    </tr>\n",
       "    <tr>\n",
       "      <th>20</th>\n",
       "      <td>O</td>\n",
       "      <td>638</td>\n",
       "      <td>0.001049</td>\n",
       "    </tr>\n",
       "  </tbody>\n",
       "</table>\n",
       "</div>"
      ],
      "text/plain": [
       "   index  SICHLU  perc_total\n",
       "0      M   92908    0.152794\n",
       "1      G   86954    0.143002\n",
       "2      N   65396    0.107548\n",
       "3      J   65081    0.107030\n",
       "4      F   60774    0.099947\n",
       "5      C   59370    0.097638\n",
       "6      S   28002    0.046051\n",
       "7      R   20568    0.033825\n",
       "8      L   20170    0.033171\n",
       "9      Q   19477    0.032031\n",
       "10     I   18158    0.029862\n",
       "11     K   17755    0.029199\n",
       "12     P   15246    0.025073\n",
       "13     H   13119    0.021575\n",
       "14     U   11664    0.019182\n",
       "15     A    5007    0.008234\n",
       "16     E    3276    0.005388\n",
       "17     T    1877    0.003087\n",
       "18     D    1330    0.002187\n",
       "19     B    1292    0.002125\n",
       "20     O     638    0.001049"
      ]
     },
     "execution_count": 7,
     "metadata": {},
     "output_type": "execute_result"
    }
   ],
   "source": [
    "percentages['perc_total'] = percentages['SICHLU'] / percentages['SICHLU'].sum()\n",
    "percentages#show percentages per SICHLU category"
   ]
  },
  {
   "cell_type": "markdown",
   "metadata": {},
   "source": [
    "#### Links_TS 1"
   ]
  },
  {
   "cell_type": "code",
   "execution_count": 8,
   "metadata": {},
   "outputs": [],
   "source": [
    "def SICHLU_TS_GENERATOR(SICHLU: str):\n",
    "    ''' This function takes the combined df and returns\n",
    "    the top 1.25% and bottom 1.25% of each SICHLU category.\n",
    "    '''\n",
    "    df = df_links_tdc_comb[df_links_tdc_comb['SICHLU']==SICHLU].sort_values(by='pagerank', ascending=False)\n",
    "    number = int(round(len(df)*0.0125,0))\n",
    "    df1 = df.nlargest(number, columns='pagerank')\n",
    "    df2 = df.nsmallest(number, columns='pagerank')\n",
    "    df1['isInnovative'] = 1\n",
    "    df2['isInnovative'] = 0\n",
    "    df = pd.concat([df1, df2])\n",
    "    return df"
   ]
  },
  {
   "cell_type": "code",
   "execution_count": 9,
   "metadata": {},
   "outputs": [],
   "source": [
    "sichlus_list = ['M', 'G', 'N', 'F', 'C', 'J', 'S', 'L', 'K', 'Q', 'U', 'R', 'I', 'H', 'P', 'A', 'E', 'T', 'D', 'B', 'O']\n",
    "sichlus_dfs = []\n",
    "\n",
    "for letter in sichlus_list:#a foor loop applying the function to each SICHLU group and giving final df\n",
    "    df = SICHLU_TS_GENERATOR(letter)\n",
    "    sichlus_dfs.append(df)\n",
    "    \n",
    "Links_TS1 = pd.concat(sichlus_dfs)\n",
    "Links_TS1['Origin'] = 'Links'#add from where the training set instance comes"
   ]
  },
  {
   "cell_type": "code",
   "execution_count": 10,
   "metadata": {},
   "outputs": [
    {
     "data": {
      "text/plain": [
       "(array([1.516e+04, 2.100e+01, 7.000e+00, 8.000e+00, 2.000e+00, 1.000e+00,\n",
       "        1.000e+00, 0.000e+00, 1.000e+00, 1.000e+00]),\n",
       " array([2.96017872e-07, 3.40337389e-05, 6.77714599e-05, 1.01509181e-04,\n",
       "        1.35246902e-04, 1.68984623e-04, 2.02722344e-04, 2.36460065e-04,\n",
       "        2.70197786e-04, 3.03935507e-04, 3.37673228e-04]),\n",
       " <a list of 10 Patch objects>)"
      ]
     },
     "execution_count": 10,
     "metadata": {},
     "output_type": "execute_result"
    },
    {
     "data": {
      "image/png": "[encoded data removed]",
      "text/plain": [
       "<Figure size 432x288 with 1 Axes>"
      ]
     },
     "metadata": {
      "needs_background": "light"
     },
     "output_type": "display_data"
    }
   ],
   "source": [
    "plt.hist(Links_TS1['pagerank'])#visualize indegree distribution"
   ]
  },
  {
   "cell_type": "code",
   "execution_count": 11,
   "metadata": {},
   "outputs": [
    {
     "data": {
      "text/plain": [
       "(array([1.5139e+04, 3.4000e+01, 1.3000e+01, 8.0000e+00, 1.0000e+00,\n",
       "        1.0000e+00, 2.0000e+00, 2.0000e+00, 0.0000e+00, 2.0000e+00]),\n",
       " array([3.83402653e-07, 3.14006772e-04, 6.27630142e-04, 9.41253512e-04,\n",
       "        1.25487688e-03, 1.56850025e-03, 1.88212362e-03, 2.19574699e-03,\n",
       "        2.50937036e-03, 2.82299373e-03, 3.13661710e-03]),\n",
       " <a list of 10 Patch objects>)"
      ]
     },
     "execution_count": 11,
     "metadata": {},
     "output_type": "execute_result"
    },
    {
     "data": {
      "image/png": "[encoded data removed]",
      "text/plain": [
       "<Figure size 432x288 with 1 Axes>"
      ]
     },
     "metadata": {
      "needs_background": "light"
     },
     "output_type": "display_data"
    }
   ],
   "source": [
    "plt.hist(Links_TS1['indegree_centrality'])#visualize indegree distribution"
   ]
  },
  {
   "cell_type": "code",
   "execution_count": 12,
   "metadata": {},
   "outputs": [
    {
     "data": {
      "text/plain": [
       "15202"
      ]
     },
     "execution_count": 12,
     "metadata": {},
     "output_type": "execute_result"
    }
   ],
   "source": [
    "len(Links_TS1)"
   ]
  },
  {
   "cell_type": "markdown",
   "metadata": {},
   "source": [
    "#### Links_TS 2"
   ]
  },
  {
   "cell_type": "code",
   "execution_count": 13,
   "metadata": {},
   "outputs": [],
   "source": [
    "def SICHLU_TS_GENERATOR(SICHLU: str):\n",
    "    ''' This function takes the combined df and returns\n",
    "    the top 0.25% and bottom 0.25% of each SICHLU category.\n",
    "    '''\n",
    "    df = df_links_tdc_comb[df_links_tdc_comb['SICHLU']==SICHLU].sort_values(by='pagerank', ascending=False)\n",
    "    number = int(round(len(df)*0.0025,0))\n",
    "    df1 = df.nlargest(number, columns='pagerank')\n",
    "    df2 = df.nsmallest(number, columns='pagerank')\n",
    "    df1['isInnovative'] = 1\n",
    "    df2['isInnovative'] = 0\n",
    "    df = pd.concat([df1, df2])\n",
    "    return df"
   ]
  },
  {
   "cell_type": "code",
   "execution_count": 14,
   "metadata": {},
   "outputs": [],
   "source": [
    "sichlus_list = ['M', 'G', 'N', 'F', 'C', 'J', 'S', 'L', 'K', 'Q', 'U', 'R', 'I', 'H', 'P', 'A', 'E', 'T', 'D', 'B', 'O']\n",
    "sichlus_dfs = []\n",
    "\n",
    "for letter in sichlus_list:#a foor loop applying the function to each SICHLU group and giving final df\n",
    "    df = SICHLU_TS_GENERATOR(letter)\n",
    "    sichlus_dfs.append(df)\n",
    "    \n",
    "Links_TS2 = pd.concat(sichlus_dfs)\n",
    "Links_TS2['Origin'] = 'Links'#add from where the training set instance comes"
   ]
  },
  {
   "cell_type": "code",
   "execution_count": 15,
   "metadata": {},
   "outputs": [
    {
     "data": {
      "text/plain": [
       "(array([2.994e+03, 2.100e+01, 7.000e+00, 8.000e+00, 2.000e+00, 1.000e+00,\n",
       "        1.000e+00, 0.000e+00, 1.000e+00, 1.000e+00]),\n",
       " array([2.96017872e-07, 3.40337389e-05, 6.77714599e-05, 1.01509181e-04,\n",
       "        1.35246902e-04, 1.68984623e-04, 2.02722344e-04, 2.36460065e-04,\n",
       "        2.70197786e-04, 3.03935507e-04, 3.37673228e-04]),\n",
       " <a list of 10 Patch objects>)"
      ]
     },
     "execution_count": 15,
     "metadata": {},
     "output_type": "execute_result"
    },
    {
     "data": {
      "image/png": "[encoded data removed]",
      "text/plain": [
       "<Figure size 432x288 with 1 Axes>"
      ]
     },
     "metadata": {
      "needs_background": "light"
     },
     "output_type": "display_data"
    }
   ],
   "source": [
    "plt.hist(Links_TS2['pagerank'])#visualize indegree distribution"
   ]
  },
  {
   "cell_type": "code",
   "execution_count": 16,
   "metadata": {},
   "outputs": [
    {
     "data": {
      "text/plain": [
       "(array([2.973e+03, 3.400e+01, 1.300e+01, 8.000e+00, 1.000e+00, 1.000e+00,\n",
       "        2.000e+00, 2.000e+00, 0.000e+00, 2.000e+00]),\n",
       " array([3.83402653e-07, 3.14006772e-04, 6.27630142e-04, 9.41253512e-04,\n",
       "        1.25487688e-03, 1.56850025e-03, 1.88212362e-03, 2.19574699e-03,\n",
       "        2.50937036e-03, 2.82299373e-03, 3.13661710e-03]),\n",
       " <a list of 10 Patch objects>)"
      ]
     },
     "execution_count": 16,
     "metadata": {},
     "output_type": "execute_result"
    },
    {
     "data": {
      "image/png": "[encoded data removed]",
      "text/plain": [
       "<Figure size 432x288 with 1 Axes>"
      ]
     },
     "metadata": {
      "needs_background": "light"
     },
     "output_type": "display_data"
    }
   ],
   "source": [
    "plt.hist(Links_TS2['indegree_centrality'])#visualize indegree distribution"
   ]
  },
  {
   "cell_type": "code",
   "execution_count": 17,
   "metadata": {},
   "outputs": [
    {
     "data": {
      "text/plain": [
       "3036"
      ]
     },
     "execution_count": 17,
     "metadata": {},
     "output_type": "execute_result"
    }
   ],
   "source": [
    "len(Links_TS2)"
   ]
  },
  {
   "cell_type": "markdown",
   "metadata": {},
   "source": [
    "#### Links_TS 3"
   ]
  },
  {
   "cell_type": "code",
   "execution_count": 18,
   "metadata": {},
   "outputs": [],
   "source": [
    "def SICHLU_TS_GENERATOR(SICHLU: str):\n",
    "    ''' This function takes the combined df and returns\n",
    "    the bottom 2.5% of each SICHLU category.\n",
    "    '''\n",
    "    df = df_links_tdc_comb[df_links_tdc_comb['SICHLU']==SICHLU].sort_values(by='pagerank', ascending=False)\n",
    "    number = int(round(len(df)*0.025,0))\n",
    "    number2 = int(round(len(df)*0.0,0))\n",
    "    df1 = df.nlargest(number2, columns='pagerank')\n",
    "    df2 = df.nsmallest(number, columns='pagerank')\n",
    "    df1['isInnovative'] = 1\n",
    "    df2['isInnovative'] = 0\n",
    "    df = pd.concat([df1, df2])\n",
    "    return df"
   ]
  },
  {
   "cell_type": "code",
   "execution_count": 19,
   "metadata": {},
   "outputs": [],
   "source": [
    "sichlus_list = ['M', 'G', 'N', 'F', 'C', 'J', 'S', 'L', 'K', 'Q', 'U', 'R', 'I', 'H', 'P', 'A', 'E', 'T', 'D', 'B', 'O']\n",
    "sichlus_dfs = []\n",
    "\n",
    "for letter in sichlus_list:#a foor loop applying the function to each SICHLU group and giving final df\n",
    "    df = SICHLU_TS_GENERATOR(letter)\n",
    "    sichlus_dfs.append(df)\n",
    "    \n",
    "Links_TS3 = pd.concat(sichlus_dfs)\n",
    "Links_TS3['Origin'] = 'Links'#add from where the training set instance comes"
   ]
  },
  {
   "cell_type": "code",
   "execution_count": 20,
   "metadata": {},
   "outputs": [
    {
     "data": {
      "text/plain": [
       "(array([ 875., 1552., 1824., 2445., 2738., 2629., 1896.,  822.,  247.,\n",
       "         173.]),\n",
       " array([2.96017872e-07, 2.97645031e-07, 2.99272190e-07, 3.00899349e-07,\n",
       "        3.02526508e-07, 3.04153667e-07, 3.05780826e-07, 3.07407985e-07,\n",
       "        3.09035144e-07, 3.10662303e-07, 3.12289462e-07]),\n",
       " <a list of 10 Patch objects>)"
      ]
     },
     "execution_count": 20,
     "metadata": {},
     "output_type": "execute_result"
    },
    {
     "data": {
      "image/png": "[encoded data removed]",
      "text/plain": [
       "<Figure size 432x288 with 1 Axes>"
      ]
     },
     "metadata": {
      "needs_background": "light"
     },
     "output_type": "display_data"
    }
   ],
   "source": [
    "plt.hist(Links_TS3['pagerank'])#visualize indegree distribution"
   ]
  },
  {
   "cell_type": "code",
   "execution_count": 21,
   "metadata": {},
   "outputs": [
    {
     "data": {
      "text/plain": [
       "(array([1.3535e+04, 0.0000e+00, 1.4720e+03, 0.0000e+00, 1.6700e+02,\n",
       "        0.0000e+00, 2.1000e+01, 5.0000e+00, 0.0000e+00, 1.0000e+00]),\n",
       " array([3.83402653e-07, 5.75103979e-07, 7.66805305e-07, 9.58506631e-07,\n",
       "        1.15020796e-06, 1.34190928e-06, 1.53361061e-06, 1.72531194e-06,\n",
       "        1.91701326e-06, 2.10871459e-06, 2.30041592e-06]),\n",
       " <a list of 10 Patch objects>)"
      ]
     },
     "execution_count": 21,
     "metadata": {},
     "output_type": "execute_result"
    },
    {
     "data": {
      "image/png": "[encoded data removed]",
      "text/plain": [
       "<Figure size 432x288 with 1 Axes>"
      ]
     },
     "metadata": {
      "needs_background": "light"
     },
     "output_type": "display_data"
    }
   ],
   "source": [
    "plt.hist(Links_TS3['indegree_centrality'])#visualize indegree distribution"
   ]
  },
  {
   "cell_type": "code",
   "execution_count": 22,
   "metadata": {},
   "outputs": [
    {
     "data": {
      "text/plain": [
       "15201"
      ]
     },
     "execution_count": 22,
     "metadata": {},
     "output_type": "execute_result"
    }
   ],
   "source": [
    "len(Links_TS3)"
   ]
  },
  {
   "cell_type": "code",
   "execution_count": null,
   "metadata": {},
   "outputs": [],
   "source": []
  },
  {
   "cell_type": "markdown",
   "metadata": {},
   "source": [
    "#### Links_TS 4"
   ]
  },
  {
   "cell_type": "code",
   "execution_count": 23,
   "metadata": {},
   "outputs": [],
   "source": [
    "def SICHLU_TS_GENERATOR(SICHLU: str):\n",
    "    ''' This function takes the combined df and returns\n",
    "    the top 2.5% and bottom 2.5% of each SICHLU category.\n",
    "    '''\n",
    "    df = df_links_tdc_comb[df_links_tdc_comb['SICHLU']==SICHLU].sort_values(by='pagerank', ascending=False)\n",
    "    number = int(round(len(df)*0.025,0))\n",
    "    df1 = df.nlargest(number, columns='pagerank')\n",
    "    df2 = df.nsmallest(number, columns='pagerank')\n",
    "    df1['isInnovative'] = 1\n",
    "    df2['isInnovative'] = 0\n",
    "    df = pd.concat([df1, df2])\n",
    "    return df"
   ]
  },
  {
   "cell_type": "code",
   "execution_count": 24,
   "metadata": {},
   "outputs": [],
   "source": [
    "sichlus_list = ['M', 'G', 'N', 'F', 'C', 'J', 'S', 'L', 'K', 'Q', 'U', 'R', 'I', 'H', 'P', 'A', 'E', 'T', 'D', 'B', 'O']\n",
    "sichlus_dfs = []\n",
    "\n",
    "for letter in sichlus_list:#a foor loop applying the function to each SICHLU group and giving final df\n",
    "    df = SICHLU_TS_GENERATOR(letter)\n",
    "    sichlus_dfs.append(df)\n",
    "    \n",
    "Links_TS4 = pd.concat(sichlus_dfs)\n",
    "Links_TS4['Origin'] = 'Links'#add from where the training set instance comes"
   ]
  },
  {
   "cell_type": "code",
   "execution_count": 25,
   "metadata": {},
   "outputs": [
    {
     "data": {
      "text/plain": [
       "(array([3.036e+04, 2.100e+01, 7.000e+00, 8.000e+00, 2.000e+00, 1.000e+00,\n",
       "        1.000e+00, 0.000e+00, 1.000e+00, 1.000e+00]),\n",
       " array([2.96017872e-07, 3.40337389e-05, 6.77714599e-05, 1.01509181e-04,\n",
       "        1.35246902e-04, 1.68984623e-04, 2.02722344e-04, 2.36460065e-04,\n",
       "        2.70197786e-04, 3.03935507e-04, 3.37673228e-04]),\n",
       " <a list of 10 Patch objects>)"
      ]
     },
     "execution_count": 25,
     "metadata": {},
     "output_type": "execute_result"
    },
    {
     "data": {
      "image/png": "[encoded data removed]",
      "text/plain": [
       "<Figure size 432x288 with 1 Axes>"
      ]
     },
     "metadata": {
      "needs_background": "light"
     },
     "output_type": "display_data"
    }
   ],
   "source": [
    "plt.hist(Links_TS4['pagerank'])#visualize indegree distribution"
   ]
  },
  {
   "cell_type": "code",
   "execution_count": 26,
   "metadata": {},
   "outputs": [
    {
     "data": {
      "text/plain": [
       "(array([3.0339e+04, 3.4000e+01, 1.3000e+01, 8.0000e+00, 1.0000e+00,\n",
       "        1.0000e+00, 2.0000e+00, 2.0000e+00, 0.0000e+00, 2.0000e+00]),\n",
       " array([3.83402653e-07, 3.14006772e-04, 6.27630142e-04, 9.41253512e-04,\n",
       "        1.25487688e-03, 1.56850025e-03, 1.88212362e-03, 2.19574699e-03,\n",
       "        2.50937036e-03, 2.82299373e-03, 3.13661710e-03]),\n",
       " <a list of 10 Patch objects>)"
      ]
     },
     "execution_count": 26,
     "metadata": {},
     "output_type": "execute_result"
    },
    {
     "data": {
      "image/png": "[encoded data removed]",
      "text/plain": [
       "<Figure size 432x288 with 1 Axes>"
      ]
     },
     "metadata": {
      "needs_background": "light"
     },
     "output_type": "display_data"
    }
   ],
   "source": [
    "plt.hist(Links_TS4['indegree_centrality'])#visualize indegree distribution"
   ]
  },
  {
   "cell_type": "code",
   "execution_count": 27,
   "metadata": {},
   "outputs": [
    {
     "data": {
      "text/plain": [
       "30402"
      ]
     },
     "execution_count": 27,
     "metadata": {},
     "output_type": "execute_result"
    }
   ],
   "source": [
    "len(Links_TS4)"
   ]
  },
  {
   "cell_type": "code",
   "execution_count": 28,
   "metadata": {},
   "outputs": [
    {
     "data": {
      "text/plain": [
       "CompanyNumber              object\n",
       "Homepage_domain            object\n",
       "RegisteredPostcode         object\n",
       "SIC                       float64\n",
       "SICHLU                     object\n",
       "Source                     object\n",
       "Target                     object\n",
       "pagerank                  float64\n",
       "indegree_centrality       float64\n",
       "outdegree_centrality      float64\n",
       "eigenvector_centrality    float64\n",
       "dtype: object"
      ]
     },
     "execution_count": 28,
     "metadata": {},
     "output_type": "execute_result"
    }
   ],
   "source": [
    "df_links_tdc_comb.dtypes"
   ]
  },
  {
   "cell_type": "code",
   "execution_count": 29,
   "metadata": {},
   "outputs": [],
   "source": [
    "df_links_tdc_comb['CompanyNumber'] = df_links_tdc_comb['CompanyNumber'].astype(str)\n",
    "df_links_tdc_comb['CompanyNumber'] = df_links_tdc_comb['CompanyNumber'].astype(\"string\")\n",
    "innovateUK['CRN'] = innovateUK['CRN'].astype(str)\n",
    "innovateUK['CRN'] = innovateUK['CRN'].astype(\"string\")"
   ]
  },
  {
   "cell_type": "code",
   "execution_count": 30,
   "metadata": {},
   "outputs": [
    {
     "data": {
      "text/plain": [
       "CompanyNumber              string\n",
       "Homepage_domain            object\n",
       "RegisteredPostcode         object\n",
       "SIC                       float64\n",
       "SICHLU                     object\n",
       "Source                     object\n",
       "Target                     object\n",
       "pagerank                  float64\n",
       "indegree_centrality       float64\n",
       "outdegree_centrality      float64\n",
       "eigenvector_centrality    float64\n",
       "dtype: object"
      ]
     },
     "execution_count": 30,
     "metadata": {},
     "output_type": "execute_result"
    }
   ],
   "source": [
    "df_links_tdc_comb.dtypes"
   ]
  },
  {
   "cell_type": "markdown",
   "metadata": {},
   "source": [
    "## 8.2 InnovateUK Training Set"
   ]
  },
  {
   "cell_type": "code",
   "execution_count": 31,
   "metadata": {},
   "outputs": [
    {
     "data": {
      "text/html": [
       "<div>\n",
       "<style scoped>\n",
       "    .dataframe tbody tr th:only-of-type {\n",
       "        vertical-align: middle;\n",
       "    }\n",
       "\n",
       "    .dataframe tbody tr th {\n",
       "        vertical-align: top;\n",
       "    }\n",
       "\n",
       "    .dataframe thead th {\n",
       "        text-align: right;\n",
       "    }\n",
       "</style>\n",
       "<table border=\"1\" class=\"dataframe\">\n",
       "  <thead>\n",
       "    <tr style=\"text-align: right;\">\n",
       "      <th></th>\n",
       "      <th>Competition Reference</th>\n",
       "      <th>Competition Title</th>\n",
       "      <th>Programme Title</th>\n",
       "      <th>Sector</th>\n",
       "      <th>Application Number</th>\n",
       "      <th>Project Number</th>\n",
       "      <th>Project Title</th>\n",
       "      <th>Public Description</th>\n",
       "      <th>Competition Year</th>\n",
       "      <th>Innovate UK \\nProduct Type</th>\n",
       "      <th>...</th>\n",
       "      <th>Actual Spend to Date (£)</th>\n",
       "      <th>Participant Withdrawn From Project</th>\n",
       "      <th>Project Status</th>\n",
       "      <th>Enterprise Size</th>\n",
       "      <th>Postcode</th>\n",
       "      <th>Address Region</th>\n",
       "      <th>Address LEP</th>\n",
       "      <th>Address Local Authority</th>\n",
       "      <th>In Multiple LEPs</th>\n",
       "      <th>Industrial Strategy Challenge Fund (ISCF)</th>\n",
       "    </tr>\n",
       "  </thead>\n",
       "  <tbody>\n",
       "    <tr>\n",
       "      <th>0</th>\n",
       "      <td>CATAPULTS</td>\n",
       "      <td>Catapult Activity</td>\n",
       "      <td>Smart Factory Test Bed Pilot Sprints</td>\n",
       "      <td>Manufacturing &amp; Materials</td>\n",
       "      <td>NaN</td>\n",
       "      <td>900185</td>\n",
       "      <td>Fast Start Pilot Sprints</td>\n",
       "      <td>NaN</td>\n",
       "      <td>2021/22</td>\n",
       "      <td>Collaborative R&amp;D</td>\n",
       "      <td>...</td>\n",
       "      <td>-</td>\n",
       "      <td>Active</td>\n",
       "      <td>Live</td>\n",
       "      <td>Catapult</td>\n",
       "      <td>B90 8AD</td>\n",
       "      <td>West Midlands</td>\n",
       "      <td>Greater Birmingham and Solihull</td>\n",
       "      <td>Solihull</td>\n",
       "      <td>No</td>\n",
       "      <td>Yes</td>\n",
       "    </tr>\n",
       "    <tr>\n",
       "      <th>1</th>\n",
       "      <td>2010_ISCF_SSPP_FUTURE_PLASTIC</td>\n",
       "      <td>ISCF Future Plastic Packaging Solutions</td>\n",
       "      <td>SSPP Feasibility Studies &amp; Industrial Research...</td>\n",
       "      <td>Manufacturing, Materials &amp; Mobility</td>\n",
       "      <td>10000497</td>\n",
       "      <td>10000497</td>\n",
       "      <td>Developing a solution to eliminate dish soap p...</td>\n",
       "      <td>Homethings is a producer of household cleaning...</td>\n",
       "      <td>2021/22</td>\n",
       "      <td>Feasibility Studies</td>\n",
       "      <td>...</td>\n",
       "      <td>-</td>\n",
       "      <td>Active</td>\n",
       "      <td>Live</td>\n",
       "      <td>Micro/Small</td>\n",
       "      <td>WC2H 9JQ</td>\n",
       "      <td>London</td>\n",
       "      <td>London</td>\n",
       "      <td>Camden</td>\n",
       "      <td>No</td>\n",
       "      <td>Yes</td>\n",
       "    </tr>\n",
       "    <tr>\n",
       "      <th>2</th>\n",
       "      <td>2010_ISCF_SSPP_FUTURE_PLASTIC</td>\n",
       "      <td>ISCF Future Plastic Packaging Solutions</td>\n",
       "      <td>SSPP Feasibility Studies &amp; Industrial Research...</td>\n",
       "      <td>Manufacturing, Materials &amp; Mobility</td>\n",
       "      <td>10000638</td>\n",
       "      <td>10000638</td>\n",
       "      <td>Notpla Pearls: A seaweed based alternative to ...</td>\n",
       "      <td>The world's annual consumption of plastics has...</td>\n",
       "      <td>2021/22</td>\n",
       "      <td>Feasibility Studies</td>\n",
       "      <td>...</td>\n",
       "      <td>-</td>\n",
       "      <td>Active</td>\n",
       "      <td>Live</td>\n",
       "      <td>Micro/Small</td>\n",
       "      <td>E9 5EN</td>\n",
       "      <td>London</td>\n",
       "      <td>London</td>\n",
       "      <td>Tower Hamlets</td>\n",
       "      <td>No</td>\n",
       "      <td>Yes</td>\n",
       "    </tr>\n",
       "    <tr>\n",
       "      <th>3</th>\n",
       "      <td>2008_ISCF_DER_BLUE</td>\n",
       "      <td>Driving the Electric Revolution Blue Zone</td>\n",
       "      <td>Driving the Electric Revolution Blue Zone 2020</td>\n",
       "      <td>Clean Growth &amp; Infrastructure</td>\n",
       "      <td>00043784</td>\n",
       "      <td>43784</td>\n",
       "      <td>MABEL – Optimising through Life Cost of Indust...</td>\n",
       "      <td>MABEL comprises seven work packages aimed at i...</td>\n",
       "      <td>2020/21</td>\n",
       "      <td>Collaborative R&amp;D</td>\n",
       "      <td>...</td>\n",
       "      <td>19'537</td>\n",
       "      <td>Active</td>\n",
       "      <td>Live</td>\n",
       "      <td>Medium</td>\n",
       "      <td>NE11 0QD</td>\n",
       "      <td>North East</td>\n",
       "      <td>North Eastern</td>\n",
       "      <td>Gateshead</td>\n",
       "      <td>No</td>\n",
       "      <td>Yes</td>\n",
       "    </tr>\n",
       "    <tr>\n",
       "      <th>4</th>\n",
       "      <td>2008_ISCF_DER_BLUE</td>\n",
       "      <td>Driving the Electric Revolution Blue Zone</td>\n",
       "      <td>Driving the Electric Revolution Blue Zone 2020</td>\n",
       "      <td>Clean Growth &amp; Infrastructure</td>\n",
       "      <td>00043784</td>\n",
       "      <td>43784</td>\n",
       "      <td>MABEL – Optimising through Life Cost of Indust...</td>\n",
       "      <td>MABEL comprises seven work packages aimed at i...</td>\n",
       "      <td>2020/21</td>\n",
       "      <td>Collaborative R&amp;D</td>\n",
       "      <td>...</td>\n",
       "      <td>-</td>\n",
       "      <td>Active</td>\n",
       "      <td>Live</td>\n",
       "      <td>Academic</td>\n",
       "      <td>NE1 7RU</td>\n",
       "      <td>North East</td>\n",
       "      <td>North Eastern</td>\n",
       "      <td>Newcastle upon Tyne</td>\n",
       "      <td>No</td>\n",
       "      <td>Yes</td>\n",
       "    </tr>\n",
       "    <tr>\n",
       "      <th>5</th>\n",
       "      <td>1910_CRD_DFID_AGRITECH_R9_MS</td>\n",
       "      <td>448 - Agri-Tech Catalyst Round 9: Agriculture ...</td>\n",
       "      <td>Agri-Tech Catalyst Round 9: Agriculture and Fo...</td>\n",
       "      <td>Ageing Society, Health &amp; Nutrition</td>\n",
       "      <td>00045568</td>\n",
       "      <td>45568</td>\n",
       "      <td>Bee Smart: Improving yields for cashew growers...</td>\n",
       "      <td>Honeybees are vital pollinators, both to the a...</td>\n",
       "      <td>2020/21</td>\n",
       "      <td>Feasibility Studies</td>\n",
       "      <td>...</td>\n",
       "      <td>26'118</td>\n",
       "      <td>Active</td>\n",
       "      <td>Live</td>\n",
       "      <td>Micro/Small</td>\n",
       "      <td>KT2 6DZ</td>\n",
       "      <td>London</td>\n",
       "      <td>London</td>\n",
       "      <td>Kingston upon Thames</td>\n",
       "      <td>No</td>\n",
       "      <td>No</td>\n",
       "    </tr>\n",
       "    <tr>\n",
       "      <th>6</th>\n",
       "      <td>1910_CRD_DFID_AGRITECH_R9_MS</td>\n",
       "      <td>448 - Agri-Tech Catalyst Round 9: Agriculture ...</td>\n",
       "      <td>Agri-Tech Catalyst Round 9: Agriculture and Fo...</td>\n",
       "      <td>Ageing Society, Health &amp; Nutrition</td>\n",
       "      <td>00045568</td>\n",
       "      <td>45568</td>\n",
       "      <td>Bee Smart: Improving yields for cashew growers...</td>\n",
       "      <td>Honeybees are vital pollinators, both to the a...</td>\n",
       "      <td>2020/21</td>\n",
       "      <td>Feasibility Studies</td>\n",
       "      <td>...</td>\n",
       "      <td>7'277</td>\n",
       "      <td>Active</td>\n",
       "      <td>Live</td>\n",
       "      <td>Academic</td>\n",
       "      <td>KT1 2EE</td>\n",
       "      <td>London</td>\n",
       "      <td>London</td>\n",
       "      <td>Kingston upon Thames</td>\n",
       "      <td>No</td>\n",
       "      <td>No</td>\n",
       "    </tr>\n",
       "    <tr>\n",
       "      <th>7</th>\n",
       "      <td>1910_CRD_DFID_AGRITECH_R9_MS</td>\n",
       "      <td>448 - Agri-Tech Catalyst Round 9: Agriculture ...</td>\n",
       "      <td>Agri-Tech Catalyst Round 9: Agriculture and Fo...</td>\n",
       "      <td>Ageing Society, Health &amp; Nutrition</td>\n",
       "      <td>00045568</td>\n",
       "      <td>45568</td>\n",
       "      <td>Bee Smart: Improving yields for cashew growers...</td>\n",
       "      <td>Honeybees are vital pollinators, both to the a...</td>\n",
       "      <td>2020/21</td>\n",
       "      <td>Feasibility Studies</td>\n",
       "      <td>...</td>\n",
       "      <td>27'153</td>\n",
       "      <td>Active</td>\n",
       "      <td>Live</td>\n",
       "      <td>PSO</td>\n",
       "      <td>NaN</td>\n",
       "      <td>Outside UK</td>\n",
       "      <td>NaN</td>\n",
       "      <td>NaN</td>\n",
       "      <td>No</td>\n",
       "      <td>No</td>\n",
       "    </tr>\n",
       "    <tr>\n",
       "      <th>8</th>\n",
       "      <td>1910_CRD_DFID_AGRITECH_R9_MS</td>\n",
       "      <td>448 - Agri-Tech Catalyst Round 9: Agriculture ...</td>\n",
       "      <td>Agri-Tech Catalyst Round 9: Agriculture and Fo...</td>\n",
       "      <td>Ageing Society, Health &amp; Nutrition</td>\n",
       "      <td>00045568</td>\n",
       "      <td>45568</td>\n",
       "      <td>Bee Smart: Improving yields for cashew growers...</td>\n",
       "      <td>Honeybees are vital pollinators, both to the a...</td>\n",
       "      <td>2020/21</td>\n",
       "      <td>Feasibility Studies</td>\n",
       "      <td>...</td>\n",
       "      <td>3'012</td>\n",
       "      <td>Active</td>\n",
       "      <td>Live</td>\n",
       "      <td>RTO</td>\n",
       "      <td>NaN</td>\n",
       "      <td>Outside UK</td>\n",
       "      <td>NaN</td>\n",
       "      <td>NaN</td>\n",
       "      <td>No</td>\n",
       "      <td>No</td>\n",
       "    </tr>\n",
       "    <tr>\n",
       "      <th>9</th>\n",
       "      <td>1910_CRD_DFID_AGRITECH_R9_ES</td>\n",
       "      <td>447 - Agri-Tech Catalyst Round 9: Agriculture ...</td>\n",
       "      <td>Agri-Tech Catalyst Round 9: Agriculture and Fo...</td>\n",
       "      <td>Ageing Society, Health &amp; Nutrition</td>\n",
       "      <td>00047259</td>\n",
       "      <td>47259</td>\n",
       "      <td>Innovations in soil and irrigation technologie...</td>\n",
       "      <td>Cultivating high-value vegetables for both nat...</td>\n",
       "      <td>2020/21</td>\n",
       "      <td>Feasibility Studies</td>\n",
       "      <td>...</td>\n",
       "      <td>14'481</td>\n",
       "      <td>Active</td>\n",
       "      <td>Live</td>\n",
       "      <td>Academic</td>\n",
       "      <td>MK43 0AL</td>\n",
       "      <td>East of England</td>\n",
       "      <td>South East Midlands</td>\n",
       "      <td>Central Bedfordshire</td>\n",
       "      <td>No</td>\n",
       "      <td>No</td>\n",
       "    </tr>\n",
       "    <tr>\n",
       "      <th>10</th>\n",
       "      <td>1910_CRD_DFID_AGRITECH_R9_ES</td>\n",
       "      <td>447 - Agri-Tech Catalyst Round 9: Agriculture ...</td>\n",
       "      <td>Agri-Tech Catalyst Round 9: Agriculture and Fo...</td>\n",
       "      <td>Ageing Society, Health &amp; Nutrition</td>\n",
       "      <td>00047259</td>\n",
       "      <td>47259</td>\n",
       "      <td>Innovations in soil and irrigation technologie...</td>\n",
       "      <td>Cultivating high-value vegetables for both nat...</td>\n",
       "      <td>2020/21</td>\n",
       "      <td>Feasibility Studies</td>\n",
       "      <td>...</td>\n",
       "      <td>1'413</td>\n",
       "      <td>Active</td>\n",
       "      <td>Live</td>\n",
       "      <td>Large</td>\n",
       "      <td>PO21 3PX</td>\n",
       "      <td>South East</td>\n",
       "      <td>Coast to Capital</td>\n",
       "      <td>Arun</td>\n",
       "      <td>No</td>\n",
       "      <td>No</td>\n",
       "    </tr>\n",
       "    <tr>\n",
       "      <th>11</th>\n",
       "      <td>1910_CRD_DFID_AGRITECH_R9_ES</td>\n",
       "      <td>447 - Agri-Tech Catalyst Round 9: Agriculture ...</td>\n",
       "      <td>Agri-Tech Catalyst Round 9: Agriculture and Fo...</td>\n",
       "      <td>Ageing Society, Health &amp; Nutrition</td>\n",
       "      <td>00047259</td>\n",
       "      <td>47259</td>\n",
       "      <td>Innovations in soil and irrigation technologie...</td>\n",
       "      <td>Cultivating high-value vegetables for both nat...</td>\n",
       "      <td>2020/21</td>\n",
       "      <td>Feasibility Studies</td>\n",
       "      <td>...</td>\n",
       "      <td>-</td>\n",
       "      <td>Active</td>\n",
       "      <td>Live</td>\n",
       "      <td>Large</td>\n",
       "      <td>NaN</td>\n",
       "      <td>Outside UK</td>\n",
       "      <td>NaN</td>\n",
       "      <td>NaN</td>\n",
       "      <td>No</td>\n",
       "      <td>No</td>\n",
       "    </tr>\n",
       "    <tr>\n",
       "      <th>12</th>\n",
       "      <td>1910_CRD_DFID_AGRITECH_R9_ES</td>\n",
       "      <td>447 - Agri-Tech Catalyst Round 9: Agriculture ...</td>\n",
       "      <td>Agri-Tech Catalyst Round 9: Agriculture and Fo...</td>\n",
       "      <td>Ageing Society, Health &amp; Nutrition</td>\n",
       "      <td>00047259</td>\n",
       "      <td>47259</td>\n",
       "      <td>Innovations in soil and irrigation technologie...</td>\n",
       "      <td>Cultivating high-value vegetables for both nat...</td>\n",
       "      <td>2020/21</td>\n",
       "      <td>Feasibility Studies</td>\n",
       "      <td>...</td>\n",
       "      <td>-</td>\n",
       "      <td>Active</td>\n",
       "      <td>Live</td>\n",
       "      <td>Large</td>\n",
       "      <td>NaN</td>\n",
       "      <td>Outside UK</td>\n",
       "      <td>NaN</td>\n",
       "      <td>NaN</td>\n",
       "      <td>No</td>\n",
       "      <td>No</td>\n",
       "    </tr>\n",
       "    <tr>\n",
       "      <th>13</th>\n",
       "      <td>1910_CRD_DFID_AGRITECH_R9_ES</td>\n",
       "      <td>447 - Agri-Tech Catalyst Round 9: Agriculture ...</td>\n",
       "      <td>Agri-Tech Catalyst Round 9: Agriculture and Fo...</td>\n",
       "      <td>Ageing Society, Health &amp; Nutrition</td>\n",
       "      <td>00047259</td>\n",
       "      <td>47259</td>\n",
       "      <td>Innovations in soil and irrigation technologie...</td>\n",
       "      <td>Cultivating high-value vegetables for both nat...</td>\n",
       "      <td>2020/21</td>\n",
       "      <td>Feasibility Studies</td>\n",
       "      <td>...</td>\n",
       "      <td>580</td>\n",
       "      <td>Active</td>\n",
       "      <td>Live</td>\n",
       "      <td>PSO</td>\n",
       "      <td>CF11 9LJ</td>\n",
       "      <td>Wales</td>\n",
       "      <td>NaN</td>\n",
       "      <td>Cardiff</td>\n",
       "      <td>No</td>\n",
       "      <td>No</td>\n",
       "    </tr>\n",
       "    <tr>\n",
       "      <th>14</th>\n",
       "      <td>1910_CRD_DFID_AGRITECH_R9_MS</td>\n",
       "      <td>448 - Agri-Tech Catalyst Round 9: Agriculture ...</td>\n",
       "      <td>Agri-Tech Catalyst Round 9: Agriculture and Fo...</td>\n",
       "      <td>Ageing Society, Health &amp; Nutrition</td>\n",
       "      <td>00047864</td>\n",
       "      <td>47864</td>\n",
       "      <td>Data-led soil management for low income farmers</td>\n",
       "      <td>Soil degradation is 'one of the most pressing ...</td>\n",
       "      <td>2020/21</td>\n",
       "      <td>Feasibility Studies</td>\n",
       "      <td>...</td>\n",
       "      <td>128'320</td>\n",
       "      <td>Active</td>\n",
       "      <td>Live</td>\n",
       "      <td>Micro/Small</td>\n",
       "      <td>E2 7AP</td>\n",
       "      <td>London</td>\n",
       "      <td>London</td>\n",
       "      <td>Tower Hamlets</td>\n",
       "      <td>No</td>\n",
       "      <td>No</td>\n",
       "    </tr>\n",
       "    <tr>\n",
       "      <th>15</th>\n",
       "      <td>1910_CRD_DFID_AGRITECH_R9_MS</td>\n",
       "      <td>448 - Agri-Tech Catalyst Round 9: Agriculture ...</td>\n",
       "      <td>Agri-Tech Catalyst Round 9: Agriculture and Fo...</td>\n",
       "      <td>Ageing Society, Health &amp; Nutrition</td>\n",
       "      <td>00047864</td>\n",
       "      <td>47864</td>\n",
       "      <td>Data-led soil management for low income farmers</td>\n",
       "      <td>Soil degradation is 'one of the most pressing ...</td>\n",
       "      <td>2020/21</td>\n",
       "      <td>Feasibility Studies</td>\n",
       "      <td>...</td>\n",
       "      <td>40'884</td>\n",
       "      <td>Active</td>\n",
       "      <td>Live</td>\n",
       "      <td>Academic</td>\n",
       "      <td>MK43 0AL</td>\n",
       "      <td>East of England</td>\n",
       "      <td>South East Midlands</td>\n",
       "      <td>Central Bedfordshire</td>\n",
       "      <td>No</td>\n",
       "      <td>No</td>\n",
       "    </tr>\n",
       "    <tr>\n",
       "      <th>16</th>\n",
       "      <td>1910_CRD_DFID_AGRITECH_R9_MS</td>\n",
       "      <td>448 - Agri-Tech Catalyst Round 9: Agriculture ...</td>\n",
       "      <td>Agri-Tech Catalyst Round 9: Agriculture and Fo...</td>\n",
       "      <td>Ageing Society, Health &amp; Nutrition</td>\n",
       "      <td>00047864</td>\n",
       "      <td>47864</td>\n",
       "      <td>Data-led soil management for low income farmers</td>\n",
       "      <td>Soil degradation is 'one of the most pressing ...</td>\n",
       "      <td>2020/21</td>\n",
       "      <td>Feasibility Studies</td>\n",
       "      <td>...</td>\n",
       "      <td>12'689</td>\n",
       "      <td>Active</td>\n",
       "      <td>Live</td>\n",
       "      <td>PSO</td>\n",
       "      <td>E2 8EX</td>\n",
       "      <td>London</td>\n",
       "      <td>London</td>\n",
       "      <td>Hackney</td>\n",
       "      <td>No</td>\n",
       "      <td>No</td>\n",
       "    </tr>\n",
       "    <tr>\n",
       "      <th>17</th>\n",
       "      <td>1910_CRD_DFID_AGRITECH_R9_MS</td>\n",
       "      <td>448 - Agri-Tech Catalyst Round 9: Agriculture ...</td>\n",
       "      <td>Agri-Tech Catalyst Round 9: Agriculture and Fo...</td>\n",
       "      <td>Ageing Society, Health &amp; Nutrition</td>\n",
       "      <td>00047864</td>\n",
       "      <td>47864</td>\n",
       "      <td>Data-led soil management for low income farmers</td>\n",
       "      <td>Soil degradation is 'one of the most pressing ...</td>\n",
       "      <td>2020/21</td>\n",
       "      <td>Feasibility Studies</td>\n",
       "      <td>...</td>\n",
       "      <td>1'966</td>\n",
       "      <td>Active</td>\n",
       "      <td>Live</td>\n",
       "      <td>Micro/Small</td>\n",
       "      <td>NaN</td>\n",
       "      <td>Outside UK</td>\n",
       "      <td>NaN</td>\n",
       "      <td>NaN</td>\n",
       "      <td>No</td>\n",
       "      <td>No</td>\n",
       "    </tr>\n",
       "    <tr>\n",
       "      <th>18</th>\n",
       "      <td>1910_CRD_DFID_AGRITECH_R9_MS</td>\n",
       "      <td>448 - Agri-Tech Catalyst Round 9: Agriculture ...</td>\n",
       "      <td>Agri-Tech Catalyst Round 9: Agriculture and Fo...</td>\n",
       "      <td>Ageing Society, Health &amp; Nutrition</td>\n",
       "      <td>00047864</td>\n",
       "      <td>47864</td>\n",
       "      <td>Data-led soil management for low income farmers</td>\n",
       "      <td>Soil degradation is 'one of the most pressing ...</td>\n",
       "      <td>2020/21</td>\n",
       "      <td>Feasibility Studies</td>\n",
       "      <td>...</td>\n",
       "      <td>-</td>\n",
       "      <td>Active</td>\n",
       "      <td>Live</td>\n",
       "      <td>Micro/Small</td>\n",
       "      <td>SE1 2ES</td>\n",
       "      <td>London</td>\n",
       "      <td>London</td>\n",
       "      <td>Southwark</td>\n",
       "      <td>No</td>\n",
       "      <td>No</td>\n",
       "    </tr>\n",
       "    <tr>\n",
       "      <th>19</th>\n",
       "      <td>1910_CRD_DFID_AGRITECH_R9_MS</td>\n",
       "      <td>448 - Agri-Tech Catalyst Round 9: Agriculture ...</td>\n",
       "      <td>Agri-Tech Catalyst Round 9: Agriculture and Fo...</td>\n",
       "      <td>Ageing Society, Health &amp; Nutrition</td>\n",
       "      <td>00047864</td>\n",
       "      <td>47864</td>\n",
       "      <td>Data-led soil management for low income farmers</td>\n",
       "      <td>Soil degradation is 'one of the most pressing ...</td>\n",
       "      <td>2020/21</td>\n",
       "      <td>Feasibility Studies</td>\n",
       "      <td>...</td>\n",
       "      <td>2'091</td>\n",
       "      <td>Active</td>\n",
       "      <td>Live</td>\n",
       "      <td>Large</td>\n",
       "      <td>EC4Y 0DY</td>\n",
       "      <td>London</td>\n",
       "      <td>London</td>\n",
       "      <td>City of London</td>\n",
       "      <td>No</td>\n",
       "      <td>No</td>\n",
       "    </tr>\n",
       "    <tr>\n",
       "      <th>20</th>\n",
       "      <td>1911_ISCF_TFP_FS</td>\n",
       "      <td>ISCF Transforming Food Production Science and ...</td>\n",
       "      <td>ISCF TFP Science and Technology into Practice:...</td>\n",
       "      <td>Ageing Society, Health &amp; Nutrition</td>\n",
       "      <td>00048163</td>\n",
       "      <td>48163</td>\n",
       "      <td>Raspberry Auxin Soil/Subtrate Protectant (RASP)</td>\n",
       "      <td>_Phytophthora infestans_ is the pathogen that ...</td>\n",
       "      <td>2020/21</td>\n",
       "      <td>Collaborative R&amp;D</td>\n",
       "      <td>...</td>\n",
       "      <td>20'306</td>\n",
       "      <td>Active</td>\n",
       "      <td>Live</td>\n",
       "      <td>Academic</td>\n",
       "      <td>DD2 5DA</td>\n",
       "      <td>Scotland</td>\n",
       "      <td>NaN</td>\n",
       "      <td>Perth and Kinross</td>\n",
       "      <td>No</td>\n",
       "      <td>Yes</td>\n",
       "    </tr>\n",
       "    <tr>\n",
       "      <th>21</th>\n",
       "      <td>1911_ISCF_TFP_FS</td>\n",
       "      <td>ISCF Transforming Food Production Science and ...</td>\n",
       "      <td>ISCF TFP Science and Technology into Practice:...</td>\n",
       "      <td>Ageing Society, Health &amp; Nutrition</td>\n",
       "      <td>00048163</td>\n",
       "      <td>48163</td>\n",
       "      <td>Raspberry Auxin Soil/Subtrate Protectant (RASP)</td>\n",
       "      <td>_Phytophthora infestans_ is the pathogen that ...</td>\n",
       "      <td>2020/21</td>\n",
       "      <td>Collaborative R&amp;D</td>\n",
       "      <td>...</td>\n",
       "      <td>3'434</td>\n",
       "      <td>Active</td>\n",
       "      <td>Live</td>\n",
       "      <td>Large</td>\n",
       "      <td>DD2 5DA</td>\n",
       "      <td>Scotland</td>\n",
       "      <td>NaN</td>\n",
       "      <td>Perth and Kinross</td>\n",
       "      <td>No</td>\n",
       "      <td>Yes</td>\n",
       "    </tr>\n",
       "    <tr>\n",
       "      <th>22</th>\n",
       "      <td>1911_ISCF_TFP_FS</td>\n",
       "      <td>ISCF Transforming Food Production Science and ...</td>\n",
       "      <td>ISCF TFP Science and Technology into Practice:...</td>\n",
       "      <td>Ageing Society, Health &amp; Nutrition</td>\n",
       "      <td>00048163</td>\n",
       "      <td>48163</td>\n",
       "      <td>Raspberry Auxin Soil/Subtrate Protectant (RASP)</td>\n",
       "      <td>_Phytophthora infestans_ is the pathogen that ...</td>\n",
       "      <td>2020/21</td>\n",
       "      <td>Collaborative R&amp;D</td>\n",
       "      <td>...</td>\n",
       "      <td>472</td>\n",
       "      <td>Active</td>\n",
       "      <td>Live</td>\n",
       "      <td>Micro/Small</td>\n",
       "      <td>PH10 7BJ</td>\n",
       "      <td>Scotland</td>\n",
       "      <td>NaN</td>\n",
       "      <td>Perth and Kinross</td>\n",
       "      <td>No</td>\n",
       "      <td>Yes</td>\n",
       "    </tr>\n",
       "    <tr>\n",
       "      <th>23</th>\n",
       "      <td>1911_ISCF_TFP_FS</td>\n",
       "      <td>ISCF Transforming Food Production Science and ...</td>\n",
       "      <td>ISCF TFP Science and Technology into Practice:...</td>\n",
       "      <td>Ageing Society, Health &amp; Nutrition</td>\n",
       "      <td>00048163</td>\n",
       "      <td>48163</td>\n",
       "      <td>Raspberry Auxin Soil/Subtrate Protectant (RASP)</td>\n",
       "      <td>_Phytophthora infestans_ is the pathogen that ...</td>\n",
       "      <td>2020/21</td>\n",
       "      <td>Collaborative R&amp;D</td>\n",
       "      <td>...</td>\n",
       "      <td>2'672</td>\n",
       "      <td>Active</td>\n",
       "      <td>Live</td>\n",
       "      <td>Large</td>\n",
       "      <td>CH65 4LB</td>\n",
       "      <td>North West</td>\n",
       "      <td>Cheshire and Warrington</td>\n",
       "      <td>Cheshire West and Chester</td>\n",
       "      <td>No</td>\n",
       "      <td>Yes</td>\n",
       "    </tr>\n",
       "    <tr>\n",
       "      <th>24</th>\n",
       "      <td>1909_ISCF_TFP_FFPS_CRD_RD2</td>\n",
       "      <td>ISCF Future food production systems</td>\n",
       "      <td>ISCF Future Food Production Systems</td>\n",
       "      <td>Ageing Society, Health &amp; Nutrition</td>\n",
       "      <td>00048248</td>\n",
       "      <td>48248</td>\n",
       "      <td>AGRI-SATT - Agricultural Growth using Remote-s...</td>\n",
       "      <td>The AGRI-SATT programme combines newly availab...</td>\n",
       "      <td>2020/21</td>\n",
       "      <td>Collaborative R&amp;D</td>\n",
       "      <td>...</td>\n",
       "      <td>718'464</td>\n",
       "      <td>Active</td>\n",
       "      <td>Live</td>\n",
       "      <td>Micro/Small</td>\n",
       "      <td>NW1 8NZ</td>\n",
       "      <td>London</td>\n",
       "      <td>London</td>\n",
       "      <td>Camden</td>\n",
       "      <td>No</td>\n",
       "      <td>Yes</td>\n",
       "    </tr>\n",
       "    <tr>\n",
       "      <th>25</th>\n",
       "      <td>1909_ISCF_TFP_FFPS_CRD_RD2</td>\n",
       "      <td>ISCF Future food production systems</td>\n",
       "      <td>ISCF Future Food Production Systems</td>\n",
       "      <td>Ageing Society, Health &amp; Nutrition</td>\n",
       "      <td>00048248</td>\n",
       "      <td>48248</td>\n",
       "      <td>AGRI-SATT - Agricultural Growth using Remote-s...</td>\n",
       "      <td>The AGRI-SATT programme combines newly availab...</td>\n",
       "      <td>2020/21</td>\n",
       "      <td>Collaborative R&amp;D</td>\n",
       "      <td>...</td>\n",
       "      <td>65'958</td>\n",
       "      <td>Active</td>\n",
       "      <td>Live</td>\n",
       "      <td>Academic</td>\n",
       "      <td>PA37 1QA</td>\n",
       "      <td>Scotland</td>\n",
       "      <td>NaN</td>\n",
       "      <td>Argyll and Bute</td>\n",
       "      <td>No</td>\n",
       "      <td>Yes</td>\n",
       "    </tr>\n",
       "    <tr>\n",
       "      <th>26</th>\n",
       "      <td>1909_ISCF_TFP_FFPS_CRD_RD2</td>\n",
       "      <td>ISCF Future food production systems</td>\n",
       "      <td>ISCF Future Food Production Systems</td>\n",
       "      <td>Ageing Society, Health &amp; Nutrition</td>\n",
       "      <td>00048248</td>\n",
       "      <td>48248</td>\n",
       "      <td>AGRI-SATT - Agricultural Growth using Remote-s...</td>\n",
       "      <td>The AGRI-SATT programme combines newly availab...</td>\n",
       "      <td>2020/21</td>\n",
       "      <td>Collaborative R&amp;D</td>\n",
       "      <td>...</td>\n",
       "      <td>69'587</td>\n",
       "      <td>Active</td>\n",
       "      <td>Live</td>\n",
       "      <td>Academic</td>\n",
       "      <td>SO17 1BJ</td>\n",
       "      <td>South East</td>\n",
       "      <td>Solent</td>\n",
       "      <td>Southampton</td>\n",
       "      <td>No</td>\n",
       "      <td>Yes</td>\n",
       "    </tr>\n",
       "    <tr>\n",
       "      <th>27</th>\n",
       "      <td>1911_ISCF_TFP_DEMO</td>\n",
       "      <td>ISCF TFP Science and Technology into Practice:...</td>\n",
       "      <td>ISCF TFP Science and Technology into Practice:...</td>\n",
       "      <td>Ageing Society, Health &amp; Nutrition</td>\n",
       "      <td>00048717</td>\n",
       "      <td>48717</td>\n",
       "      <td>REMEDY: REal tiME DairY. Providing solutions f...</td>\n",
       "      <td>This project involves development of a novel, ...</td>\n",
       "      <td>2020/21</td>\n",
       "      <td>Collaborative R&amp;D</td>\n",
       "      <td>...</td>\n",
       "      <td>100'884</td>\n",
       "      <td>Active</td>\n",
       "      <td>Live</td>\n",
       "      <td>Micro/Small</td>\n",
       "      <td>BA5 1DU</td>\n",
       "      <td>South West</td>\n",
       "      <td>Heart of the South West</td>\n",
       "      <td>Mendip</td>\n",
       "      <td>No</td>\n",
       "      <td>Yes</td>\n",
       "    </tr>\n",
       "    <tr>\n",
       "      <th>28</th>\n",
       "      <td>1911_ISCF_TFP_DEMO</td>\n",
       "      <td>ISCF TFP Science and Technology into Practice:...</td>\n",
       "      <td>ISCF TFP Science and Technology into Practice:...</td>\n",
       "      <td>Ageing Society, Health &amp; Nutrition</td>\n",
       "      <td>00048717</td>\n",
       "      <td>48717</td>\n",
       "      <td>REMEDY: REal tiME DairY. Providing solutions f...</td>\n",
       "      <td>This project involves development of a novel, ...</td>\n",
       "      <td>2020/21</td>\n",
       "      <td>Collaborative R&amp;D</td>\n",
       "      <td>...</td>\n",
       "      <td>66'554</td>\n",
       "      <td>Active</td>\n",
       "      <td>Live</td>\n",
       "      <td>Micro/Small</td>\n",
       "      <td>EH30 9TF</td>\n",
       "      <td>Scotland</td>\n",
       "      <td>NaN</td>\n",
       "      <td>City of Edinburgh</td>\n",
       "      <td>No</td>\n",
       "      <td>Yes</td>\n",
       "    </tr>\n",
       "    <tr>\n",
       "      <th>29</th>\n",
       "      <td>1911_ISCF_TFP_DEMO</td>\n",
       "      <td>ISCF TFP Science and Technology into Practice:...</td>\n",
       "      <td>ISCF TFP Science and Technology into Practice:...</td>\n",
       "      <td>Ageing Society, Health &amp; Nutrition</td>\n",
       "      <td>00048717</td>\n",
       "      <td>48717</td>\n",
       "      <td>REMEDY: REal tiME DairY. Providing solutions f...</td>\n",
       "      <td>This project involves development of a novel, ...</td>\n",
       "      <td>2020/21</td>\n",
       "      <td>Collaborative R&amp;D</td>\n",
       "      <td>...</td>\n",
       "      <td>23'179</td>\n",
       "      <td>Active</td>\n",
       "      <td>Live</td>\n",
       "      <td>Micro/Small</td>\n",
       "      <td>TA1 2PX</td>\n",
       "      <td>South West</td>\n",
       "      <td>Heart of the South West</td>\n",
       "      <td>Taunton Deane</td>\n",
       "      <td>No</td>\n",
       "      <td>Yes</td>\n",
       "    </tr>\n",
       "  </tbody>\n",
       "</table>\n",
       "<p>30 rows × 27 columns</p>\n",
       "</div>"
      ],
      "text/plain": [
       "            Competition Reference  \\\n",
       "0                       CATAPULTS   \n",
       "1   2010_ISCF_SSPP_FUTURE_PLASTIC   \n",
       "2   2010_ISCF_SSPP_FUTURE_PLASTIC   \n",
       "3              2008_ISCF_DER_BLUE   \n",
       "4              2008_ISCF_DER_BLUE   \n",
       "5    1910_CRD_DFID_AGRITECH_R9_MS   \n",
       "6    1910_CRD_DFID_AGRITECH_R9_MS   \n",
       "7    1910_CRD_DFID_AGRITECH_R9_MS   \n",
       "8    1910_CRD_DFID_AGRITECH_R9_MS   \n",
       "9    1910_CRD_DFID_AGRITECH_R9_ES   \n",
       "10   1910_CRD_DFID_AGRITECH_R9_ES   \n",
       "11   1910_CRD_DFID_AGRITECH_R9_ES   \n",
       "12   1910_CRD_DFID_AGRITECH_R9_ES   \n",
       "13   1910_CRD_DFID_AGRITECH_R9_ES   \n",
       "14   1910_CRD_DFID_AGRITECH_R9_MS   \n",
       "15   1910_CRD_DFID_AGRITECH_R9_MS   \n",
       "16   1910_CRD_DFID_AGRITECH_R9_MS   \n",
       "17   1910_CRD_DFID_AGRITECH_R9_MS   \n",
       "18   1910_CRD_DFID_AGRITECH_R9_MS   \n",
       "19   1910_CRD_DFID_AGRITECH_R9_MS   \n",
       "20               1911_ISCF_TFP_FS   \n",
       "21               1911_ISCF_TFP_FS   \n",
       "22               1911_ISCF_TFP_FS   \n",
       "23               1911_ISCF_TFP_FS   \n",
       "24     1909_ISCF_TFP_FFPS_CRD_RD2   \n",
       "25     1909_ISCF_TFP_FFPS_CRD_RD2   \n",
       "26     1909_ISCF_TFP_FFPS_CRD_RD2   \n",
       "27             1911_ISCF_TFP_DEMO   \n",
       "28             1911_ISCF_TFP_DEMO   \n",
       "29             1911_ISCF_TFP_DEMO   \n",
       "\n",
       "                                    Competition Title  \\\n",
       "0                                   Catapult Activity   \n",
       "1             ISCF Future Plastic Packaging Solutions   \n",
       "2             ISCF Future Plastic Packaging Solutions   \n",
       "3           Driving the Electric Revolution Blue Zone   \n",
       "4           Driving the Electric Revolution Blue Zone   \n",
       "5   448 - Agri-Tech Catalyst Round 9: Agriculture ...   \n",
       "6   448 - Agri-Tech Catalyst Round 9: Agriculture ...   \n",
       "7   448 - Agri-Tech Catalyst Round 9: Agriculture ...   \n",
       "8   448 - Agri-Tech Catalyst Round 9: Agriculture ...   \n",
       "9   447 - Agri-Tech Catalyst Round 9: Agriculture ...   \n",
       "10  447 - Agri-Tech Catalyst Round 9: Agriculture ...   \n",
       "11  447 - Agri-Tech Catalyst Round 9: Agriculture ...   \n",
       "12  447 - Agri-Tech Catalyst Round 9: Agriculture ...   \n",
       "13  447 - Agri-Tech Catalyst Round 9: Agriculture ...   \n",
       "14  448 - Agri-Tech Catalyst Round 9: Agriculture ...   \n",
       "15  448 - Agri-Tech Catalyst Round 9: Agriculture ...   \n",
       "16  448 - Agri-Tech Catalyst Round 9: Agriculture ...   \n",
       "17  448 - Agri-Tech Catalyst Round 9: Agriculture ...   \n",
       "18  448 - Agri-Tech Catalyst Round 9: Agriculture ...   \n",
       "19  448 - Agri-Tech Catalyst Round 9: Agriculture ...   \n",
       "20  ISCF Transforming Food Production Science and ...   \n",
       "21  ISCF Transforming Food Production Science and ...   \n",
       "22  ISCF Transforming Food Production Science and ...   \n",
       "23  ISCF Transforming Food Production Science and ...   \n",
       "24                ISCF Future food production systems   \n",
       "25                ISCF Future food production systems   \n",
       "26                ISCF Future food production systems   \n",
       "27  ISCF TFP Science and Technology into Practice:...   \n",
       "28  ISCF TFP Science and Technology into Practice:...   \n",
       "29  ISCF TFP Science and Technology into Practice:...   \n",
       "\n",
       "                                      Programme Title  \\\n",
       "0                Smart Factory Test Bed Pilot Sprints   \n",
       "1   SSPP Feasibility Studies & Industrial Research...   \n",
       "2   SSPP Feasibility Studies & Industrial Research...   \n",
       "3      Driving the Electric Revolution Blue Zone 2020   \n",
       "4      Driving the Electric Revolution Blue Zone 2020   \n",
       "5   Agri-Tech Catalyst Round 9: Agriculture and Fo...   \n",
       "6   Agri-Tech Catalyst Round 9: Agriculture and Fo...   \n",
       "7   Agri-Tech Catalyst Round 9: Agriculture and Fo...   \n",
       "8   Agri-Tech Catalyst Round 9: Agriculture and Fo...   \n",
       "9   Agri-Tech Catalyst Round 9: Agriculture and Fo...   \n",
       "10  Agri-Tech Catalyst Round 9: Agriculture and Fo...   \n",
       "11  Agri-Tech Catalyst Round 9: Agriculture and Fo...   \n",
       "12  Agri-Tech Catalyst Round 9: Agriculture and Fo...   \n",
       "13  Agri-Tech Catalyst Round 9: Agriculture and Fo...   \n",
       "14  Agri-Tech Catalyst Round 9: Agriculture and Fo...   \n",
       "15  Agri-Tech Catalyst Round 9: Agriculture and Fo...   \n",
       "16  Agri-Tech Catalyst Round 9: Agriculture and Fo...   \n",
       "17  Agri-Tech Catalyst Round 9: Agriculture and Fo...   \n",
       "18  Agri-Tech Catalyst Round 9: Agriculture and Fo...   \n",
       "19  Agri-Tech Catalyst Round 9: Agriculture and Fo...   \n",
       "20  ISCF TFP Science and Technology into Practice:...   \n",
       "21  ISCF TFP Science and Technology into Practice:...   \n",
       "22  ISCF TFP Science and Technology into Practice:...   \n",
       "23  ISCF TFP Science and Technology into Practice:...   \n",
       "24                ISCF Future Food Production Systems   \n",
       "25                ISCF Future Food Production Systems   \n",
       "26                ISCF Future Food Production Systems   \n",
       "27  ISCF TFP Science and Technology into Practice:...   \n",
       "28  ISCF TFP Science and Technology into Practice:...   \n",
       "29  ISCF TFP Science and Technology into Practice:...   \n",
       "\n",
       "                                 Sector Application Number  Project Number  \\\n",
       "0             Manufacturing & Materials                NaN          900185   \n",
       "1   Manufacturing, Materials & Mobility           10000497        10000497   \n",
       "2   Manufacturing, Materials & Mobility           10000638        10000638   \n",
       "3         Clean Growth & Infrastructure           00043784           43784   \n",
       "4         Clean Growth & Infrastructure           00043784           43784   \n",
       "5    Ageing Society, Health & Nutrition           00045568           45568   \n",
       "6    Ageing Society, Health & Nutrition           00045568           45568   \n",
       "7    Ageing Society, Health & Nutrition           00045568           45568   \n",
       "8    Ageing Society, Health & Nutrition           00045568           45568   \n",
       "9    Ageing Society, Health & Nutrition           00047259           47259   \n",
       "10   Ageing Society, Health & Nutrition           00047259           47259   \n",
       "11   Ageing Society, Health & Nutrition           00047259           47259   \n",
       "12   Ageing Society, Health & Nutrition           00047259           47259   \n",
       "13   Ageing Society, Health & Nutrition           00047259           47259   \n",
       "14   Ageing Society, Health & Nutrition           00047864           47864   \n",
       "15   Ageing Society, Health & Nutrition           00047864           47864   \n",
       "16   Ageing Society, Health & Nutrition           00047864           47864   \n",
       "17   Ageing Society, Health & Nutrition           00047864           47864   \n",
       "18   Ageing Society, Health & Nutrition           00047864           47864   \n",
       "19   Ageing Society, Health & Nutrition           00047864           47864   \n",
       "20   Ageing Society, Health & Nutrition           00048163           48163   \n",
       "21   Ageing Society, Health & Nutrition           00048163           48163   \n",
       "22   Ageing Society, Health & Nutrition           00048163           48163   \n",
       "23   Ageing Society, Health & Nutrition           00048163           48163   \n",
       "24   Ageing Society, Health & Nutrition           00048248           48248   \n",
       "25   Ageing Society, Health & Nutrition           00048248           48248   \n",
       "26   Ageing Society, Health & Nutrition           00048248           48248   \n",
       "27   Ageing Society, Health & Nutrition           00048717           48717   \n",
       "28   Ageing Society, Health & Nutrition           00048717           48717   \n",
       "29   Ageing Society, Health & Nutrition           00048717           48717   \n",
       "\n",
       "                                        Project Title  \\\n",
       "0                            Fast Start Pilot Sprints   \n",
       "1   Developing a solution to eliminate dish soap p...   \n",
       "2   Notpla Pearls: A seaweed based alternative to ...   \n",
       "3   MABEL – Optimising through Life Cost of Indust...   \n",
       "4   MABEL – Optimising through Life Cost of Indust...   \n",
       "5   Bee Smart: Improving yields for cashew growers...   \n",
       "6   Bee Smart: Improving yields for cashew growers...   \n",
       "7   Bee Smart: Improving yields for cashew growers...   \n",
       "8   Bee Smart: Improving yields for cashew growers...   \n",
       "9   Innovations in soil and irrigation technologie...   \n",
       "10  Innovations in soil and irrigation technologie...   \n",
       "11  Innovations in soil and irrigation technologie...   \n",
       "12  Innovations in soil and irrigation technologie...   \n",
       "13  Innovations in soil and irrigation technologie...   \n",
       "14    Data-led soil management for low income farmers   \n",
       "15    Data-led soil management for low income farmers   \n",
       "16    Data-led soil management for low income farmers   \n",
       "17    Data-led soil management for low income farmers   \n",
       "18    Data-led soil management for low income farmers   \n",
       "19    Data-led soil management for low income farmers   \n",
       "20    Raspberry Auxin Soil/Subtrate Protectant (RASP)   \n",
       "21    Raspberry Auxin Soil/Subtrate Protectant (RASP)   \n",
       "22    Raspberry Auxin Soil/Subtrate Protectant (RASP)   \n",
       "23    Raspberry Auxin Soil/Subtrate Protectant (RASP)   \n",
       "24  AGRI-SATT - Agricultural Growth using Remote-s...   \n",
       "25  AGRI-SATT - Agricultural Growth using Remote-s...   \n",
       "26  AGRI-SATT - Agricultural Growth using Remote-s...   \n",
       "27  REMEDY: REal tiME DairY. Providing solutions f...   \n",
       "28  REMEDY: REal tiME DairY. Providing solutions f...   \n",
       "29  REMEDY: REal tiME DairY. Providing solutions f...   \n",
       "\n",
       "                                   Public Description Competition Year  \\\n",
       "0                                                 NaN          2021/22   \n",
       "1   Homethings is a producer of household cleaning...          2021/22   \n",
       "2   The world's annual consumption of plastics has...          2021/22   \n",
       "3   MABEL comprises seven work packages aimed at i...          2020/21   \n",
       "4   MABEL comprises seven work packages aimed at i...          2020/21   \n",
       "5   Honeybees are vital pollinators, both to the a...          2020/21   \n",
       "6   Honeybees are vital pollinators, both to the a...          2020/21   \n",
       "7   Honeybees are vital pollinators, both to the a...          2020/21   \n",
       "8   Honeybees are vital pollinators, both to the a...          2020/21   \n",
       "9   Cultivating high-value vegetables for both nat...          2020/21   \n",
       "10  Cultivating high-value vegetables for both nat...          2020/21   \n",
       "11  Cultivating high-value vegetables for both nat...          2020/21   \n",
       "12  Cultivating high-value vegetables for both nat...          2020/21   \n",
       "13  Cultivating high-value vegetables for both nat...          2020/21   \n",
       "14  Soil degradation is 'one of the most pressing ...          2020/21   \n",
       "15  Soil degradation is 'one of the most pressing ...          2020/21   \n",
       "16  Soil degradation is 'one of the most pressing ...          2020/21   \n",
       "17  Soil degradation is 'one of the most pressing ...          2020/21   \n",
       "18  Soil degradation is 'one of the most pressing ...          2020/21   \n",
       "19  Soil degradation is 'one of the most pressing ...          2020/21   \n",
       "20  _Phytophthora infestans_ is the pathogen that ...          2020/21   \n",
       "21  _Phytophthora infestans_ is the pathogen that ...          2020/21   \n",
       "22  _Phytophthora infestans_ is the pathogen that ...          2020/21   \n",
       "23  _Phytophthora infestans_ is the pathogen that ...          2020/21   \n",
       "24  The AGRI-SATT programme combines newly availab...          2020/21   \n",
       "25  The AGRI-SATT programme combines newly availab...          2020/21   \n",
       "26  The AGRI-SATT programme combines newly availab...          2020/21   \n",
       "27  This project involves development of a novel, ...          2020/21   \n",
       "28  This project involves development of a novel, ...          2020/21   \n",
       "29  This project involves development of a novel, ...          2020/21   \n",
       "\n",
       "   Innovate UK \\nProduct Type  ...  Actual Spend to Date (£)   \\\n",
       "0           Collaborative R&D  ...                         -    \n",
       "1         Feasibility Studies  ...                         -    \n",
       "2         Feasibility Studies  ...                         -    \n",
       "3           Collaborative R&D  ...                    19'537    \n",
       "4           Collaborative R&D  ...                         -    \n",
       "5         Feasibility Studies  ...                    26'118    \n",
       "6         Feasibility Studies  ...                     7'277    \n",
       "7         Feasibility Studies  ...                    27'153    \n",
       "8         Feasibility Studies  ...                     3'012    \n",
       "9         Feasibility Studies  ...                    14'481    \n",
       "10        Feasibility Studies  ...                     1'413    \n",
       "11        Feasibility Studies  ...                         -    \n",
       "12        Feasibility Studies  ...                         -    \n",
       "13        Feasibility Studies  ...                       580    \n",
       "14        Feasibility Studies  ...                   128'320    \n",
       "15        Feasibility Studies  ...                    40'884    \n",
       "16        Feasibility Studies  ...                    12'689    \n",
       "17        Feasibility Studies  ...                     1'966    \n",
       "18        Feasibility Studies  ...                         -    \n",
       "19        Feasibility Studies  ...                     2'091    \n",
       "20          Collaborative R&D  ...                    20'306    \n",
       "21          Collaborative R&D  ...                     3'434    \n",
       "22          Collaborative R&D  ...                       472    \n",
       "23          Collaborative R&D  ...                     2'672    \n",
       "24          Collaborative R&D  ...                   718'464    \n",
       "25          Collaborative R&D  ...                    65'958    \n",
       "26          Collaborative R&D  ...                    69'587    \n",
       "27          Collaborative R&D  ...                   100'884    \n",
       "28          Collaborative R&D  ...                    66'554    \n",
       "29          Collaborative R&D  ...                    23'179    \n",
       "\n",
       "   Participant Withdrawn From Project Project Status Enterprise Size  \\\n",
       "0                              Active           Live        Catapult   \n",
       "1                              Active           Live     Micro/Small   \n",
       "2                              Active           Live     Micro/Small   \n",
       "3                              Active           Live          Medium   \n",
       "4                              Active           Live        Academic   \n",
       "5                              Active           Live     Micro/Small   \n",
       "6                              Active           Live        Academic   \n",
       "7                              Active           Live             PSO   \n",
       "8                              Active           Live             RTO   \n",
       "9                              Active           Live        Academic   \n",
       "10                             Active           Live           Large   \n",
       "11                             Active           Live           Large   \n",
       "12                             Active           Live           Large   \n",
       "13                             Active           Live             PSO   \n",
       "14                             Active           Live     Micro/Small   \n",
       "15                             Active           Live        Academic   \n",
       "16                             Active           Live             PSO   \n",
       "17                             Active           Live     Micro/Small   \n",
       "18                             Active           Live     Micro/Small   \n",
       "19                             Active           Live           Large   \n",
       "20                             Active           Live        Academic   \n",
       "21                             Active           Live           Large   \n",
       "22                             Active           Live     Micro/Small   \n",
       "23                             Active           Live           Large   \n",
       "24                             Active           Live     Micro/Small   \n",
       "25                             Active           Live        Academic   \n",
       "26                             Active           Live        Academic   \n",
       "27                             Active           Live     Micro/Small   \n",
       "28                             Active           Live     Micro/Small   \n",
       "29                             Active           Live     Micro/Small   \n",
       "\n",
       "    Postcode   Address Region                      Address LEP  \\\n",
       "0    B90 8AD    West Midlands  Greater Birmingham and Solihull   \n",
       "1   WC2H 9JQ           London                           London   \n",
       "2     E9 5EN           London                           London   \n",
       "3   NE11 0QD       North East                    North Eastern   \n",
       "4    NE1 7RU       North East                    North Eastern   \n",
       "5    KT2 6DZ           London                           London   \n",
       "6    KT1 2EE           London                           London   \n",
       "7        NaN       Outside UK                              NaN   \n",
       "8        NaN       Outside UK                              NaN   \n",
       "9   MK43 0AL  East of England              South East Midlands   \n",
       "10  PO21 3PX       South East                 Coast to Capital   \n",
       "11       NaN       Outside UK                              NaN   \n",
       "12       NaN       Outside UK                              NaN   \n",
       "13  CF11 9LJ            Wales                              NaN   \n",
       "14    E2 7AP           London                           London   \n",
       "15  MK43 0AL  East of England              South East Midlands   \n",
       "16    E2 8EX           London                           London   \n",
       "17       NaN       Outside UK                              NaN   \n",
       "18   SE1 2ES           London                           London   \n",
       "19  EC4Y 0DY           London                           London   \n",
       "20   DD2 5DA         Scotland                              NaN   \n",
       "21   DD2 5DA         Scotland                              NaN   \n",
       "22  PH10 7BJ         Scotland                              NaN   \n",
       "23  CH65 4LB       North West          Cheshire and Warrington   \n",
       "24   NW1 8NZ           London                           London   \n",
       "25  PA37 1QA         Scotland                              NaN   \n",
       "26  SO17 1BJ       South East                           Solent   \n",
       "27   BA5 1DU       South West          Heart of the South West   \n",
       "28  EH30 9TF         Scotland                              NaN   \n",
       "29   TA1 2PX       South West          Heart of the South West   \n",
       "\n",
       "      Address Local Authority In Multiple LEPs  \\\n",
       "0                    Solihull               No   \n",
       "1                      Camden               No   \n",
       "2               Tower Hamlets               No   \n",
       "3                   Gateshead               No   \n",
       "4         Newcastle upon Tyne               No   \n",
       "5        Kingston upon Thames               No   \n",
       "6        Kingston upon Thames               No   \n",
       "7                         NaN               No   \n",
       "8                         NaN               No   \n",
       "9        Central Bedfordshire               No   \n",
       "10                       Arun               No   \n",
       "11                        NaN               No   \n",
       "12                        NaN               No   \n",
       "13                    Cardiff               No   \n",
       "14              Tower Hamlets               No   \n",
       "15       Central Bedfordshire               No   \n",
       "16                    Hackney               No   \n",
       "17                        NaN               No   \n",
       "18                  Southwark               No   \n",
       "19             City of London               No   \n",
       "20          Perth and Kinross               No   \n",
       "21          Perth and Kinross               No   \n",
       "22          Perth and Kinross               No   \n",
       "23  Cheshire West and Chester               No   \n",
       "24                     Camden               No   \n",
       "25            Argyll and Bute               No   \n",
       "26                Southampton               No   \n",
       "27                     Mendip               No   \n",
       "28          City of Edinburgh               No   \n",
       "29              Taunton Deane               No   \n",
       "\n",
       "   Industrial Strategy Challenge Fund (ISCF)  \n",
       "0                                        Yes  \n",
       "1                                        Yes  \n",
       "2                                        Yes  \n",
       "3                                        Yes  \n",
       "4                                        Yes  \n",
       "5                                         No  \n",
       "6                                         No  \n",
       "7                                         No  \n",
       "8                                         No  \n",
       "9                                         No  \n",
       "10                                        No  \n",
       "11                                        No  \n",
       "12                                        No  \n",
       "13                                        No  \n",
       "14                                        No  \n",
       "15                                        No  \n",
       "16                                        No  \n",
       "17                                        No  \n",
       "18                                        No  \n",
       "19                                        No  \n",
       "20                                       Yes  \n",
       "21                                       Yes  \n",
       "22                                       Yes  \n",
       "23                                       Yes  \n",
       "24                                       Yes  \n",
       "25                                       Yes  \n",
       "26                                       Yes  \n",
       "27                                       Yes  \n",
       "28                                       Yes  \n",
       "29                                       Yes  \n",
       "\n",
       "[30 rows x 27 columns]"
      ]
     },
     "execution_count": 31,
     "metadata": {},
     "output_type": "execute_result"
    }
   ],
   "source": [
    "innovateUK.head(30)#we have CRN - Company Registry Number"
   ]
  },
  {
   "cell_type": "code",
   "execution_count": 32,
   "metadata": {},
   "outputs": [],
   "source": [
    "CRN = innovateUK['CRN'] #create a series with all company numbers which were supported by innovateUK since 2014\n",
    "CRN.dropna(inplace=True)"
   ]
  },
  {
   "cell_type": "code",
   "execution_count": 33,
   "metadata": {},
   "outputs": [],
   "source": [
    "#keep the companies which are in CRN only\n",
    "innovateUK_TS = df_links_tdc_comb[df_links_tdc_comb['CompanyNumber'].isin(CRN)].copy()"
   ]
  },
  {
   "cell_type": "code",
   "execution_count": 34,
   "metadata": {},
   "outputs": [
    {
     "data": {
      "text/plain": [
       "6570"
      ]
     },
     "execution_count": 34,
     "metadata": {},
     "output_type": "execute_result"
    }
   ],
   "source": [
    "innovateUK_TS['isInnovative'] = 1 #all companies in this df are \"innovative\"\n",
    "innovateUK_TS['Origin'] = 'innovateUK' #add the origine for later to know\n",
    "len(innovateUK_TS)"
   ]
  },
  {
   "cell_type": "markdown",
   "metadata": {},
   "source": [
    "As there are many companies, we will take a random 1500 companies from the dataset."
   ]
  },
  {
   "cell_type": "code",
   "execution_count": 35,
   "metadata": {},
   "outputs": [],
   "source": [
    "InnovateUK_TS_Final = innovateUK_TS.sample(1500)#pick randomly 1500 rows"
   ]
  },
  {
   "cell_type": "code",
   "execution_count": 36,
   "metadata": {},
   "outputs": [
    {
     "data": {
      "text/plain": [
       "1500"
      ]
     },
     "execution_count": 36,
     "metadata": {},
     "output_type": "execute_result"
    }
   ],
   "source": [
    "len(InnovateUK_TS_Final)#was successful"
   ]
  },
  {
   "cell_type": "markdown",
   "metadata": {},
   "source": [
    "## 8.3 Training Set prior Website Text"
   ]
  },
  {
   "cell_type": "code",
   "execution_count": 37,
   "metadata": {},
   "outputs": [],
   "source": [
    "TrainingSet1 = pd.concat([Links_TS1, InnovateUK_TS_Final])#concat the two training sets"
   ]
  },
  {
   "cell_type": "code",
   "execution_count": 38,
   "metadata": {},
   "outputs": [
    {
     "data": {
      "text/plain": [
       "16702"
      ]
     },
     "execution_count": 38,
     "metadata": {},
     "output_type": "execute_result"
    }
   ],
   "source": [
    "len(TrainingSet1)"
   ]
  },
  {
   "cell_type": "code",
   "execution_count": 39,
   "metadata": {},
   "outputs": [],
   "source": [
    "TrainingSet2 = pd.concat([Links_TS2, InnovateUK_TS_Final])#concat the two training sets"
   ]
  },
  {
   "cell_type": "code",
   "execution_count": 40,
   "metadata": {},
   "outputs": [
    {
     "data": {
      "text/plain": [
       "4536"
      ]
     },
     "execution_count": 40,
     "metadata": {},
     "output_type": "execute_result"
    }
   ],
   "source": [
    "len(TrainingSet2)"
   ]
  },
  {
   "cell_type": "code",
   "execution_count": 41,
   "metadata": {},
   "outputs": [],
   "source": [
    "TrainingSet3 = pd.concat([Links_TS3, InnovateUK_TS_Final])#concat the two training sets"
   ]
  },
  {
   "cell_type": "code",
   "execution_count": 42,
   "metadata": {},
   "outputs": [
    {
     "data": {
      "text/plain": [
       "16701"
      ]
     },
     "execution_count": 42,
     "metadata": {},
     "output_type": "execute_result"
    }
   ],
   "source": [
    "len(TrainingSet3)"
   ]
  },
  {
   "cell_type": "code",
   "execution_count": 59,
   "metadata": {},
   "outputs": [],
   "source": [
    "TrainingSet4 = Links_TS4.copy()#concat the two training sets"
   ]
  },
  {
   "cell_type": "code",
   "execution_count": 60,
   "metadata": {},
   "outputs": [
    {
     "data": {
      "text/plain": [
       "30402"
      ]
     },
     "execution_count": 60,
     "metadata": {},
     "output_type": "execute_result"
    }
   ],
   "source": [
    "len(TrainingSet4)"
   ]
  },
  {
   "cell_type": "markdown",
   "metadata": {},
   "source": [
    "# 9 Final Trainingset incl. WebText"
   ]
  },
  {
   "cell_type": "markdown",
   "metadata": {},
   "source": [
    "Now we will read in the website text of all companies and clean the website text. As the text is received relatively clean already and an initial lit review showed there is no absolute advantage of extensive cleaning such as stemming, the author will avoid such methods.\n",
    "\n",
    "All steps will be carried out four times to prepare the four distinct training sets."
   ]
  },
  {
   "cell_type": "markdown",
   "metadata": {},
   "source": [
    "#### TrainingSet 1"
   ]
  },
  {
   "cell_type": "code",
   "execution_count": 45,
   "metadata": {},
   "outputs": [],
   "source": [
    "#create a list with all company numbers\n",
    "company_nums = TrainingSet1['CompanyNumber']\n",
    "\n",
    "#create an empty list for the dtaframes\n",
    "dataframes = []\n",
    "\n",
    "#open the connection to the database\n",
    "con = sqlite3.connect(\"/Users/Michael/Desktop/OrganisationMLLite_Mar2021.db\")\n",
    "\n",
    "#loop over each row in the database to avoid loading everything into memory and the kernel from dying\n",
    "for company_num in company_nums:\n",
    "    webtext = pd.read_sql_query(f'SELECT CompanyNumber, CompanyWebText FROM OrganisationML WHERE CompanyNumber == \"{company_num}\"', con)\n",
    "    dataframes.append(webtext)#add the row to the list of dataframes\n",
    "    \n",
    "all_data1 = pd.concat(dataframes)#concat all dataframes together\n",
    "\n",
    "#close the database connection\n",
    "con.close()"
   ]
  },
  {
   "cell_type": "code",
   "execution_count": 46,
   "metadata": {},
   "outputs": [],
   "source": [
    "#check, did we get the entire text?\n",
    "#all_data[\"CompanyWebText\"].iloc[1] #the db only holds the first 50K characters and not entire text"
   ]
  },
  {
   "cell_type": "code",
   "execution_count": 47,
   "metadata": {},
   "outputs": [],
   "source": [
    "final1 = all_data1.merge(TrainingSet1, on=\"CompanyNumber\", how='inner')#add all_data and website text"
   ]
  },
  {
   "cell_type": "code",
   "execution_count": 48,
   "metadata": {},
   "outputs": [],
   "source": [
    "final1.to_csv('/Users/Michael/Library/Mobile Documents/com~apple~CloudDocs/Universität/UCL/Programming/MasterThesis/Data/final1.csv', index=False)\n"
   ]
  },
  {
   "cell_type": "markdown",
   "metadata": {},
   "source": [
    "#### Trainingset 2"
   ]
  },
  {
   "cell_type": "code",
   "execution_count": 49,
   "metadata": {},
   "outputs": [],
   "source": [
    "#create a list with all company numbers\n",
    "company_nums = TrainingSet2['CompanyNumber']\n",
    "\n",
    "#create an empty list for the dtaframes\n",
    "dataframes = []\n",
    "\n",
    "#open the connection to the database\n",
    "con = sqlite3.connect(\"/Users/Michael/Desktop/OrganisationMLLite_Mar2021.db\")\n",
    "\n",
    "#loop over each row in the database to avoid loading everything into memory and the kernel from dying\n",
    "for company_num in company_nums:\n",
    "    webtext = pd.read_sql_query(f'SELECT CompanyNumber, CompanyWebText FROM OrganisationML WHERE CompanyNumber == \"{company_num}\"', con)\n",
    "    dataframes.append(webtext)#add the row to the list of dataframes\n",
    "    \n",
    "all_data2 = pd.concat(dataframes)#concat all dataframes together\n",
    "\n",
    "#close the database connection\n",
    "con.close()"
   ]
  },
  {
   "cell_type": "code",
   "execution_count": 50,
   "metadata": {},
   "outputs": [],
   "source": [
    "final2 = all_data2.merge(TrainingSet2, on=\"CompanyNumber\", how='inner')#add all_data and website text"
   ]
  },
  {
   "cell_type": "code",
   "execution_count": 51,
   "metadata": {},
   "outputs": [],
   "source": [
    "final2.to_csv('/Users/Michael/Library/Mobile Documents/com~apple~CloudDocs/Universität/UCL/Programming/MasterThesis/Data/final2.csv', index=False)\n"
   ]
  },
  {
   "cell_type": "markdown",
   "metadata": {},
   "source": [
    "#### Trainingset 3"
   ]
  },
  {
   "cell_type": "code",
   "execution_count": 52,
   "metadata": {},
   "outputs": [],
   "source": [
    "#create a list with all company numbers\n",
    "company_nums = TrainingSet3['CompanyNumber']\n",
    "\n",
    "#create an empty list for the dtaframes\n",
    "dataframes = []\n",
    "\n",
    "#open the connection to the database\n",
    "con = sqlite3.connect(\"/Users/Michael/Desktop/OrganisationMLLite_Mar2021.db\")\n",
    "\n",
    "#loop over each row in the database to avoid loading everything into memory and the kernel from dying\n",
    "for company_num in company_nums:\n",
    "    webtext = pd.read_sql_query(f'SELECT CompanyNumber, CompanyWebText FROM OrganisationML WHERE CompanyNumber == \"{company_num}\"', con)\n",
    "    dataframes.append(webtext)#add the row to the list of dataframes\n",
    "    \n",
    "all_data3 = pd.concat(dataframes)#concat all dataframes together\n",
    "\n",
    "#close the database connection\n",
    "con.close()"
   ]
  },
  {
   "cell_type": "code",
   "execution_count": 53,
   "metadata": {},
   "outputs": [],
   "source": [
    "final3 = all_data3.merge(TrainingSet3, on=\"CompanyNumber\", how='inner')#add all_data and website text"
   ]
  },
  {
   "cell_type": "code",
   "execution_count": 54,
   "metadata": {},
   "outputs": [],
   "source": [
    "final3.to_csv('/Users/Michael/Library/Mobile Documents/com~apple~CloudDocs/Universität/UCL/Programming/MasterThesis/Data/final3.csv', index=False)\n"
   ]
  },
  {
   "cell_type": "markdown",
   "metadata": {},
   "source": [
    "#### Trainingset 4"
   ]
  },
  {
   "cell_type": "code",
   "execution_count": 61,
   "metadata": {},
   "outputs": [],
   "source": [
    "#create a list with all company numbers\n",
    "company_nums = TrainingSet4['CompanyNumber']\n",
    "\n",
    "#create an empty list for the dtaframes\n",
    "dataframes = []\n",
    "\n",
    "#open the connection to the database\n",
    "con = sqlite3.connect(\"/Users/Michael/Desktop/OrganisationMLLite_Mar2021.db\")\n",
    "\n",
    "#loop over each row in the database to avoid loading everything into memory and the kernel from dying\n",
    "for company_num in company_nums:\n",
    "    webtext = pd.read_sql_query(f'SELECT CompanyNumber, CompanyWebText FROM OrganisationML WHERE CompanyNumber == \"{company_num}\"', con)\n",
    "    dataframes.append(webtext)#add the row to the list of dataframes\n",
    "    \n",
    "all_data4 = pd.concat(dataframes)#concat all dataframes together\n",
    "\n",
    "#close the database connection\n",
    "con.close()"
   ]
  },
  {
   "cell_type": "code",
   "execution_count": 62,
   "metadata": {},
   "outputs": [],
   "source": [
    "final4 = all_data4.merge(TrainingSet4, on=\"CompanyNumber\", how='inner')#add all_data and website text"
   ]
  },
  {
   "cell_type": "code",
   "execution_count": 63,
   "metadata": {},
   "outputs": [],
   "source": [
    "final4.to_csv('/Users/Michael/Library/Mobile Documents/com~apple~CloudDocs/Universität/UCL/Programming/MasterThesis/Data/final4.csv', index=False)\n"
   ]
  },
  {
   "cell_type": "code",
   "execution_count": null,
   "metadata": {},
   "outputs": [],
   "source": []
  }
 ],
 "metadata": {
  "kernelspec": {
   "display_name": "Python 3",
   "language": "python",
   "name": "python3"
  },
  "language_info": {
   "codemirror_mode": {
    "name": "ipython",
    "version": 3
   },
   "file_extension": ".py",
   "mimetype": "text/x-python",
   "name": "python",
   "nbconvert_exporter": "python",
   "pygments_lexer": "ipython3",
   "version": "3.8.3"
  }
 },
 "nbformat": 4,
 "nbformat_minor": 4
}
